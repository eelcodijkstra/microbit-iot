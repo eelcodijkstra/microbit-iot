{
 "cells": [
  {
   "cell_type": "markdown",
   "id": "3a82a9d7-14af-4fb1-8af8-b0c885848035",
   "metadata": {},
   "source": [
    "# Restmateriaal"
   ]
  },
  {
   "cell_type": "markdown",
   "id": "2fb9acc9-7217-4e0b-af60-a65a730ed2bb",
   "metadata": {},
   "source": [
    "We onderzoeken hier verschillende mogelijkheden voor het maken van een dergelijke gateway:\n",
    "\n",
    "* computer (bijv. Raspberry Pi) via USB verbonden met een microbit\n",
    "* microbit met WiFi radio (elecfreaks iot-bit\n",
    "\n",
    "De Elecfreaks iot-bit wordt gewoonlijk gebruikt om een enkele microbit te verbinden met het internet. Maar we kunnen deze ook programmeren als gateway, om een lokaal microbit-netwerk te verbinden met het internet.\n",
    "\n",
    "Voor het gebruik van een gateway in een *schoolnetwerk* moet deze aan een aantal extra eisen voldoen:\n",
    "\n",
    "* geen gebruik van andere poorten dan 80 en 433 (http, https); veel andere poorten en protocollen zijn vaak geblokkeerd;\n",
    "* voor een WiFi verbinding: de mogelijkheid om te verbinden met een netwerk met een wachtwoord per computer (of per gebruiker), in plaats van een wachtwoord voor het hele netwerk.\n",
    "* (een alternatief is het gebruik van een bedraad netwerk; dan heb je niet het probleem dat je moet inloggen op het netwerk.\n",
    "\n",
    "Voor het verbinden van de IoT-gateway met het internet gebruiken we meestal het MQTT protocol; dit biedt symmetrische \"publish-subscribe\" communicatie mogelijk, in tegenstelling tot de client-server communicatie van HTTP.\n",
    "Het MQTT protocol gebruikt gewoonlijk een TCP-verbinding via de poorten 1883/1884. Maar het is tegenwoordig ook mogelijk om een \"websockets\" (HTTP) verbinding te gebruiken als transportlaag voor MQTT. Daarmee omzeil je de poort-beperkingen van een schoolnetwerk."
   ]
  },
  {
   "cell_type": "markdown",
   "id": "8598b137-c94e-46bb-8c44-82a4b773cd82",
   "metadata": {},
   "source": [
    "---"
   ]
  },
  {
   "cell_type": "markdown",
   "id": "85c1a1f4-4eb6-4015-aee9-d6a477a9653c",
   "metadata": {},
   "source": [
    "## Uit het overzicht."
   ]
  },
  {
   "cell_type": "markdown",
   "id": "c9568c37-4b9c-45c9-bb83-f9afe45f17ab",
   "metadata": {},
   "source": [
    "### Bijeenkomst 1"
   ]
  },
  {
   "cell_type": "markdown",
   "id": "cbee150a-4352-4c5b-b5b2-c9982836d485",
   "metadata": {},
   "source": [
    "* wat is het internet of things? - als ontwikkeling van het internet, na het web.\n",
    "* waarom het internet of things? - slimme oplossingen, betere beslissingen\n",
    "* hoe het internet of things? - onderdelen en hun verbindingen, relaties\n",
    "    * eerst als functionele onderdelen (\"eindapparaten\" vanuit het netwerk gezien)\n",
    "    * dan met verbindingen en verbindingsapparaten\n",
    "* opbouw van een IoT-knoop - \n",
    "* protocollen: MQTT;\n",
    "* MQTT - publish/subscribe principe; topic, payload keuzes (JSON)\n",
    "* draadloze IoT-knopen: keuze van een radio\n",
    "    * hier: microbit-radio (met eigenschappen)"
   ]
  },
  {
   "cell_type": "markdown",
   "id": "08fa5eb2-44d9-465e-bd6e-404ef01bdb20",
   "metadata": {},
   "source": [
    "Praktische opdrachten:\n",
    "\n",
    "* MQTT - publish/subscribe (oefenen met MQT3)\n",
    "* NodeRed - \n",
    "* microbit IoT-knoop, microbit (pakket) radio\n",
    "    * programmeren van de microbit IoT-knoop (te volgen via host)\n",
    "    * programmeren van de logger-knoop (als beschikbaar\n",
    "    * LPP formaat; en (via logger) JSON formaat\n",
    "    * volgende keer: verbinden aan het internet (MQTT)"
   ]
  },
  {
   "cell_type": "markdown",
   "id": "160619c9-f2cc-4efd-805a-b631718a2de8",
   "metadata": {},
   "source": [
    "### Bijeenkomst 2"
   ]
  },
  {
   "cell_type": "markdown",
   "id": "7cc4f46a-4cfc-41d9-a92f-b4c884994930",
   "metadata": {},
   "source": [
    "* gateway: functie, opbouw; protocollen\n",
    "* MQTT: adressering van knopen, (sensoren?); netwerk?; "
   ]
  },
  {
   "cell_type": "markdown",
   "id": "a11335c9-e722-4e7a-a2b4-380f5d1b92a8",
   "metadata": {},
   "source": [
    "Praktische opdrachten:\n",
    "\n",
    "* programmeren (installeren) van de gateway; experimenteren met het lokale netwerk en MQTT\n",
    "* NodeRed: monitoring van het IoT-netwerk\n",
    "* NodeRed: MQTT verbindingen; publish, subscribe in NodeRed\n",
    "* NodeRed: interpreteren van JSON-berichten; dashboard"
   ]
  },
  {
   "cell_type": "markdown",
   "id": "c42903b1-6835-455d-9eb9-181727e94867",
   "metadata": {},
   "source": [
    "### Bijeenkomst 3"
   ]
  },
  {
   "cell_type": "markdown",
   "id": "dfcaaf21-fcb8-4369-937f-fef1381e1aec",
   "metadata": {},
   "source": [
    "* (automatisch) sturen: controllers\n",
    "    * NodeRed als voorbeeld\n",
    "* koppelen van sensoren en actuatoren; sturen"
   ]
  },
  {
   "cell_type": "markdown",
   "id": "1d6f6633-a60a-4ca4-9dc6-514e8cee49ab",
   "metadata": {},
   "source": [
    "Praktische opdrachten:\n",
    "\n",
    "* NodeRed: (automatisch) sturen (condities in flows)"
   ]
  },
  {
   "cell_type": "markdown",
   "id": "875f5746-8470-469b-85c6-da3c45c31412",
   "metadata": {},
   "source": [
    "### Open punten\n",
    "\n",
    "* user interface, dashboard\n",
    "* opslag van sensor-gegevens\n",
    "    * per knoop? of per sensor? (of allebeide?)\n",
    "* identificatie van sensoren - (en van knopen); op het niveau van de toepassing\n",
    "* "
   ]
  },
  {
   "cell_type": "markdown",
   "id": "1dfbc6fd-b38a-4a9d-b6e6-e1b8c430189a",
   "metadata": {},
   "source": [
    "### Opdrachten"
   ]
  },
  {
   "cell_type": "markdown",
   "id": "aca98d0b-3b86-42c9-a0f1-4761737e2ec2",
   "metadata": {},
   "source": [
    "Eerste bijeenkomst:\n",
    "\n",
    "* kennismaking MQTT (vooral via web-app)\n",
    "* kennismaking JSON (idem; )\n",
    "* kennismaking NodeRed (met JSON, MQTT berichten)\n",
    "* kennismaking LPP (binaire codering)"
   ]
  },
  {
   "cell_type": "markdown",
   "id": "c22a19cb-9437-4c6b-953c-0bcb1f2d4cb3",
   "metadata": {},
   "source": [
    "| opdracht | omschrijving |\n",
    "|:--       | :---         |\n",
    "| **mqtt**     |  |\n",
    "| x.x      | chat-0: mqtt publish/subscribe via web-app |\n",
    "| x.x      | chat-1: mqtt publish/subscribe, met topic en wildcard |\n",
    "| x.x.     | sensors en actuators: mqtt publish/subscribe, via web-app |\n",
    "| **nodered** | |\n",
    "| b.b      | ontvangen en verwerken van elementaire berichten, koppelen |\n",
    "| b.b      | ontvangen van mqtt-berichten (nb: in JSON) |\n",
    "| **lpp**         |              |\n",
    "| a.a      | lpp gecodeerde berichten via pakketradio (radio logger) |\n",
    "| a.a      | lpp omgezet naar json (radio logger) |"
   ]
  },
  {
   "cell_type": "markdown",
   "id": "e9cc7007-ba70-41d2-9b01-a7f8db4c58ff",
   "metadata": {},
   "source": [
    "NodeRed is een *controller* waarmee je de verschillende onderdelen (en protocollen) van de IoT-keten aan elkaar kunt koppelen."
   ]
  },
  {
   "cell_type": "markdown",
   "id": "80d751b7-1c34-403f-8784-d14b44a9f954",
   "metadata": {},
   "source": [
    "Tweede bijeenkomst:\n",
    "\n",
    "* nadruk op de gateway,\n",
    "* verwerken van de sensordata (dashboard?)\n",
    "* omzetten van JSON in LPP (v.v.)"
   ]
  },
  {
   "cell_type": "markdown",
   "id": "750fb683-f650-4ff3-b519-4c746d0a1c7b",
   "metadata": {},
   "source": [
    "| opdracht | omschrijving |\n",
    "|:--       | :---         |\n",
    "| **mqtt**     |  |\n",
    "| x.x      | chat-0: mqtt publish/subscribe via web-app |\n",
    "| x.x      | chat-1: mqtt publish/subscribe, met topic en wildcard |\n",
    "| x.x.     | sensors en actuators: mqtt publish/subscribe, via web-app |\n",
    "| **nodered** | |\n",
    "| b.b      | ontvangen en verwerken van elementaire berichten, koppelen |\n",
    "| b.b      | ontvangen van mqtt-berichten (nb: in JSON) |\n",
    "| **lpp**         |              |\n",
    "| a.a      | lpp gecodeerde berichten via pakketradio (radio logger) |\n",
    "| a.a      | lpp omgezet naar json (radio logger) |"
   ]
  },
  {
   "cell_type": "markdown",
   "id": "2484e43d-a2f2-4be5-9391-dec84fa65b58",
   "metadata": {},
   "source": [
    "Derde bijeenkomst:\n",
    "\n",
    "* sturen met NodeRed\n",
    "* "
   ]
  },
  {
   "cell_type": "markdown",
   "id": "b315cf47-2388-4112-bafd-6f9689fb3fe8",
   "metadata": {},
   "source": [
    "| opdracht | omschrijving |\n",
    "|:--       | :---         |\n",
    "| **mqtt**     |  |\n",
    "| x.x      | chat-0: mqtt publish/subscribe via web-app |\n",
    "| x.x      | chat-1: mqtt publish/subscribe, met topic en wildcard |\n",
    "| x.x.     | sensors en actuators: mqtt publish/subscribe, via web-app |\n",
    "| **nodered** | |\n",
    "| b.b      | ontvangen en verwerken van elementaire berichten, koppelen |\n",
    "| b.b      | ontvangen van mqtt-berichten (nb: in JSON) |\n",
    "| **lpp**         |              |\n",
    "| a.a      | lpp gecodeerde berichten via pakketradio (radio logger) |\n",
    "| a.a      | lpp omgezet naar json (radio logger) |"
   ]
  }
 ],
 "metadata": {
  "kernelspec": {
   "display_name": "Python 3 (ipykernel)",
   "language": "python",
   "name": "python3"
  },
  "language_info": {
   "codemirror_mode": {
    "name": "ipython",
    "version": 3
   },
   "file_extension": ".py",
   "mimetype": "text/x-python",
   "name": "python",
   "nbconvert_exporter": "python",
   "pygments_lexer": "ipython3",
   "version": "3.10.11"
  }
 },
 "nbformat": 4,
 "nbformat_minor": 5
}
