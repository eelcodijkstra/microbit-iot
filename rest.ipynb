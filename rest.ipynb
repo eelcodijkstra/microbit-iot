{
 "cells": [
  {
   "cell_type": "markdown",
   "id": "3a82a9d7-14af-4fb1-8af8-b0c885848035",
   "metadata": {},
   "source": [
    "# Restmateriaal"
   ]
  },
  {
   "cell_type": "markdown",
   "id": "2fb9acc9-7217-4e0b-af60-a65a730ed2bb",
   "metadata": {},
   "source": [
    "We onderzoeken hier verschillende mogelijkheden voor het maken van een dergelijke gateway:\n",
    "\n",
    "* computer (bijv. Raspberry Pi) via USB verbonden met een microbit\n",
    "* microbit met WiFi radio (elecfreaks iot-bit\n",
    "\n",
    "De Elecfreaks iot-bit wordt gewoonlijk gebruikt om een enkele microbit te verbinden met het internet. Maar we kunnen deze ook programmeren als gateway, om een lokaal microbit-netwerk te verbinden met het internet.\n",
    "\n",
    "Voor het gebruik van een gateway in een *schoolnetwerk* moet deze aan een aantal extra eisen voldoen:\n",
    "\n",
    "* geen gebruik van andere poorten dan 80 en 433 (http, https); veel andere poorten en protocollen zijn vaak geblokkeerd;\n",
    "* voor een WiFi verbinding: de mogelijkheid om te verbinden met een netwerk met een wachtwoord per computer (of per gebruiker), in plaats van een wachtwoord voor het hele netwerk.\n",
    "* (een alternatief is het gebruik van een bedraad netwerk; dan heb je niet het probleem dat je moet inloggen op het netwerk.\n",
    "\n",
    "Voor het verbinden van de IoT-gateway met het internet gebruiken we meestal het MQTT protocol; dit biedt symmetrische \"publish-subscribe\" communicatie mogelijk, in tegenstelling tot de client-server communicatie van HTTP.\n",
    "Het MQTT protocol gebruikt gewoonlijk een TCP-verbinding via de poorten 1883/1884. Maar het is tegenwoordig ook mogelijk om een \"websockets\" (HTTP) verbinding te gebruiken als transportlaag voor MQTT. Daarmee omzeil je de poort-beperkingen van een schoolnetwerk."
   ]
  },
  {
   "cell_type": "markdown",
   "id": "8598b137-c94e-46bb-8c44-82a4b773cd82",
   "metadata": {},
   "source": [
    "---"
   ]
  },
  {
   "cell_type": "markdown",
   "id": "85c1a1f4-4eb6-4015-aee9-d6a477a9653c",
   "metadata": {},
   "source": [
    "## Uit het overzicht."
   ]
  },
  {
   "cell_type": "markdown",
   "id": "c9568c37-4b9c-45c9-bb83-f9afe45f17ab",
   "metadata": {},
   "source": [
    "### Bijeenkomst 1"
   ]
  },
  {
   "cell_type": "markdown",
   "id": "cbee150a-4352-4c5b-b5b2-c9982836d485",
   "metadata": {},
   "source": [
    "* wat is het internet of things? - als ontwikkeling van het internet, na het web.\n",
    "* waarom het internet of things? - slimme oplossingen, betere beslissingen\n",
    "* hoe het internet of things? - onderdelen en hun verbindingen, relaties\n",
    "    * eerst als functionele onderdelen (\"eindapparaten\" vanuit het netwerk gezien)\n",
    "    * dan met verbindingen en verbindingsapparaten\n",
    "* opbouw van een IoT-knoop - \n",
    "* protocollen: MQTT;\n",
    "* MQTT - publish/subscribe principe; topic, payload keuzes (JSON)\n",
    "* draadloze IoT-knopen: keuze van een radio\n",
    "    * hier: microbit-radio (met eigenschappen)"
   ]
  },
  {
   "cell_type": "markdown",
   "id": "08fa5eb2-44d9-465e-bd6e-404ef01bdb20",
   "metadata": {},
   "source": [
    "Praktische opdrachten:\n",
    "\n",
    "* MQTT - publish/subscribe (oefenen met MQT3)\n",
    "* NodeRed - \n",
    "* microbit IoT-knoop, microbit (pakket) radio\n",
    "    * programmeren van de microbit IoT-knoop (te volgen via host)\n",
    "    * programmeren van de logger-knoop (als beschikbaar\n",
    "    * LPP formaat; en (via logger) JSON formaat\n",
    "    * volgende keer: verbinden aan het internet (MQTT)"
   ]
  },
  {
   "cell_type": "markdown",
   "id": "160619c9-f2cc-4efd-805a-b631718a2de8",
   "metadata": {},
   "source": [
    "### Bijeenkomst 2"
   ]
  },
  {
   "cell_type": "markdown",
   "id": "7cc4f46a-4cfc-41d9-a92f-b4c884994930",
   "metadata": {},
   "source": [
    "* gateway: functie, opbouw; protocollen\n",
    "* MQTT: adressering van knopen, (sensoren?); netwerk?; "
   ]
  },
  {
   "cell_type": "markdown",
   "id": "a11335c9-e722-4e7a-a2b4-380f5d1b92a8",
   "metadata": {},
   "source": [
    "Praktische opdrachten:\n",
    "\n",
    "* programmeren (installeren) van de gateway; experimenteren met het lokale netwerk en MQTT\n",
    "* NodeRed: monitoring van het IoT-netwerk\n",
    "* NodeRed: MQTT verbindingen; publish, subscribe in NodeRed\n",
    "* NodeRed: interpreteren van JSON-berichten; dashboard"
   ]
  },
  {
   "cell_type": "markdown",
   "id": "c42903b1-6835-455d-9eb9-181727e94867",
   "metadata": {},
   "source": [
    "### Bijeenkomst 3"
   ]
  },
  {
   "cell_type": "markdown",
   "id": "dfcaaf21-fcb8-4369-937f-fef1381e1aec",
   "metadata": {},
   "source": [
    "* (automatisch) sturen: controllers\n",
    "    * NodeRed als voorbeeld\n",
    "* koppelen van sensoren en actuatoren; sturen"
   ]
  },
  {
   "cell_type": "markdown",
   "id": "1d6f6633-a60a-4ca4-9dc6-514e8cee49ab",
   "metadata": {},
   "source": [
    "Praktische opdrachten:\n",
    "\n",
    "* NodeRed: (automatisch) sturen (condities in flows)"
   ]
  },
  {
   "cell_type": "markdown",
   "id": "875f5746-8470-469b-85c6-da3c45c31412",
   "metadata": {},
   "source": [
    "### Open punten\n",
    "\n",
    "* user interface, dashboard\n",
    "* opslag van sensor-gegevens\n",
    "    * per knoop? of per sensor? (of allebeide?)\n",
    "* identificatie van sensoren - (en van knopen); op het niveau van de toepassing\n",
    "* "
   ]
  },
  {
   "cell_type": "markdown",
   "id": "1dfbc6fd-b38a-4a9d-b6e6-e1b8c430189a",
   "metadata": {},
   "source": [
    "### Opdrachten"
   ]
  },
  {
   "cell_type": "markdown",
   "id": "aca98d0b-3b86-42c9-a0f1-4761737e2ec2",
   "metadata": {},
   "source": [
    "Eerste bijeenkomst:\n",
    "\n",
    "* kennismaking MQTT (vooral via web-app)\n",
    "* kennismaking JSON (idem; )\n",
    "* kennismaking NodeRed (met JSON, MQTT berichten)\n",
    "* kennismaking LPP (binaire codering)"
   ]
  },
  {
   "cell_type": "markdown",
   "id": "c22a19cb-9437-4c6b-953c-0bcb1f2d4cb3",
   "metadata": {},
   "source": [
    "| opdracht | omschrijving |\n",
    "|:--       | :---         |\n",
    "| **mqtt**     |  |\n",
    "| x.x      | chat-0: mqtt publish/subscribe via web-app |\n",
    "| x.x      | chat-1: mqtt publish/subscribe, met topic en wildcard |\n",
    "| x.x.     | sensors en actuators: mqtt publish/subscribe, via web-app |\n",
    "| **nodered** | |\n",
    "| b.b      | ontvangen en verwerken van elementaire berichten, koppelen |\n",
    "| b.b      | ontvangen van mqtt-berichten (nb: in JSON) |\n",
    "| **lpp**         |              |\n",
    "| a.a      | lpp gecodeerde berichten via pakketradio (radio logger) |\n",
    "| a.a      | lpp omgezet naar json (radio logger) |"
   ]
  },
  {
   "cell_type": "markdown",
   "id": "e9cc7007-ba70-41d2-9b01-a7f8db4c58ff",
   "metadata": {},
   "source": [
    "NodeRed is een *controller* waarmee je de verschillende onderdelen (en protocollen) van de IoT-keten aan elkaar kunt koppelen."
   ]
  },
  {
   "cell_type": "markdown",
   "id": "80d751b7-1c34-403f-8784-d14b44a9f954",
   "metadata": {},
   "source": [
    "Tweede bijeenkomst:\n",
    "\n",
    "* nadruk op de gateway,\n",
    "* verwerken van de sensordata (dashboard?)\n",
    "* omzetten van JSON in LPP (v.v.)"
   ]
  },
  {
   "cell_type": "markdown",
   "id": "750fb683-f650-4ff3-b519-4c746d0a1c7b",
   "metadata": {},
   "source": [
    "| opdracht | omschrijving |\n",
    "|:--       | :---         |\n",
    "| **mqtt**     |  |\n",
    "| x.x      | chat-0: mqtt publish/subscribe via web-app |\n",
    "| x.x      | chat-1: mqtt publish/subscribe, met topic en wildcard |\n",
    "| x.x.     | sensors en actuators: mqtt publish/subscribe, via web-app |\n",
    "| **nodered** | |\n",
    "| b.b      | ontvangen en verwerken van elementaire berichten, koppelen |\n",
    "| b.b      | ontvangen van mqtt-berichten (nb: in JSON) |\n",
    "| **lpp**         |              |\n",
    "| a.a      | lpp gecodeerde berichten via pakketradio (radio logger) |\n",
    "| a.a      | lpp omgezet naar json (radio logger) |"
   ]
  },
  {
   "cell_type": "markdown",
   "id": "2484e43d-a2f2-4be5-9391-dec84fa65b58",
   "metadata": {},
   "source": [
    "Derde bijeenkomst:\n",
    "\n",
    "* sturen met NodeRed\n",
    "* "
   ]
  },
  {
   "cell_type": "markdown",
   "id": "b315cf47-2388-4112-bafd-6f9689fb3fe8",
   "metadata": {},
   "source": [
    "| opdracht | omschrijving |\n",
    "|:--       | :---         |\n",
    "| **mqtt**     |  |\n",
    "| x.x      | chat-0: mqtt publish/subscribe via web-app |\n",
    "| x.x      | chat-1: mqtt publish/subscribe, met topic en wildcard |\n",
    "| x.x.     | sensors en actuators: mqtt publish/subscribe, via web-app |\n",
    "| **nodered** | |\n",
    "| b.b      | ontvangen en verwerken van elementaire berichten, koppelen |\n",
    "| b.b      | ontvangen van mqtt-berichten (nb: in JSON) |\n",
    "| **lpp**         |              |\n",
    "| a.a      | lpp gecodeerde berichten via pakketradio (radio logger) |\n",
    "| a.a      | lpp omgezet naar json (radio logger) |"
   ]
  },
  {
   "cell_type": "markdown",
   "id": "e176306c-936b-4b25-90ec-07a177370743",
   "metadata": {},
   "source": [
    "---"
   ]
  },
  {
   "cell_type": "markdown",
   "id": "50abbdbd-ee0e-4343-ad44-08460eb48777",
   "metadata": {},
   "source": [
    "## microbit IoT-node"
   ]
  },
  {
   "cell_type": "markdown",
   "id": "be81a15a-5ca7-4176-9144-1bd1ed1fd45a",
   "metadata": {},
   "source": [
    "Onderstaande code maakt gebruik van de ulpp-library: die gebruikt teveel geheugen voor de microbit V1."
   ]
  },
  {
   "cell_type": "code",
   "execution_count": 1,
   "id": "1a13b4ec-3d39-401d-bde1-02b74405abf4",
   "metadata": {},
   "outputs": [
    {
     "ename": "ModuleNotFoundError",
     "evalue": "No module named 'microbit'",
     "output_type": "error",
     "traceback": [
      "\u001b[0;31m---------------------------------------------------------------------------\u001b[0m",
      "\u001b[0;31mModuleNotFoundError\u001b[0m                       Traceback (most recent call last)",
      "Input \u001b[0;32mIn [1]\u001b[0m, in \u001b[0;36m<cell line: 1>\u001b[0;34m()\u001b[0m\n\u001b[0;32m----> 1\u001b[0m \u001b[38;5;28;01mfrom\u001b[39;00m \u001b[38;5;21;01mmicrobit\u001b[39;00m \u001b[38;5;28;01mimport\u001b[39;00m \u001b[38;5;241m*\u001b[39m\n\u001b[1;32m      2\u001b[0m \u001b[38;5;28;01mfrom\u001b[39;00m \u001b[38;5;21;01mulpp\u001b[39;00m \u001b[38;5;28;01mimport\u001b[39;00m LppFrame, bytes_to_dict\n\u001b[1;32m      3\u001b[0m \u001b[38;5;28;01mimport\u001b[39;00m \u001b[38;5;21;01mradio\u001b[39;00m\n",
      "\u001b[0;31mModuleNotFoundError\u001b[0m: No module named 'microbit'"
     ]
    }
   ],
   "source": [
    "from microbit import *\n",
    "from ulpp import LppFrame, bytes_to_dict\n",
    "import radio\n",
    "import machine\n",
    "from utime import *\n",
    "\n",
    "def get_serial_number() -> int:\n",
    "    NRF_FICR_BASE = 0x10000000\n",
    "    DEVICEID_INDEX = 25 # deviceid[1]\n",
    "    return machine.mem32[NRF_FICR_BASE + (DEVICEID_INDEX*4)] & 0xFFFFFFFF\n",
    "\n",
    "nodeID = get_serial_number() & 0xFFFF\n",
    "counter = 0\n",
    "\n",
    "uplink_tag = 0x0A\n",
    "downlink_tag = 0x0B\n",
    "\n",
    "led0 = 0\n",
    "led1 = 0 # not used\n",
    "\n",
    "def handle_actuators(data):\n",
    "    lpp = bytes_to_dict(data)\n",
    "    if 0 in lpp and 'dOut' in lpp[0]:\n",
    "        led0 = lpp[0]['dOut']\n",
    "        pin0.write_digital(led0)\n",
    "        if led0 == 1:\n",
    "            display.show(Image.HAPPY)\n",
    "        else:\n",
    "            display.show(Image.SAD)\n",
    "    if 1 in lpp and 'dOut' in lpp[1]:\n",
    "        led1 = lpp[1]['dOut']\n",
    "        pin1.write_digital(led0)\n",
    "\n",
    "def send_sensors(buttonA, buttonB):\n",
    "    global counter\n",
    "    \n",
    "    print(\"send\")\n",
    "    (chi, clo) = divmod(counter, 256)\n",
    "    (nhi, nlo) = divmod(nodeID, 256)\n",
    "    prefix = bytes([uplink_tag, nhi, nlo, chi, clo])\n",
    "    counter += 1\n",
    "  \n",
    "    frame = LppFrame(data=prefix)\n",
    "    frame.add_digital_output(0, led0)\n",
    "    frame.add_digital_output(1, led1)\n",
    "    frame.add_digital_input(2, buttonA)\n",
    "    frame.add_digital_input(3, buttonB)\n",
    "    frame.add_temperature(4, temperature()*10)\n",
    "    frame.add_analog_input(8, display.read_light_level())\n",
    "    buffer = frame.to_bytes()\n",
    "    radio.send_bytes(buffer) \n",
    "    \n",
    "timer_period = 60000\n",
    "timer_deadline = ticks_add(ticks_ms(), timer_period)\n",
    "\n",
    "display.scroll(hex(nodeID))\n",
    "print(hex(nodeID))\n",
    "\n",
    "radio.on()\n",
    "send_sensors(button_a.is_pressed(), button_b.is_pressed())\n",
    "while True:\n",
    "    if button_a.was_pressed():\n",
    "        send_sensors(1, button_b.is_pressed())\n",
    "        \n",
    "    if button_b.was_pressed():\n",
    "        send_sensors(button_a.is_pressed(), 1)\n",
    "        \n",
    "    if ticks_diff(timer_deadline, ticks_ms()) <= 0:\n",
    "        send_sensors(button_a.is_pressed(), button_b.is_pressed())\n",
    "        timer_deadline = ticks_add(timer_deadline, timer_period)\n",
    "        \n",
    "    rec_bytes = radio.receive_bytes()\n",
    "    if rec_bytes != None:\n",
    "        if rec_bytes[0] == downlink_tag:\n",
    "            rec_nodeID = rec_bytes[1] * 256 + rec_bytes[2]\n",
    "            if nodeID == rec_nodeID:  # msg for this node\n",
    "                display.show('R')\n",
    "                rec_counter = rec_bytes[3] * 256 + rec_bytes[4]\n",
    "                handle_actuators(rec_bytes[5:])\n",
    "                send_sensors(button_a.is_pressed(), button_a.is_pressed())\n",
    "\n",
    "    sleep_ms(10)"
   ]
  },
  {
   "cell_type": "markdown",
   "id": "8e8723c1-e383-4950-acbd-c6f3588563ec",
   "metadata": {},
   "source": [
    "## Identificatie van een microbit-knoop\n",
    "\n",
    "Als identificatie voor een IoT-knoop gebruiken we een 16-bits getal, in JSON en in MQTT topics weergegeven als hexadecimale string.\n",
    "\n",
    "> In het geval van WiFi-knopen gebruiken we daarvoor de laatste 16 bits van het WiFi MAC adres.\n",
    "\n",
    "Een microbit heeft een unieke identificatie: we kunnen daarvan de laatste 16 bits gebruiken.\n",
    "\n",
    "```\n",
    "from microbit import *\n",
    "import machine\n",
    "\n",
    "def get_serial_number(type=hex):\n",
    "    NRF_FICR_BASE = 0x10000000\n",
    "    DEVICEID_INDEX = 25 # deviceid[1]\n",
    "    return type(machine.mem32[NRF_FICR_BASE + (DEVICEID_INDEX*4)]& 0xFFFFFFFF)\n",
    "```"
   ]
  },
  {
   "cell_type": "code",
   "execution_count": 7,
   "id": "197e2f91-5c8d-4c68-adcb-9d640ebd31d0",
   "metadata": {},
   "outputs": [
    {
     "data": {
      "text/plain": [
       "'4e20'"
      ]
     },
     "execution_count": 7,
     "metadata": {},
     "output_type": "execute_result"
    }
   ],
   "source": [
    "hex(20000)[-4:]"
   ]
  },
  {
   "cell_type": "markdown",
   "id": "9c3363f3-7e20-4433-a033-1add6eaa4339",
   "metadata": {},
   "source": [
    "NB: in de LPP-communicatie gebruiken we de identificatie als getal!"
   ]
  },
  {
   "cell_type": "markdown",
   "id": "8115e769-7614-42f7-a338-7c3ca3343223",
   "metadata": {},
   "source": [
    "NB:\n",
    "\n",
    "* er is een verschil tussen het decoderen van binaire LPP in een IoT-knoop, met als doel het aansturen van de actuatoren; en het decoderen van binaire LPP in de gateway, met als doel de omzetting in JSON. In dit laatste geval moet je alle elementen decoderen, in het eerste geval alleen maar de actuatoren.\n",
    "* bij het decoderen in de IoT-knoop moet de inhoud overeenkomen met de actuele actuatoren van de IoT-knoop. Hoe controleer je dit?\n",
    "    * het channel bepaalt al met welke actuator je te maken hebt. \n",
    "* worden de sensoren geskipt?\n",
    "* in de IoT-knoop heb je (in principe) alleen te maken met gehele getallen als waarden voor de sensoren en actuatoren.\n",
    "\n",
    "\n",
    "Decoderen van LPP in een IoT-knoop, omzetten in actuator-acties:"
   ]
  },
  {
   "cell_type": "code",
   "execution_count": null,
   "id": "0a2fda79-7b30-48bc-9802-f5d950a75293",
   "metadata": {},
   "outputs": [],
   "source": [
    "in_buffer = bytearray([])\n",
    "in_pos = 0\n",
    "\n",
    "def get_byte() -> int:\n",
    "    global in_pos\n",
    "    byte = in_buffer[in_pos]\n",
    "    in_pos += 1\n",
    "    return byte\n",
    "\n",
    "def get_int() -> int:\n",
    "    hi = get_byte()\n",
    "    lo = get_byte()\n",
    "    return hi * 256 + lo\n",
    "\n",
    "# NB: onderstaande functies zijn niet generiek,\n",
    "# maar specifiek voor de IoT-knoop.\n",
    "\n",
    "def handle_led(channel: int, value: int):\n",
    "    if channel == 0:\n",
    "        pin0.write_digital(value)\n",
    "        if value == 0:\n",
    "            display.show(off_image)\n",
    "        else:\n",
    "            display.show(on_image)\n",
    "    elif channel == 1:\n",
    "        pin1.write_digital(value)\n",
    "\n",
    "def handle_lpp_actuators():  # naam?\n",
    "    while in_pos < len(in_buffer):\n",
    "        channel = get_byte()\n",
    "        tag = get_byte()\n",
    "        if (channel == 0 or channel == 1) and tag == LPP_dOut:\n",
    "            handle_led(channel, get_byte())\n",
    "        elif tag == LPP_dIn or tag == LPP_presence or tag == LPP_humidity:\n",
    "            skip = get_byte()\n",
    "        else:\n",
    "            skip = get_int()"
   ]
  },
  {
   "cell_type": "markdown",
   "id": "a2ffd2ac-d6ff-45cb-b406-56653c52f488",
   "metadata": {},
   "source": [
    "Coderen van LPP in IoT-knoop.\n",
    "\n",
    "Ook dit hoeft niet helemaal generiek te zijn: je hoeft alleen voor de aanwezige sensoren (en actuatoren?) te coderen."
   ]
  },
  {
   "cell_type": "code",
   "execution_count": null,
   "id": "980bdf61-b6a5-4831-8b0f-77a7189e7ba7",
   "metadata": {},
   "outputs": [],
   "source": [
    "out_buffer = bytearray([])\n",
    "out_pos = 0\n",
    "\n",
    "def put_byte(value: int):\n",
    "    out_buffer[out_pos] = value\n",
    "    out_pos += 1\n",
    "\n",
    "def put_int(value: int):\n",
    "    while value < 0:\n",
    "        value = value + 65536\n",
    "    put_byte(value // 256)\n",
    "    put_byte(value % 256)\n",
    "\n",
    "def put_sensor_byte(channel: int, tag: int, value: int):\n",
    "    put_byte(channel)\n",
    "    put_byte(tag)\n",
    "    put_byte(value)\n",
    "    \n",
    "def put_sensor_int(channel: int, tag: int, value: int)\n",
    "    put_byte(channel)\n",
    "    put_byte(tag)\n",
    "    put_int(value)\n",
    "\n",
    "def send_sensors(button0: int, button1:int, presence: int):\n",
    "    put_sensor_byte(0, LPP_dOut, pin0.read_digital()) # or: led0\n",
    "    put_sensor_byte(1, LPP_dOut, pin1.read_digital()) # or: led1\n",
    "    put_sensor_byte(2, LPP_dIn, button0)\n",
    "    put_sensor_byte(3, LPP_dIn, button1)\n",
    "    put_sensor_int(4, LPP_temperature, machine.temperature() * 10)\n",
    "    put_sensor_byte(7, LPP_presence, presence)\n",
    "    put_sensor_int(8, LPP_aOut, display.read_light_level())"
   ]
  },
  {
   "cell_type": "markdown",
   "id": "0b9909d3-b6c0-4f7d-92da-7cc9d9972150",
   "metadata": {},
   "source": [
    "## ulpp - vorige versies"
   ]
  },
  {
   "cell_type": "code",
   "execution_count": null,
   "id": "0ff46d88-9d3c-4f25-8bc4-99505c954493",
   "metadata": {},
   "outputs": [],
   "source": [
    "class LppFrame(object):\n",
    "\n",
    "    # some assumptions:\n",
    "    # - the value-parameters are in the LPP-required format and range\n",
    "    #   i.e. scaling is done by the caller (if needed)\n",
    "    #   all value-parameters are int\n",
    "    \n",
    "    def __init__(self, data=b'', maxsize=32):\n",
    "        self.buffer = bytearray(data)\n",
    "        self.maxsize = maxsize\n",
    "        self.pos = 0\n",
    "\n",
    "    def __str__(self):\n",
    "        return str(list(self.buffer))\n",
    "    \n",
    "    def to_bytes(self):\n",
    "        return self.buffer\n",
    "    \n",
    "    def add_byte(self, channel, tag, value):\n",
    "        if len(self.buffer) + 3 > self.maxsize:\n",
    "            raise OverflowError\n",
    "        self.buffer.append(channel)\n",
    "        self.buffer.append(tag)\n",
    "        self.buffer.append(value)\n",
    "\n",
    "    def add_unsigned_int16(self, channel, tag, value):\n",
    "        if len(self.buffer) + 4 > self.maxsize:\n",
    "            raise OverflowError        \n",
    "        self.buffer.append(channel)\n",
    "        self.buffer.append(tag)\n",
    "        if value >= 65536:\n",
    "            value = value % 65536\n",
    "        (hi, lo) = divmod(value, 256)\n",
    "        self.buffer.append(hi)\n",
    "        self.buffer.append(lo)\n",
    "\n",
    "    def add_signed_int16(self, channel, tag, value):\n",
    "        while value < 0:\n",
    "            value = value + 65536\n",
    "        self.add_unsigned_int16(channel, tag, value)\n",
    "\n",
    "    def add_digital_input(self, channel, value):\n",
    "        self.add_byte(channel, 0, value)\n",
    "\n",
    "    def add_digital_output(self, channel, value):\n",
    "        self.add_byte(channel, 1, value)\n",
    "        \n",
    "    def add_analog_input(self, channel, value):\n",
    "        self.add_signed_int16(channel, 2, value)\n",
    "\n",
    "    def add_analog_output(self, channel, value):\n",
    "        self.add_signed_int16(channel, 3, value)\n",
    "\n",
    "    def add_luminosity(self, channel, value):\n",
    "        self.add_unsigned_int16(channel, 101, value)\n",
    "\n",
    "    def add_presence(self, channel, value):\n",
    "        self.add_byte(channel, 102, value)\n",
    "\n",
    "    def add_temperature(self, channel, value):\n",
    "        # temperature: 0.1C, signed int\n",
    "        self.add_signed_int16(channel, 103, value)\n",
    "\n",
    "    def add_humidity(self, channel, value):\n",
    "        # rel. humidity: 0.5% unsigned byte\n",
    "        self.add_byte(channel, 104, value)\n",
    "\n",
    "    def add_barometer(self, channel, value):\n",
    "        # barometric pressue: 0.1 hPa unsigned int16\n",
    "        self.add_unsigned_int16(channel, 115, value)\n",
    "\n",
    "def bytes_to_dict(data):\n",
    "    \n",
    "    buffer = data\n",
    "    pos = 0\n",
    "\n",
    "    def nextbyte():\n",
    "        nonlocal pos\n",
    "        if pos >= len(buffer):\n",
    "            raise OverflowError\n",
    "        value = buffer[pos]\n",
    "        pos = pos + 1\n",
    "        return value\n",
    "    \n",
    "    def nextunsignedint():\n",
    "        hi = nextbyte()\n",
    "        lo = nextbyte()\n",
    "        value = hi * 256 + lo\n",
    "        return value \n",
    "    \n",
    "    def nextint():\n",
    "        value = nextunsignedint()\n",
    "        if value > 32767:\n",
    "            value = value - 65536\n",
    "        return value\n",
    "    \n",
    "\n",
    "    pos = 0\n",
    "    obj = {}\n",
    "\n",
    "    while pos < len(buffer):\n",
    "        channel = nextbyte()\n",
    "        tag = nextbyte()\n",
    "        if tag == 0:\n",
    "            value = nextbyte()\n",
    "            obj[channel] = {'dIn': value}\n",
    "        elif tag == 1:\n",
    "            value = nextbyte()\n",
    "            obj[channel] = {'dOut': value}                \n",
    "        elif tag == 2:\n",
    "            value = nextint()\n",
    "            obj[channel] = {'aIn': value}                \n",
    "        elif tag == 3:\n",
    "            value = nextint()\n",
    "            obj[channel] = {'aOut': value}\n",
    "        elif tag == 101:\n",
    "            value = nextunsignedint()\n",
    "            obj[channel] = {'luminosity': value}                \n",
    "        elif tag == 102:\n",
    "            value = nextbyte()\n",
    "            obj[channel] = {'presence': value}                \n",
    "        elif tag == 103:\n",
    "            value = nextint()                \n",
    "            obj[channel] = {'temperature': value}                \n",
    "        elif tag == 104:\n",
    "            value = nextbyte()\n",
    "            obj[channel] = {'humidity': value}                \n",
    "        elif tag == 115:\n",
    "            value = nextunsignedint()\n",
    "            obj[channel] = {'barometer': value}\n",
    "            \n",
    "    return obj\n",
    "\n",
    "def lpp_to_json(data: bytearray) -> str:\n",
    "    \n",
    "    pos = 0\n",
    "    \n",
    "    def nextbyte():\n",
    "        nonlocal pos\n",
    "        if pos >= len(data):\n",
    "            raise OverflowError\n",
    "        value = data[pos]\n",
    "        pos = pos + 1\n",
    "        return value\n",
    "    \n",
    "    def nextunsignedint():\n",
    "        hi = nextbyte()\n",
    "        lo = nextbyte()\n",
    "        return hi * 256 + lo \n",
    "    \n",
    "    def nextint():\n",
    "        value = nextunsignedint()\n",
    "        if value > 32767:\n",
    "            value = value - 65536\n",
    "        return value\n",
    "    \n",
    "    pos = 0\n",
    "    json_string = '{'\n",
    "    sep = ''\n",
    "\n",
    "    while pos < len(data):\n",
    "        channel = nextbyte()\n",
    "        tag = nextbyte()\n",
    "        if tag == 0:\n",
    "            value = nextbyte()\n",
    "            tagname = 'dIn'\n",
    "        elif tag == 1:\n",
    "            value = nextbyte()\n",
    "            tagname = 'dOut'\n",
    "        elif tag == 2:\n",
    "            value = nextint()\n",
    "            tagname = 'aIn'\n",
    "        elif tag == 3:\n",
    "            value = nextint()\n",
    "            tagname = 'aOut'\n",
    "        elif tag == 101:\n",
    "            value = nextunsignedint()\n",
    "            tagname = 'luminosity'\n",
    "        elif tag == 102:\n",
    "            value = nextbyte()\n",
    "            tagname = 'presence'\n",
    "        elif tag == 103:\n",
    "            value = nextint()                \n",
    "            tagname = 'temperature'\n",
    "        elif tag == 104:\n",
    "            value = nextbyte()\n",
    "            tagname = 'humidity'\n",
    "        elif tag == 115:\n",
    "            value = nextunsignedint()\n",
    "            tagname = 'barometer'\n",
    "        json_string += '{0}\"{1}\": {{\"{2}\": {3}}}'.format(sep, channel, tagname, value)\n",
    "        sep = ', '\n",
    "        \n",
    "    json_string += '}' \n",
    "    return json_string\n",
    "\n",
    "def dict_to_bytes (obj):\n",
    "    lpp = LppFrame()\n",
    "\n",
    "    for channel in obj:\n",
    "        item = obj[channel]  # item is an object with a single key...\n",
    "        if type(channel) is str:\n",
    "            channel = int(channel)\n",
    "        for key in item:\n",
    "            if key == 'dOut':\n",
    "                lpp.add_digital_output(channel,  item[key])\n",
    "            elif key == 'aOut':\n",
    "                lpp.add_analog_output(channel,  item[key])\n",
    "            else:\n",
    "                # not implemented, raise exception? only output allowed\n",
    "                raise ValueError('only output values allowed in actuator msg')\n",
    "\n",
    "    return lpp.to_bytes()"
   ]
  },
  {
   "cell_type": "markdown",
   "id": "480013c7-0989-4049-8ba8-c17d02c4d364",
   "metadata": {},
   "source": [
    "## Bytes en bytearrays\n",
    "\n",
    "Het gebruik van `bytearray` is belangrijk als je efficiënt met het microbit-geheugen wilt omgaan, in het bijzonder op de microbit V1. (Zie: )\n",
    "\n",
    "Een Python `bytes` waarde is immutable: je kunt deze als gehele waarde gebruiken, of indiceren. Het resultaat van indicering is een `int` (!).\n",
    "\n",
    "De microbit radio-berichten worden ontvangen en verstuurd als `bytes` waarden."
   ]
  },
  {
   "cell_type": "code",
   "execution_count": 30,
   "id": "ec2aafb2-6167-4337-ad80-341a856a748f",
   "metadata": {},
   "outputs": [],
   "source": [
    "b = b'abc'"
   ]
  },
  {
   "cell_type": "code",
   "execution_count": 31,
   "id": "81a04816-eb84-4ab8-887a-b5bbcc981abe",
   "metadata": {},
   "outputs": [
    {
     "data": {
      "text/plain": [
       "bytes"
      ]
     },
     "execution_count": 31,
     "metadata": {},
     "output_type": "execute_result"
    }
   ],
   "source": [
    "type(b)"
   ]
  },
  {
   "cell_type": "code",
   "execution_count": 32,
   "id": "2bdd0d62-1391-44d8-a31b-117d21afb997",
   "metadata": {},
   "outputs": [
    {
     "data": {
      "text/plain": [
       "98"
      ]
     },
     "execution_count": 32,
     "metadata": {},
     "output_type": "execute_result"
    }
   ],
   "source": [
    "b[1]"
   ]
  },
  {
   "cell_type": "code",
   "execution_count": 33,
   "id": "20581042-88be-4a26-bd86-ead9beef53a6",
   "metadata": {},
   "outputs": [
    {
     "data": {
      "text/plain": [
       "int"
      ]
     },
     "execution_count": 33,
     "metadata": {},
     "output_type": "execute_result"
    }
   ],
   "source": [
    "type(b[1])"
   ]
  },
  {
   "cell_type": "code",
   "execution_count": 40,
   "id": "419ce866-9bd7-468e-8707-ca595fcfcd56",
   "metadata": {},
   "outputs": [
    {
     "data": {
      "text/plain": [
       "b'abcabc'"
      ]
     },
     "execution_count": 40,
     "metadata": {},
     "output_type": "execute_result"
    }
   ],
   "source": [
    "b + b"
   ]
  },
  {
   "cell_type": "markdown",
   "id": "85b6e326-385e-47e9-a26a-52e55f220cab",
   "metadata": {},
   "source": [
    "Een Python `bytearray` is een *mutable* waarde: je kunt elementen daarvan veranderen, als in een normaal array. De waarden moeten in het bereik 0..255 liggen, in Python termen: in `range(0, 256)`.\n",
    "\n",
    "Je kunt een `bytearray` initialiseren met een `bytes` waarde; je kunt een `bytearray ba` ook omzetten in een `bytes`-waarde: `bytes(ba)`.\n",
    "\n"
   ]
  },
  {
   "cell_type": "code",
   "execution_count": 34,
   "id": "d3c4fe40-7996-4ed3-8bfa-238c8338cd26",
   "metadata": {},
   "outputs": [],
   "source": [
    "ba = bytearray(b)"
   ]
  },
  {
   "cell_type": "code",
   "execution_count": 35,
   "id": "cfc1184a-10f5-4f68-9cf5-6b27b29e27f7",
   "metadata": {},
   "outputs": [
    {
     "data": {
      "text/plain": [
       "bytearray"
      ]
     },
     "execution_count": 35,
     "metadata": {},
     "output_type": "execute_result"
    }
   ],
   "source": [
    "type(ba)"
   ]
  },
  {
   "cell_type": "code",
   "execution_count": 36,
   "id": "3f1970b5-c544-4cc2-bd03-38cbbcfd4eff",
   "metadata": {},
   "outputs": [
    {
     "data": {
      "text/plain": [
       "98"
      ]
     },
     "execution_count": 36,
     "metadata": {},
     "output_type": "execute_result"
    }
   ],
   "source": [
    "ba[1]"
   ]
  },
  {
   "cell_type": "code",
   "execution_count": 37,
   "id": "331e9933-8af7-4189-a76d-d7d0d7dad5f6",
   "metadata": {},
   "outputs": [
    {
     "data": {
      "text/plain": [
       "int"
      ]
     },
     "execution_count": 37,
     "metadata": {},
     "output_type": "execute_result"
    }
   ],
   "source": [
    "type(ba[1])"
   ]
  },
  {
   "cell_type": "code",
   "execution_count": 38,
   "id": "ec396e63-ef89-45df-889a-daeaef763614",
   "metadata": {},
   "outputs": [],
   "source": [
    "ba[1] = 255"
   ]
  },
  {
   "cell_type": "code",
   "execution_count": 39,
   "id": "6eacbe93-9264-4251-b302-8058a2525cf0",
   "metadata": {
    "tags": []
   },
   "outputs": [
    {
     "ename": "ValueError",
     "evalue": "byte must be in range(0, 256)",
     "output_type": "error",
     "traceback": [
      "\u001b[0;31m---------------------------------------------------------------------------\u001b[0m",
      "\u001b[0;31mValueError\u001b[0m                                Traceback (most recent call last)",
      "Cell \u001b[0;32mIn[39], line 1\u001b[0m\n\u001b[0;32m----> 1\u001b[0m \u001b[43mba\u001b[49m\u001b[43m[\u001b[49m\u001b[38;5;241;43m1\u001b[39;49m\u001b[43m]\u001b[49m \u001b[38;5;241m=\u001b[39m \u001b[38;5;241m256\u001b[39m\n",
      "\u001b[0;31mValueError\u001b[0m: byte must be in range(0, 256)"
     ]
    }
   ],
   "source": [
    "ba[1] = 256"
   ]
  },
  {
   "cell_type": "code",
   "execution_count": 41,
   "id": "d959c1be-3ce4-44e7-bf37-594a757766db",
   "metadata": {
    "jupyter": {
     "source_hidden": true
    },
    "tags": []
   },
   "outputs": [
    {
     "data": {
      "text/plain": [
       "b'a\\xffc'"
      ]
     },
     "execution_count": 41,
     "metadata": {},
     "output_type": "execute_result"
    }
   ],
   "source": [
    "bytes(ba)"
   ]
  },
  {
   "cell_type": "markdown",
   "id": "3802831b-0b8e-4e39-9091-4a3927ed27ad",
   "metadata": {
    "tags": []
   },
   "source": [
    "### `bytes` en strings"
   ]
  },
  {
   "cell_type": "markdown",
   "id": "63b2bb0c-7ecc-4dce-a400-738053162292",
   "metadata": {},
   "source": [
    "Je kunt een string omzetten in een `bytes`-waarde, en omgekeerd. Je moet dan opgeven welke codering gebruikt wordt; meestal is dat `utf-8-`."
   ]
  }
 ],
 "metadata": {
  "kernelspec": {
   "display_name": "Python 3 (ipykernel)",
   "language": "python",
   "name": "python3"
  },
  "language_info": {
   "codemirror_mode": {
    "name": "ipython",
    "version": 3
   },
   "file_extension": ".py",
   "mimetype": "text/x-python",
   "name": "python",
   "nbconvert_exporter": "python",
   "pygments_lexer": "ipython3",
   "version": "3.10.11"
  }
 },
 "nbformat": 4,
 "nbformat_minor": 5
}
