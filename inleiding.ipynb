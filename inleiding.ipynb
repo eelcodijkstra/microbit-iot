{
 "cells": [
  {
   "cell_type": "markdown",
   "id": "40c3ec0a-1fae-48f5-9471-70ccae7b86d9",
   "metadata": {},
   "source": [
    "# Inleiding"
   ]
  },
  {
   "cell_type": "markdown",
   "id": "43ac62f0-cb98-4120-badb-a9ed52e53be4",
   "metadata": {},
   "source": [
    "In het lesmateriaal voor het informatica-keuzethema Netwerken (Internet of Things - IoT) worden verschillende platformen gebruikt voor de IoT-knopen, gebaseerd op verschillende soorten radio's: van WiFi tot LoRa.\n",
    "In deze aanvulling behandelen we de microbit als IoT-knoop, passend in dat lesmateriaal en de bijbehorende infrastructuur. We programmeren deze microbits in Python."
   ]
  },
  {
   "cell_type": "markdown",
   "id": "374bd94c-24b1-4cd0-bef1-977f9acd6771",
   "metadata": {},
   "source": [
    "* nieuwste versie lesmateriaal: https://eelcodijkstra.github.io/netbook0/intro.html"
   ]
  },
  {
   "cell_type": "markdown",
   "id": "65ebea7a-f8c6-4d26-b710-de176ab8b752",
   "metadata": {},
   "source": [
    ":::{figure} figs/microbit-iot-network.drawio.png\n",
    ":width: 500\n",
    "\n",
    "micro:bit IoT netwerk, met IoT-knopen, gateway, en radio-logger\n",
    ":::"
   ]
  },
  {
   "cell_type": "markdown",
   "id": "d9384c30-b8cd-443b-bc42-e0d0ad3cd4c8",
   "metadata": {},
   "source": [
    "Dit micro:bit IoT-netwerk bestaat uit\n",
    "\n",
    "* één of meer micro:bits als IoT-knoop, met sensoren en actuatoren;\n",
    "* een micro:bit met iot:bit bordje, gebruikt als gateway voor de verbinding met het lokale netwerk en verder;\n",
    "* een micro:bit als radio-logger, om het verkeer in het netwerk te volgen."
   ]
  },
  {
   "cell_type": "markdown",
   "id": "909f551a-2e09-4324-b883-44436881414e",
   "metadata": {},
   "source": []
  }
 ],
 "metadata": {
  "kernelspec": {
   "display_name": "Python 3 (ipykernel)",
   "language": "python",
   "name": "python3"
  },
  "language_info": {
   "codemirror_mode": {
    "name": "ipython",
    "version": 3
   },
   "file_extension": ".py",
   "mimetype": "text/x-python",
   "name": "python",
   "nbconvert_exporter": "python",
   "pygments_lexer": "ipython3",
   "version": "3.10.11"
  }
 },
 "nbformat": 4,
 "nbformat_minor": 5
}
