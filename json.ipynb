{
 "cells": [
  {
   "cell_type": "markdown",
   "id": "eb259854-9f2a-4e60-ba1f-30de00c6b39b",
   "metadata": {},
   "source": [
    "# JSON - voor de microbit"
   ]
  },
  {
   "cell_type": "markdown",
   "id": "ab0d4954-ab6f-42ae-9e9e-1c34b938545a",
   "metadata": {},
   "source": [
    "Syntax voor eenvoudige JSON:\n",
    "\n",
    "```\n",
    "value : dictionary ; array ; simple .\n",
    "simple: string ; number ; boolean .\n",
    "string: '\"', non-quote-seq, '\"'.\n",
    "int: digit-seq .\n",
    "bool: 'false' ; 'true' .\n",
    "dict: '{', keyvalue list option, '}' .\n",
    "keyvalue: string, ':', value.\n",
    "array: '[', value list option, ']' .\n",
    "```\n",
    "\n",
    "Extra voorwaarden:\n",
    "\n",
    "* de values van een array moeten van hetzelfde type zijn (?)\n",
    "* twee dict's zijn (per definitie) van hetzelfde type (?)\n",
    "* whitespace heeft alleen betekenis in een string.\n",
    "\n",
    "Hoe worden niet-aanwezige elementen in een array aangeduid in JSON? en in Python?\n",
    "\n",
    "> Dit is evt. van belang als we voor channels arrays willen gebruiken in plaats van dictionairies."
   ]
  },
  {
   "cell_type": "markdown",
   "id": "3f0996ff-0840-40ca-aa27-278613226219",
   "metadata": {},
   "source": [
    "Hieronde het bestand `json.py` zoals gebruikt in de gateway."
   ]
  },
  {
   "cell_type": "code",
   "execution_count": 67,
   "id": "c043c333-7d48-4b25-af46-d8dd2762c618",
   "metadata": {},
   "outputs": [],
   "source": [
    "def loads(data: str):\n",
    "    \n",
    "    eof = chr(0)\n",
    "    ch = data[0]\n",
    "    pos = 0\n",
    "\n",
    "    def error():\n",
    "        raise Exception\n",
    "\n",
    "    def nextch():\n",
    "        nonlocal pos, ch\n",
    "        pos = pos + 1\n",
    "        if pos < len(data):\n",
    "            ch = data[pos]\n",
    "        else:\n",
    "            ch = eof\n",
    "        return\n",
    "\n",
    "    def skipblanks():\n",
    "        while ch == ' ' or ch == '\\n' or ch == '\\r' or ch == '\\t':\n",
    "            nextch()\n",
    "    \n",
    "    def accept(c: str):\n",
    "        if ch != c:\n",
    "            error()\n",
    "        nextch()    \n",
    "        skipblanks()\n",
    "            \n",
    "    def value():\n",
    "        skipblanks()\n",
    "        if ch == '{':\n",
    "            return dictionary({})\n",
    "        elif ch == '[':\n",
    "            return array([])\n",
    "        elif ch == '\"':\n",
    "            return string()\n",
    "        elif '0' <= ch and ch <= '9':\n",
    "            return number()\n",
    "        elif ch == 'f' or ch == 't':\n",
    "            return boolean()\n",
    "        else:\n",
    "            error()\n",
    "        \n",
    "    def keyvalue(items: dict):\n",
    "        key = string()\n",
    "        accept(':')\n",
    "        val = value()\n",
    "        items[key] = val\n",
    "        return items\n",
    "\n",
    "    def dictionary(items: dict):\n",
    "        accept('{')\n",
    "        if ch != '}':\n",
    "            items = keyvalue(items)\n",
    "            while ch == ',':\n",
    "                accept(',')\n",
    "                items = keyvalue(items)\n",
    "        accept('}')\n",
    "        return items\n",
    "    \n",
    "    def array(items: list):\n",
    "        accept('[')\n",
    "        if ch != ']':\n",
    "            items.append(value())\n",
    "            while ch == ',':\n",
    "                accept(',')\n",
    "                items.append(value())\n",
    "        accept(']')\n",
    "        return items\n",
    "\n",
    "    def string():\n",
    "        accept('\"')\n",
    "        value = ''\n",
    "        while ch != '\"':\n",
    "            value += ch\n",
    "            nextch()\n",
    "        accept('\"')\n",
    "        return value\n",
    "\n",
    "    def number():\n",
    "        value = ''\n",
    "        while '0' <= ch and ch <= '9':\n",
    "            value += ch\n",
    "            nextch()\n",
    "        skipblanks()\n",
    "        return int(value)\n",
    "\n",
    "    def boolean():\n",
    "        value = ''\n",
    "        while 'a' <= ch and ch <= 'z':\n",
    "            value += ch\n",
    "            nextch()\n",
    "        skipblanks()    \n",
    "        if value == 'true':\n",
    "            return True\n",
    "        elif value == 'false':\n",
    "            return False\n",
    "        else:\n",
    "            error()\n",
    "    \n",
    "    return value()\n",
    "\n",
    "\n",
    "\n",
    "def dumps(val: dict) -> str:\n",
    "    \n",
    "    def to_json_keys (obj: dict) -> str:\n",
    "        new_obj = {}\n",
    "        for key in obj:\n",
    "            value = obj[key]\n",
    "            if type(value) is dict:\n",
    "                value = to_json_keys(value)\n",
    "            if type(key) is int:\n",
    "                new_obj[str(key)] = value\n",
    "            else:\n",
    "                new_obj[key] = value\n",
    "        return new_obj\n",
    "            \n",
    "    return str(to_json_keys(val)).replace(\"'\", '\"')       "
   ]
  },
  {
   "cell_type": "markdown",
   "id": "0c6e9103-057d-46c6-a116-4820c01fa7ec",
   "metadata": {},
   "source": [
    "Omzetten van een Python-dictionary naar \"json--\":\n",
    "\n",
    "* vervangen van de integer keys door string-keys\n",
    "* omzetten naar een string, op de standaard-Python manier.\n",
    "* NB: we moeten wel de enkele quotes vervangen door dubbele...\n",
    "* ik weet niet of we enige invloed hebben op het gebruik van spaties, of op de layout."
   ]
  },
  {
   "cell_type": "markdown",
   "id": "8bbb7c1d-a862-4cb4-80de-5958e787a5ce",
   "metadata": {},
   "source": [
    "## Testen"
   ]
  },
  {
   "cell_type": "code",
   "execution_count": 68,
   "id": "d6fb5fa7-ad6e-4712-8670-3fb0c95f6bd4",
   "metadata": {},
   "outputs": [],
   "source": [
    "test1 = '{ \"aap\": 10, \"noot\": {\"mies\": false, \"teun\": [1,2,3] }}'"
   ]
  },
  {
   "cell_type": "code",
   "execution_count": 69,
   "id": "4ea3eb7a-20fe-487d-acf3-5bfb42b6d6dd",
   "metadata": {},
   "outputs": [
    {
     "data": {
      "text/plain": [
       "{'aap': 10, 'noot': {'mies': False, 'teun': [1, 2, 3]}}"
      ]
     },
     "execution_count": 69,
     "metadata": {},
     "output_type": "execute_result"
    }
   ],
   "source": [
    "loads(test1)"
   ]
  },
  {
   "cell_type": "code",
   "execution_count": 70,
   "id": "037bae1d-ed69-4abb-bac1-1fc21c83f61e",
   "metadata": {},
   "outputs": [
    {
     "data": {
      "text/plain": [
       "{'aap': 10, 'noot': {'mies': False, 'teun': [{}]}}"
      ]
     },
     "execution_count": 70,
     "metadata": {},
     "output_type": "execute_result"
    }
   ],
   "source": [
    "test2 = '{ \"aap\": 10, \"noot\": {\"mies\": false, \"teun\": [ {  } ] }}'\n",
    "loads(test2)"
   ]
  },
  {
   "cell_type": "markdown",
   "id": "1365106c-2271-445f-b6ef-8b36f51d4746",
   "metadata": {},
   "source": []
  },
  {
   "cell_type": "markdown",
   "id": "380e4b1b-7b00-4a56-8a2c-f53baca3e400",
   "metadata": {},
   "source": [
    "NB: we moeten nog een invariant bedenken m.b.t. \"skipblanks\": altijd aan het eind van een functie?"
   ]
  },
  {
   "cell_type": "code",
   "execution_count": 71,
   "id": "b8c651d2-d493-43c0-8cfd-4a44340080ca",
   "metadata": {},
   "outputs": [
    {
     "data": {
      "text/plain": [
       "{'nodeid': 'fe3d',\n",
       " 'counter': 3027,\n",
       " 'payload': {'0': {'temperature': 235},\n",
       "  '1': {'barometer': 10093},\n",
       "  '2': {'dOut': 1},\n",
       "  '8': {'aOut': 255}}}"
      ]
     },
     "execution_count": 71,
     "metadata": {},
     "output_type": "execute_result"
    }
   ],
   "source": [
    "loads('{\"nodeid\": \"fe3d\", \"counter\": 3027, \"payload\": {\"0\": {\"temperature\": 235}, \"1\": {\"barometer\": 10093}, \"2\": {\"dOut\": 1}, \"8\": {\"aOut\": 255}}}')"
   ]
  },
  {
   "cell_type": "code",
   "execution_count": 76,
   "id": "3746adfb-58ce-4473-969e-57f38e8c4d6c",
   "metadata": {},
   "outputs": [
    {
     "data": {
      "text/plain": [
       "'{\"nodeid\": \"fe3d\", \"counter\": 3027, \"payload\": {\"0\": {\"temperature\": 235}, \"1\": {\"barometer\": 10093}, \"2\": {\"dOut\": 1}, \"8\": {\"aOut\": 255}}}'"
      ]
     },
     "execution_count": 76,
     "metadata": {},
     "output_type": "execute_result"
    }
   ],
   "source": [
    "str1 = dumps(loads('{\"nodeid\": \"fe3d\", \"counter\": 3027, \"payload\": {\"0\": {\"temperature\": 235}, \"1\": {\"barometer\": 10093}, \"2\": {\"dOut\": 1}, \"8\": {\"aOut\": 255}}}'))\n",
    "str1"
   ]
  },
  {
   "cell_type": "markdown",
   "id": "9c9e4491-8104-4442-9c27-572f0d6a1e29",
   "metadata": {},
   "source": [
    "Vergelijking met de officiële json-module:"
   ]
  },
  {
   "cell_type": "code",
   "execution_count": 73,
   "id": "e8950461-08b8-47d6-8e83-85397813584a",
   "metadata": {},
   "outputs": [],
   "source": [
    "import json"
   ]
  },
  {
   "cell_type": "code",
   "execution_count": 74,
   "id": "54c724c7-6464-476f-999a-8332039700e0",
   "metadata": {},
   "outputs": [
    {
     "data": {
      "text/plain": [
       "{'nodeid': 'fe3d',\n",
       " 'counter': 3027,\n",
       " 'payload': {'0': {'temperature': 235},\n",
       "  '1': {'barometer': 10093},\n",
       "  '2': {'dOut': 1},\n",
       "  '8': {'aOut': 255}}}"
      ]
     },
     "execution_count": 74,
     "metadata": {},
     "output_type": "execute_result"
    }
   ],
   "source": [
    "json.loads('{\"nodeid\": \"fe3d\", \"counter\": 3027, \"payload\": {\"0\": {\"temperature\": 235}, \"1\": {\"barometer\": 10093}, \"2\": {\"dOut\": 1}, \"8\": {\"aOut\": 255}}}')"
   ]
  },
  {
   "cell_type": "markdown",
   "id": "b3f2a88d-d761-4b60-85f8-7f8a294a9b02",
   "metadata": {},
   "source": [
    "Dit lijkt dus te werken (in elk geval voor goed-gevormde objecten)."
   ]
  },
  {
   "cell_type": "code",
   "execution_count": 77,
   "id": "a615e0f8-a485-419c-b704-c5a07002344a",
   "metadata": {},
   "outputs": [
    {
     "data": {
      "text/plain": [
       "'{\"nodeid\": \"fe3d\", \"counter\": 3027, \"payload\": {\"0\": {\"temperature\": 235}, \"1\": {\"barometer\": 10093}, \"2\": {\"dOut\": 1}, \"8\": {\"aOut\": 255}}}'"
      ]
     },
     "execution_count": 77,
     "metadata": {},
     "output_type": "execute_result"
    }
   ],
   "source": [
    "str2 = json.dumps(json.loads('{\"nodeid\": \"fe3d\", \"counter\": 3027, \"payload\": {\"0\": {\"temperature\": 235}, \"1\": {\"barometer\": 10093}, \"2\": {\"dOut\": 1}, \"8\": {\"aOut\": 255}}}'))\n",
    "str2"
   ]
  },
  {
   "cell_type": "code",
   "execution_count": 78,
   "id": "5ed5b808-cfd4-4e07-99b1-f4a2373d4d63",
   "metadata": {},
   "outputs": [
    {
     "data": {
      "text/plain": [
       "True"
      ]
     },
     "execution_count": 78,
     "metadata": {},
     "output_type": "execute_result"
    }
   ],
   "source": [
    "str1 == str2"
   ]
  },
  {
   "cell_type": "markdown",
   "id": "cc4f66f4-3d5c-42d0-abf9-5cd94649f711",
   "metadata": {},
   "source": [
    "---"
   ]
  },
  {
   "cell_type": "markdown",
   "id": "881c7ae9-f2ef-4bdc-97c9-48810316a08c",
   "metadata": {},
   "source": [
    "(onderstaande kan waarschijnlijk opgeruimd worden...)"
   ]
  },
  {
   "cell_type": "markdown",
   "id": "ca0d8224-80c6-4c13-ab4c-d372ba223e20",
   "metadata": {},
   "source": [
    "## json--"
   ]
  },
  {
   "cell_type": "markdown",
   "id": "594ebdce-eddd-4be7-aa99-e04362c2b6b5",
   "metadata": {},
   "source": [
    "Omzetten van een Python-dictionary naar \"json--\":\n",
    "\n",
    "* vervangen van de integer keys door string-keys\n",
    "* omzetten naar een string, op de standaard-Python manier.\n",
    "* NB: we moeten wel de enkele quotes vervangen door dubbele...\n",
    "* ik weet niet of we enige invloed hebben op het gebruik van spaties, of op de layout."
   ]
  },
  {
   "cell_type": "code",
   "execution_count": 17,
   "id": "82365638-9c87-4eb3-bc6c-3f31857712e7",
   "metadata": {},
   "outputs": [],
   "source": [
    "def to_json(obj: dict):\n",
    "    new_obj = {}\n",
    "    for key in obj:\n",
    "        value = obj[key]\n",
    "        if type(value) is dict:\n",
    "            value = to_json(value)\n",
    "        if type(key) is int:\n",
    "            new_obj[str(key)] = value\n",
    "        else:\n",
    "            new_obj[key] = value\n",
    "            \n",
    "    return new_obj        "
   ]
  },
  {
   "cell_type": "code",
   "execution_count": 18,
   "id": "e705f691-f9e9-44ed-9884-b5b6e0cda59f",
   "metadata": {},
   "outputs": [
    {
     "name": "stdout",
     "output_type": "stream",
     "text": [
      "<class 'int'>\n"
     ]
    }
   ],
   "source": [
    "print(type(3))"
   ]
  },
  {
   "cell_type": "code",
   "execution_count": 19,
   "id": "04824dbc-a5fd-4588-87e9-f3fc8cc06460",
   "metadata": {},
   "outputs": [
    {
     "data": {
      "text/plain": [
       "'{\"aa\": \"bb\", \"payload\": {\"0\": {\"temp\": 10}}}'"
      ]
     },
     "execution_count": 19,
     "metadata": {},
     "output_type": "execute_result"
    }
   ],
   "source": [
    "my_obj = {\"aa\": 'bb', 'payload': {0: {'temp': 10}}}\n",
    "str(to_json(my_obj)).replace(\"'\", '\"')"
   ]
  },
  {
   "cell_type": "code",
   "execution_count": 22,
   "id": "b5f0f005-9155-4ac2-9853-833d48ba283d",
   "metadata": {},
   "outputs": [
    {
     "data": {
      "text/plain": [
       "'{\"nodeid\": \"fe3d\", \"counter\": 3027, \"payload\": {\"0\": {\"temperature\": 235}, \"1\": {\"barometer\": 10093}, \"2\": {\"dOut\": 1}, \"8\": {\"aOut\": 255}}}'"
      ]
     },
     "execution_count": 22,
     "metadata": {},
     "output_type": "execute_result"
    }
   ],
   "source": [
    "my_obj1 = {\"nodeid\": \"fe3d\",\n",
    " \"counter\": 3027,\n",
    " \"payload\": {\n",
    "   0: {\"temperature\": 235},\n",
    "   1: {\"barometer\": 10093},\n",
    "   2: {\"dOut\": 1},\n",
    "   8: {\"aOut\": 255}\n",
    "  }\n",
    "}\n",
    "\n",
    "str(to_json(my_obj1)).replace(\"'\", '\"')"
   ]
  },
  {
   "cell_type": "code",
   "execution_count": 34,
   "id": "fb604b05-cd31-4bd5-8079-c4e8f5923b73",
   "metadata": {},
   "outputs": [
    {
     "name": "stdout",
     "output_type": "stream",
     "text": [
      "\\\".\\,.\\\"\n"
     ]
    }
   ],
   "source": [
    "print('\".,.\"'.replace('\"', '\\\\\\\"').replace(',','\\\\,'))"
   ]
  },
  {
   "cell_type": "code",
   "execution_count": 31,
   "id": "97138ee1-3653-42c6-8746-dc78c6af345d",
   "metadata": {},
   "outputs": [
    {
     "data": {
      "text/plain": [
       "173"
      ]
     },
     "execution_count": 31,
     "metadata": {},
     "output_type": "execute_result"
    }
   ],
   "source": [
    "len('AT+MQTTPUB=0,\"node/fe30/sensors\",\"{\\\"nodeid\\\": \\\"fe30\\\", \\\"counter\\\": 82, \\\"payload\\\": \\\"{\\\"2\\\": \\\"{\\\"dIn\\\": 0}\\\", \\\"4\\\": \\\"{\\\"aIn\\\": 0}\\\", \\\"3\\\": \\\"{\\\"dIn\\\": 1}\\\", \\\"6\\\": \\\"{\\\"temperature\\\": 210}\\\"}\\\"}\",0,0')"
   ]
  },
  {
   "cell_type": "markdown",
   "id": "79a253c7-65a5-40d4-a822-cec2738742cd",
   "metadata": {},
   "source": [
    " {\"nodeid\": \"fe30\", \"counter\": 203, \"payload\": \"{\"2\": \"{\"dIn\": 0}\", \"4\": \"{\"aIn\": 0}\", \"3\": \"{\"dIn\": 0}\", \"6\": \"{\"temperature\": 200}\"}\"}"
   ]
  }
 ],
 "metadata": {
  "kernelspec": {
   "display_name": "Python 3 (ipykernel)",
   "language": "python",
   "name": "python3"
  },
  "language_info": {
   "codemirror_mode": {
    "name": "ipython",
    "version": 3
   },
   "file_extension": ".py",
   "mimetype": "text/x-python",
   "name": "python",
   "nbconvert_exporter": "python",
   "pygments_lexer": "ipython3",
   "version": "3.10.10"
  }
 },
 "nbformat": 4,
 "nbformat_minor": 5
}
