{
 "cells": [
  {
   "cell_type": "markdown",
   "id": "fa82e8ff-8db3-4d4b-809a-7ab9f0ec3311",
   "metadata": {},
   "source": [
    "# ESP-AT IoT-node"
   ]
  },
  {
   "cell_type": "markdown",
   "id": "9d0c2f7a-3b7c-4221-9b03-1a1a61299010",
   "metadata": {},
   "source": [
    "Met behulp van het Elecfreaks iot:bit bordje en de ESP-AT library kun je van een enkele microbit een IoT-knoop maken.\n",
    "Doordat de iot:bit behoorlijk veel stroom vraagt (voor de WiFi-verbinding), is dit minder geschikt als draadloze oplossing."
   ]
  },
  {
   "cell_type": "markdown",
   "id": "535433b2-f21e-42ae-b5c3-9b2ca43ee64f",
   "metadata": {},
   "source": [
    "* structuur van de WiFi-communicatie\n",
    "* opbouwen van de sensor-berichten:\n",
    "    * eerst als LPP-structuur\n",
    "    * omzetten naar Python object?\n",
    "    * omzetten naar JSON string\n",
    "* verzenden van MQTT berichten\n",
    "* ontvangen van MQTT berichten"
   ]
  },
  {
   "cell_type": "markdown",
   "id": "4c5f16ec-3050-4a92-b55e-1e0ae8bfbf26",
   "metadata": {},
   "source": []
  }
 ],
 "metadata": {
  "kernelspec": {
   "display_name": "Python 3 (ipykernel)",
   "language": "python",
   "name": "python3"
  },
  "language_info": {
   "codemirror_mode": {
    "name": "ipython",
    "version": 3
   },
   "file_extension": ".py",
   "mimetype": "text/x-python",
   "name": "python",
   "nbconvert_exporter": "python",
   "pygments_lexer": "ipython3",
   "version": "3.10.10"
  }
 },
 "nbformat": 4,
 "nbformat_minor": 5
}
