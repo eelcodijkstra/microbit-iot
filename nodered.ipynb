{
 "cells": [
  {
   "cell_type": "markdown",
   "id": "7392856d-c602-43ec-a74c-24c1acd103f5",
   "metadata": {},
   "source": [
    "# NodeRed"
   ]
  },
  {
   "cell_type": "markdown",
   "id": "3e6dbe35-f731-4afc-ab0c-dc4ad00cdff1",
   "metadata": {},
   "source": [
    "Met NodeRed kun je op een visuele manier allerlei (IoT) protocollen, diensten en IoT-knopen aan elkaar verbinden.\n",
    "\n",
    "Een NodeRed flow bestaat uit *nodes en verbindingen*."
   ]
  },
  {
   "cell_type": "markdown",
   "id": "c4eb2652-4341-4e85-a943-9e41742d7363",
   "metadata": {},
   "source": [
    "Een node verwerkt een (van links) inkomend bericht, en genereert daaruit (rechts) uitgaande berichten. \n",
    "Een verbinding tussen twee nodes geeft aan dat de (rechts) uitgaande berichten van de ene node, als (links) inkomende berichten bij de andere node terechtkomen.\n",
    "\n",
    "* Een input-node, zoals een HTTP input node of een MQTT input node, ontvangt berichten via het genoemde protocol.\n",
    "* Een output-node, zoals een HTTP output node of een MQTT output node, verstuurt berichten via het genoemde protocol.\n",
    "\n",
    "Er zijn input- en output-nodes voor een groot aantal internet-protocollen, zoals TCP, UDP, HTTP, MQTT, en websockets.\n",
    "\n",
    "(Op de Raspberry Pi heb je ook input- en output-nodes die verbonden zijn met de hardware input- en output-pinnen.)\n",
    "\n",
    "Er zijn twee speciale nodes die erg handig zijn bij het opbouwen en testen van flows:\n",
    "\n",
    "* de inject-node, waarmee je met de hand berichten in een flow kunt \"injecteren\";\n",
    "* de debug-node, waarmee je ontvangen berichten zichtbaar kunt maken in het debug-venster."
   ]
  },
  {
   "cell_type": "markdown",
   "id": "3beacad3-029e-47f8-9a3d-c90431033389",
   "metadata": {},
   "source": [
    "## Berichten en events\n",
    "\n"
   ]
  },
  {
   "cell_type": "markdown",
   "id": "64d6789a-dffd-4959-9869-f3a223315e71",
   "metadata": {},
   "source": [
    "## Signalen"
   ]
  },
  {
   "cell_type": "markdown",
   "id": "16548ba7-876f-4e3e-8112-7094f2feb57f",
   "metadata": {},
   "source": [
    "Voor signalen vormt NodeRed een dataflow-model: je kunt de opeenvolgende berichten (monsters) van een signaal langs verschillende nodes leiden."
   ]
  },
  {
   "cell_type": "markdown",
   "id": "2736722e-c510-40f7-a4ec-4b346a819b24",
   "metadata": {},
   "source": []
  }
 ],
 "metadata": {
  "kernelspec": {
   "display_name": "Python 3 (ipykernel)",
   "language": "python",
   "name": "python3"
  },
  "language_info": {
   "codemirror_mode": {
    "name": "ipython",
    "version": 3
   },
   "file_extension": ".py",
   "mimetype": "text/x-python",
   "name": "python",
   "nbconvert_exporter": "python",
   "pygments_lexer": "ipython3",
   "version": "3.10.10"
  }
 },
 "nbformat": 4,
 "nbformat_minor": 5
}
