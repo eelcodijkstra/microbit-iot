{
 "cells": [
  {
   "cell_type": "markdown",
   "id": "b596d768-f599-47ee-83aa-415b61bf5d1c",
   "metadata": {},
   "source": [
    "# microPython gateway"
   ]
  },
  {
   "cell_type": "markdown",
   "id": "091f7f0d-453f-4365-bbe6-4151feae31eb",
   "metadata": {},
   "source": [
    "De onderstaande code voor de gateway zou zowel op de ESP32 als op de raspberry pi Pico moeten werken."
   ]
  },
  {
   "cell_type": "markdown",
   "id": "50fafb3b-402a-4b59-a10c-deb1c23e51cc",
   "metadata": {},
   "source": [
    "```Python\n",
    "from machine import UART\n",
    "import time\n",
    "\n",
    "in_buf = b''       # of: b'' - een bytes object ter lengte 0\n",
    "LF = b'\\n'         # werkt dit?\n",
    "\n",
    "timer = time.ticks_add(time.ticks_ms(), 5000)\n",
    "\n",
    "uart = UART(2, baudrate=9600, tx=17, rx=16)\n",
    "pos = -1\n",
    "\n",
    "while True:\n",
    "    if uart.any():\n",
    "        in_buf = in_buf + uart.read()\n",
    "        pos = in_buf.find(LF)\n",
    "\n",
    "    # pos = in_buf.find(LF)\n",
    "    if pos >= 0 :                    # complete line found\n",
    "        print(in_buf[0:pos])         # handle first line\n",
    "        in_buf = in_buf[pos+1:]      # and keep the rest\n",
    "        pos = in_buf.find(LF)\n",
    "\n",
    "    if time.ticks_diff(time.ticks_ms(), timer) >= 0:\n",
    "        uart.write(b'Hello World\\nHello\\n\\nhi...\\n')\n",
    "        timer = time.ticks_add(timer, 5000)\n",
    "```"
   ]
  },
  {
   "cell_type": "markdown",
   "id": "6d963181-3ed5-4fca-bfde-ed5a836938a0",
   "metadata": {},
   "source": [
    "De bestanden `boot.py` en `main.py` worden in het ESP filesysteem bewaard (via Thonny).\n",
    "\n",
    "Hieronder: boot.py"
   ]
  },
  {
   "cell_type": "markdown",
   "id": "0a801422-705c-473f-bad6-203388ff22d7",
   "metadata": {},
   "source": [
    "```Python\n",
    "# This file is executed on every boot (including wake-boot from deepsleep)\n",
    "#import esp\n",
    "#esp.osdebug(None)\n",
    "#import webrepl\n",
    "#webrepl.start()\n",
    "\n",
    "# Complete project details at https://RandomNerdTutorials.com\n",
    "\n",
    "import time\n",
    "from umqttsimple import MQTTClient\n",
    "import ubinascii\n",
    "import machine\n",
    "import micropython\n",
    "import network\n",
    "import esp\n",
    "esp.osdebug(None)\n",
    "import gc\n",
    "gc.collect()\n",
    "\n",
    "ssid = b'xxx'\n",
    "password = b'xxx'\n",
    "mqtt_server = 'infvopedia.nl'\n",
    "#EXAMPLE IP ADDRESS\n",
    "#mqtt_server = '192.168.1.144'\n",
    "client_id = ubinascii.hexlify(machine.unique_id())\n",
    "topic_sub = b'node/+/actuators'\n",
    "topic_pub = b'hello'\n",
    "\n",
    "last_message = 0\n",
    "message_interval = 5\n",
    "counter = 0\n",
    "\n",
    "print('test WiFi - 0')\n",
    "\n",
    "station = network.WLAN(network.STA_IF)\n",
    "\n",
    "station.active(True)\n",
    "station.disconnect()\n",
    "\n",
    "if not station.isconnected():\n",
    "    station.connect(ssid, password)\n",
    "\n",
    "    while station.isconnected() == False:\n",
    "        time.sleep(1)  \n",
    "\n",
    "print('Connection successful')\n",
    "print(station.ifconfig())\n",
    "\n",
    "```\n"
   ]
  },
  {
   "cell_type": "markdown",
   "id": "365f3db3-c222-4d32-9196-8cc59e2b5aa0",
   "metadata": {},
   "source": [
    "Hieronder: main.py\n",
    "\n",
    "(Het is mij nog niet duidelijk wat een handige verdeling is tussen boot.py en main.py. Wat zijn de algemene regels daarvoor, in microPython?)"
   ]
  },
  {
   "cell_type": "markdown",
   "id": "8542e668-ba18-480b-ba0d-a3c9c6a2b6c5",
   "metadata": {},
   "source": [
    "```Python\n",
    "# Complete project details at https://RandomNerdTutorials.com\n",
    "\n",
    "from umqttsimple import MQTTClient, MQTTException\n",
    "from ulpp import bytes_to_dict, dict_to_bytes\n",
    "from machine import UART\n",
    "import json \n",
    "\n",
    "uart = UART(2, baudrate=9600, tx=17, rx=16)\n",
    "pos = -1\n",
    "in_buf = b''\n",
    "LF = b'\\n'\n",
    "\n",
    "local_nodes = []\n",
    "\n",
    "hex = '0123456789ABCDEF'\n",
    "\n",
    "def nibble(char):\n",
    "    if char >= ord('0') and char <= ord('9'):\n",
    "        return char - ord('0')\n",
    "    elif char >= ord('A') and char <= ord('F'):\n",
    "        return 10 + char - ord('A')\n",
    "    elif char >= ord('a') and char <= ord('f'):\n",
    "        return 10 + char - ord('a')\n",
    "    else:\n",
    "        return -1\n",
    "\n",
    "def hex_to_bytes(data):\n",
    "    # input bytes or string; only hex chars; even length\n",
    "    # output bytes\n",
    "    if type(data) == str:\n",
    "        data = bytes(data, 'ascii')\n",
    "    res = []\n",
    "    assert(len(data) % 2 == 0)\n",
    "    i = 0\n",
    "    while i+1 < len(data):\n",
    "        byte = nibble(data[i]) * 16 + nibble(data[i+1])\n",
    "        i += 2\n",
    "        res.append(byte)\n",
    "    return bytes(res)\n",
    "\n",
    "def bytes_to_hex(data):\n",
    "    # input: bytes or int list\n",
    "    # output: hex bytes\n",
    "    res = ''\n",
    "    for i in data:\n",
    "        res += hex[i // 16] + hex[i % 16]\n",
    "    return bytes(res, 'ascii')            \n",
    "\n",
    "def sub_cb(topic, msg, ret, dup):\n",
    "    print((topic, msg))\n",
    "    if topic == b'notification' and msg == b'received':\n",
    "        print('ESP received hello message')\n",
    "    items = topic.decode('ascii').split('/')\n",
    "    if items[0] == 'node' and items[2] == 'actuators':\n",
    "        nodeID_hex = items[1]\n",
    "        nodeID_bytes = hex_to_bytes(nodeID_hex)\n",
    "        nodeID = nodeID_bytes[0] * 256 + nodeID_bytes[1]\n",
    "        if nodeID in local_nodes:\n",
    "            # convert msg from JSON to dict\n",
    "            # what is the msg-format? only payload\n",
    "            lpp_dict = json.loads(msg.decode('ascii'))\n",
    "            # counter = msg['counter']\n",
    "            # convert (lpp)dict to (lpp)bytes\n",
    "            lpp_bytes = dict_to_bytes(lpp_dict)\n",
    "            # construct msg: tag(1?), nodeID, counter?, lpp-bytes\n",
    "            counter = 0\n",
    "            msg = bytes([1, nodeID // 256, nodeID % 256, counter // 256, counter % 256])\n",
    "            msg = msg + lpp_bytes\n",
    "            # convert msg to msg_hex\n",
    "            msg_hex = bytes_to_hex(msg)\n",
    "            print(msg_hex)\n",
    "            # send msg_hex to serial\n",
    "            msg_hex = msg_hex + LF\n",
    "            uart.write(msg_hex)\n",
    "\n",
    "def connect_and_subscribe():\n",
    "    global client_id, mqtt_server, topic_sub\n",
    "    client = MQTTClient(client_id, mqtt_server, user=\"mqtttest\", password=\"testmqtt\")\n",
    "    client.set_callback(sub_cb)\n",
    "    client.connect()\n",
    "    client.subscribe(topic_sub)\n",
    "    print('Connected to %s MQTT broker, subscribed to %s topic' % (mqtt_server, topic_sub))\n",
    "    return client\n",
    "\n",
    "def restart_and_reconnect():\n",
    "    print('Failed to connect to MQTT broker. Reconnecting...')\n",
    "    time.sleep(10)\n",
    "    machine.reset()\n",
    "\n",
    "def sensordata_to_mqtt(data):\n",
    "    port = data[0]    \n",
    "    if port == 1:\n",
    "        nodeID = data[1] * 256 + data[2]\n",
    "        if not nodeID in local_nodes:\n",
    "            local_nodes.append(nodeID)\n",
    "            \n",
    "        nodeID_hex = '{0:x}'.format(nodeID)\n",
    "        #(x, y) = data[1], data[2]\n",
    "        # nodeID = hex[x:x+1] + hex[y:y+1]\n",
    "        counter = data[3] * 256 + data[4]\n",
    "        lpp_dict = bytes_to_dict(data[5:])\n",
    "        msg = {'nodeid': nodeID_hex,\n",
    "               'counter': counter,\n",
    "               'payload': lpp_dict\n",
    "              }\n",
    "        print(json.dumps(msg))\n",
    "        client.publish(f'node/{nodeID_hex}/sensors', json.dumps(msg))\n",
    "    else:\n",
    "        print('???')\n",
    "\n",
    "try:\n",
    "    client = connect_and_subscribe()\n",
    "except MQTTException:\n",
    "    restart_and_reconnect()    \n",
    "except OSError as e:\n",
    "    restart_and_reconnect()\n",
    "\n",
    "while True:\n",
    "    try:\n",
    "        client.check_msg()\n",
    "        \n",
    "        if uart.any():\n",
    "            in_buf = in_buf + uart.read()\n",
    "            pos = in_buf.find(LF)\n",
    "\n",
    "        # pos = in_buf.find(LF)\n",
    "        if pos >= 0 :                    # complete line found\n",
    "            print(in_buf[0:pos]) # handle first line\n",
    "            if nibble(in_buf[0]) >= 0 and nibble(in_buf[0]) < 16: \n",
    "#            if in_buf[0] != ord('T'):    \n",
    "                data = hex_to_bytes(in_buf[0:pos])\n",
    "                sensordata_to_mqtt(data)\n",
    "            \n",
    "            in_buf = in_buf[pos+1:]      # and keep the rest\n",
    "            pos = in_buf.find(LF)  \n",
    "  \n",
    "    except MQTTException:\n",
    "        restart_and_reconnect()\n",
    "    except OSError as e:\n",
    "        restart_and_reconnect()\n",
    "```\n"
   ]
  },
  {
   "cell_type": "markdown",
   "id": "897d7cc8-6bad-4289-8fe7-5ea4c1457fdf",
   "metadata": {},
   "source": [
    "Nog verder uitwerken:\n",
    "\n",
    "* bijhouden van een lijst van lokale nodeID's: alleen voor die nodeIDs moeten de binnenkomende MQTT-berichten doorgestuurd worden.\n",
    "* ontvangen van MQTT berichten (alleen voor de lokale nodes)\n",
    "    * omzetten van JSON naar LPP\n",
    "    * aanroepen van de juiste LPP-coderingsfunctie, op basis van het type-veld. (De identifier die als key gebruikt wordt.)\n",
    "    * omzetten van LPP naar hex (net als in de microbit iotnode)\n",
    "    * hex-bytestring doorsturen naar de radio-microbit\n",
    "    \n",
    "In de radio-microbit:\n",
    "\n",
    "* als een uart-bericht binnenkomt:\n",
    "    * omzetten van hex naar binair\n",
    "    * versturen van het binaire bericht\n",
    "\n",
    "NB: de microbit-radio kent alleen een broadcast; de radio-microbit hoeft dit bericht niet te interpreteren."
   ]
  },
  {
   "cell_type": "code",
   "execution_count": null,
   "id": "057aeccf-9567-4287-8907-a552bb7e0121",
   "metadata": {},
   "outputs": [],
   "source": [
    "hex = '0123456789ABCDEF'\n",
    "\n",
    "def bytes_to_hex(data):\n",
    "    res = \"\"\n",
    "    for i in data:     \n",
    "        res = res + hex[i // 16] + hex[i % 16]\n",
    "    return bytes(res, 'ascii')   "
   ]
  },
  {
   "cell_type": "code",
   "execution_count": null,
   "id": "79148d4b-489e-4ab0-ac14-1a9c96a0cb49",
   "metadata": {},
   "outputs": [],
   "source": [
    "bytes_to_hex([1,2,3, 255, 254, 253])"
   ]
  },
  {
   "cell_type": "markdown",
   "id": "948b502e-93e7-45e8-b3e7-8a0e093afd9c",
   "metadata": {},
   "source": [
    "(Als algemene aanpak denk ik dat het verstandig is om pas op het laatste moment naar bytes te converteren. De meeste bytes-operaties zijn niet echt handig...)"
   ]
  },
  {
   "cell_type": "code",
   "execution_count": null,
   "id": "677ab915-a519-4004-9ae5-9505b7ce333f",
   "metadata": {},
   "outputs": [],
   "source": [
    "bytes_to_hex(b'123')"
   ]
  },
  {
   "cell_type": "code",
   "execution_count": null,
   "id": "a2ff7d96-87b8-403d-acc4-e4561e9d7040",
   "metadata": {},
   "outputs": [],
   "source": [
    "bytes_to_hex(bytes([1,2,3, 255, 254, 253]))"
   ]
  },
  {
   "cell_type": "code",
   "execution_count": 1,
   "id": "72aca719-884c-4db6-89f7-7bf190b0c7df",
   "metadata": {},
   "outputs": [],
   "source": [
    "hex = '0123456789ABCDEF'\n",
    "\n",
    "def nibble(char):\n",
    "    if char >= ord('0') and char <= ord('9'):\n",
    "        return char - ord('0')\n",
    "    elif char >= ord('A') and char <= ord('F'):\n",
    "        return 10 + char - ord('A')\n",
    "    elif char >= ord('a') and char <= ord('f'):\n",
    "        return 10 + char - ord('a')\n",
    "    else:\n",
    "        return 0\n",
    "\n",
    "def hex_to_bytes(data):\n",
    "    # input bytes or string; only hex chars; even length\n",
    "    # output bytes\n",
    "    if type(data) == str:\n",
    "        data = bytes(data, 'ascii')\n",
    "    res = []\n",
    "    assert(len(data) % 2 == 0)\n",
    "    i = 0\n",
    "    while i+1 < len(data):\n",
    "        byte = nibble(data[i]) * 16 + nibble(data[i+1])\n",
    "        i += 2\n",
    "        res.append(byte)\n",
    "    return bytes(res)\n",
    "\n",
    "def bytes_to_hex(data):\n",
    "    # input: bytes or int list\n",
    "    # output: hex bytes\n",
    "    res = ''\n",
    "    for i in data:\n",
    "        res += hex[i // 16] + hex[i % 16]\n",
    "    return bytes(res, 'ascii')    \n",
    "    "
   ]
  },
  {
   "cell_type": "code",
   "execution_count": 2,
   "id": "9ff617bb-b12a-4e03-9db4-f455d9c333a8",
   "metadata": {},
   "outputs": [
    {
     "data": {
      "text/plain": [
       "b'\\x01\\x02\\x03\\xff\\xfe\\xfd'"
      ]
     },
     "execution_count": 2,
     "metadata": {},
     "output_type": "execute_result"
    }
   ],
   "source": [
    "hex_to_bytes(b'010203FFFEFD')"
   ]
  },
  {
   "cell_type": "code",
   "execution_count": 3,
   "id": "861dd6ae-d296-4ec3-a8bc-5ee3aeea291d",
   "metadata": {},
   "outputs": [
    {
     "data": {
      "text/plain": [
       "bytes"
      ]
     },
     "execution_count": 3,
     "metadata": {},
     "output_type": "execute_result"
    }
   ],
   "source": [
    "type(b'\\x01\\x02\\x03\\xff\\xfe\\xfd')"
   ]
  },
  {
   "cell_type": "code",
   "execution_count": 4,
   "id": "9480b30d-e24b-4a3c-b0e9-32ecf4e14184",
   "metadata": {},
   "outputs": [
    {
     "data": {
      "text/plain": [
       "str"
      ]
     },
     "execution_count": 4,
     "metadata": {},
     "output_type": "execute_result"
    }
   ],
   "source": [
    "type('ab')"
   ]
  },
  {
   "cell_type": "code",
   "execution_count": 5,
   "id": "f43835a9-2678-4c12-b204-20261d89eed3",
   "metadata": {},
   "outputs": [
    {
     "data": {
      "text/plain": [
       "b'010203FFFEFD'"
      ]
     },
     "execution_count": 5,
     "metadata": {},
     "output_type": "execute_result"
    }
   ],
   "source": [
    "bytes_to_hex(b'\\x01\\x02\\x03\\xff\\xfe\\xfd')"
   ]
  },
  {
   "cell_type": "code",
   "execution_count": 6,
   "id": "0a9776c2-fe30-4354-91d6-43473facc1bf",
   "metadata": {},
   "outputs": [],
   "source": [
    "xxx = bytes_to_hex(bytes([1,2,3,255]))"
   ]
  },
  {
   "cell_type": "code",
   "execution_count": 7,
   "id": "b35ce00a-d693-4225-9d6d-f743f501dc77",
   "metadata": {},
   "outputs": [
    {
     "data": {
      "text/plain": [
       "50"
      ]
     },
     "execution_count": 7,
     "metadata": {},
     "output_type": "execute_result"
    }
   ],
   "source": [
    "xxx[3]"
   ]
  },
  {
   "cell_type": "code",
   "execution_count": 8,
   "id": "c7141d2f-4869-40f4-af76-33b2fe625149",
   "metadata": {},
   "outputs": [
    {
     "data": {
      "text/plain": [
       "b'010203FF'"
      ]
     },
     "execution_count": 8,
     "metadata": {},
     "output_type": "execute_result"
    }
   ],
   "source": [
    "xxx"
   ]
  },
  {
   "cell_type": "code",
   "execution_count": null,
   "id": "2b7862ef-45d5-44b1-9e77-3fd37e43d56f",
   "metadata": {},
   "outputs": [],
   "source": []
  }
 ],
 "metadata": {
  "kernelspec": {
   "display_name": "Python 3 (ipykernel)",
   "language": "python",
   "name": "python3"
  },
  "language_info": {
   "codemirror_mode": {
    "name": "ipython",
    "version": 3
   },
   "file_extension": ".py",
   "mimetype": "text/x-python",
   "name": "python",
   "nbconvert_exporter": "python",
   "pygments_lexer": "ipython3",
   "version": "3.10.10"
  }
 },
 "nbformat": 4,
 "nbformat_minor": 5
}
