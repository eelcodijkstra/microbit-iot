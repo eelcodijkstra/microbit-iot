{
 "cells": [
  {
   "cell_type": "markdown",
   "id": "730ed6f9-5a0c-41f9-89b4-c7e539b570fc",
   "metadata": {},
   "source": [
    "# ESPAT-gateway"
   ]
  },
  {
   "cell_type": "markdown",
   "id": "9c2b229d-7c0f-4e7a-ae54-6f6f97706b1e",
   "metadata": {},
   "source": [
    "**IoT gateway gebaseerd op ESP-AT library, voor gebruik met de iot:bit**"
   ]
  },
  {
   "cell_type": "markdown",
   "id": "fa14a939-71c6-4003-87b5-ead31b7a986a",
   "metadata": {},
   "source": [
    "De ESP-AT gateway vormt de verbinding tussen een lokaal microbit-IoT-netwerk en het internet.\n",
    "Lokale (uplink) sensorberichten in LPP-formaat worden omgezet in JSON, en verstuurd via MQTT.\n",
    "Downlink actuatorberichten in JSON-formaat worden ontvangen via MQTT, omgezet naar LPP-formaat, en verstuurd naar het lokale microbit-netwerk.\n",
    "\n",
    "De IoT-knopen in het lokale netwerk hebben een (4-bytes) Node-ID, zoals gebruikelijk in het platform voor het keuzethema-materiaal. Aan de hand van de ontvangen uplink-berichten bepaalt de gateway welke nodes in het lokale netwerk aanwezig zijn. Alleen downlink-berichten voor deze nodes worden naar het lokale microbit-netwerk verstuurd."
   ]
  },
  {
   "cell_type": "markdown",
   "id": "99d93135-b396-46ed-989d-cf5ca6f3c311",
   "metadata": {},
   "source": [
    "(De code is in eerste instantie gebaseerd op de gateway die ik op de ESP32 gemaakt heb, met een microbit als receiver.)\n",
    "\n",
    "* logging via de radio (kan niet anders met de microbit - iot:bit combinatie.)\n",
    "* voor het omzetten van de LPP bytes naar een Python dictionary gebruiken we `bytes_to_dict()`.\n",
    "    * het resultaat zetten we om in JSON, en versturen dat naar de broker.\n",
    "    \n",
    "Wat is het JSON-formaat van de actuator-berichten? Zit daar bijv. ook de counter in, en de node-id? of alleen de payload?"
   ]
  },
  {
   "cell_type": "markdown",
   "id": "6e415c2a-4745-4745-a497-14d6e28447f2",
   "metadata": {},
   "source": [
    "## Voorbeelden van JSON-berichten"
   ]
  },
  {
   "cell_type": "markdown",
   "id": "47bfdf01-f234-4176-80af-fcada45bb14b",
   "metadata": {},
   "source": [
    "Downlink-bericht (actuators):\n",
    "\n",
    "```json\n",
    "{\"2\": {\"dOut\": 0},\n",
    " \"8\": {\"aOut\": 12}\n",
    "}\n",
    "```\n",
    "Merk op dat deze in tegenstelling tot de uplink-berichten alleen uit de payload bestaat. (Ja, dat is inderdaar niet erg consequent... Maar min of meer zo gegroeid... In een volgende versie aanpassen?)\n",
    "\n",
    "NB: in het binaire formaat in het microbit-netwerk gebruiken we voor sensoren en actuatoren hetzelfde formaat: de eerste 5 bytes zijn de protocol-id (1), node-id (2 bytes), en counter (2 bytes); daarna volgt de payload, in binair LPP-formaat."
   ]
  },
  {
   "cell_type": "markdown",
   "id": "6e212ff1-47d4-4481-81f3-fd698b595f42",
   "metadata": {},
   "source": [
    "Uplink-bericht (sensoren):\n",
    "\n",
    "```json\n",
    "{\"nodeid\": \"fe3d\",\n",
    " \"counter\": 3027,\n",
    " \"payload\": {\n",
    "   \"0\": {\"temperature\": 235},\n",
    "   \"1\": {\"barometer\": 10093},\n",
    "   \"2\": {\"dOut\": 1},\n",
    "   \"8\": {\"aOut\": 255}\n",
    "  }\n",
    "}\n",
    "```"
   ]
  },
  {
   "cell_type": "markdown",
   "id": "6f99ce38-33e8-44d6-9e0b-9566705171af",
   "metadata": {},
   "source": [
    "**Opmerking.** De microbit microPython-versie heeft geen json-library ingebouwd. (In principe is de broncode wel beschikbaar, dus die zouden we met de hand kunnen toevoegen; bestaat wel uit ca. 5 bestanden...)\n",
    "\n",
    "Maar:\n",
    "\n",
    "* voor het omzetten van Python-formaat naar JSON-formaat hoeven we mogelijk (bijna) niets te doen: als je een Python-object omzet naar een string, krijg je al deze uitvoer. Het enige punt van aandacht zijn de keys van de payload: in Python zijn dat getallen, in JSON zijn dat strings. Als we die omzetting doen, kunnen we gewoon het stringformaat gebruiken. (We maken er hier gebruik van dat we weten hoe de JSON-objecten eruit zien; in zijn algemeenheid kun je die aanpak niet gebruiken.)\n",
    "* voor het omzetten van JSON naar Python? (bij de binnenkomende mqtt-berichten)\n",
    "    * in de objecten komen alleen int-waarden en string-waarden voor; geen floats en geen booleans. (Bij die laatste is er ook een verschil tussen Python en JSON.)\n",
    "    * in de objecten komen (nog) geen arrays voor.\n",
    "    * als string-quotes worden alleen dubbele quotes gebruikt?"
   ]
  },
  {
   "cell_type": "markdown",
   "id": "0b5ea774-2cc6-415d-9b52-4c72d7455662",
   "metadata": {},
   "source": [
    "(De oorspronkelijke gateway-code is nogal \"ruig\" als het gaat om communicatieproblemen: een complete reset van de gateway.)"
   ]
  },
  {
   "cell_type": "code",
   "execution_count": null,
   "id": "ac866be5-536e-40bf-b2fc-d02d896e6ee3",
   "metadata": {},
   "outputs": [],
   "source": [
    "# ESP-AT gateway for microbit IoT-network\n",
    "# version 0.1 (EJD - 20230508)\n",
    "\n",
    "from microbit import *\n",
    "import radio\n",
    "from espat import *\n",
    "from ulpp import bytes_to_dict, dict_to_bytes\n",
    "import json \n",
    "\n",
    "# gateway connection configuration\n",
    "wifi_ssid = 'infvo-iot'\n",
    "wifi_password = 'LISP77(Midas'\n",
    "mqtt_user = 'mqtttest'\n",
    "mqtt_password = 'testmqtt'\n",
    "mqtt_host = 'infvopedia.nl'\n",
    "mqtt_port = 1883\n",
    "\n",
    "uplink_tag = 0x0A\n",
    "downlink_tag = 0x0B\n",
    "\n",
    "radio.on()\n",
    "\n",
    "def log (msg: str):\n",
    "    radio.send(msg)\n",
    "\n",
    "local_nodes = []\n",
    "\n",
    "# handle received MQTT message (from broker)\n",
    "def on_mqtt_message (topic: str, msg: str):\n",
    "    log('-topic: ' + topic)\n",
    "    log('-msg: ' + msg)\n",
    "    # items = topic.decode('ascii').split('/')\n",
    "    items = topic.split('/')\n",
    "    if len(items) == 3 and items[0] == 'node' and items[2] == 'actuators':\n",
    "        nodeID = int(items[1], 16)\n",
    "        if nodeID in local_nodes:\n",
    "            lpp_bytes = dict_to_bytes(json.loads(msg))\n",
    "            downlink_header = bytes([0x0B, nodeID // 256, nodeID % 256, 0, 0])\n",
    "            radio.send_bytes(downlink_header + lpp_bytes)\n",
    "\n",
    "# publish sensor data in JSON format to MQTT\n",
    "def sensordata_to_mqtt(data):\n",
    "    nodeID = data[1] * 256 + data[2]\n",
    "    if not nodeID in local_nodes:\n",
    "        local_nodes.append(nodeID)\n",
    "            \n",
    "    nodeID_hex = '{0:x}'.format(nodeID)\n",
    "    counter = data[3] * 256 + data[4]\n",
    "    lpp_dict = bytes_to_dict(data[5:])\n",
    "    msg = {'nodeid': nodeID_hex,\n",
    "            'counter': counter,\n",
    "            'payload': lpp_dict\n",
    "    }\n",
    "    log(json.dumps(msg))\n",
    "    at_mqtt_publish('node/{a}/sensors'.format(a=nodeID_hex), \n",
    "                    json.dumps(msg),\n",
    "                     0, False)\n",
    "\n",
    "# should this be done in the library???\n",
    "uart.init(baudrate=115200, tx=pin8, rx=pin12) # connect to ESP8266\n",
    "sleep(100)\n",
    "\n",
    "display.show('0')\n",
    "at_init_ESP()\n",
    "display.show('1')\n",
    "while not at_wifi_connected():\n",
    "    try:\n",
    "        at_wifi_connect(wifi_ssid, wifi_password)\n",
    "    except Exception as exc:\n",
    "        display.show(at_errorcode)\n",
    "        sleep(2000)\n",
    "        at_init_ESP()\n",
    "        display.show('1')\n",
    "display.show('2')\n",
    "\n",
    "mac_address = at_get_mac_address()\n",
    "log('My mac-addr: ' + mac_address)\n",
    "\n",
    "at_mqtt_set_userconfig(1, 'gw-'+mac_address, mqtt_user, mqtt_password)\n",
    "display.show('3')\n",
    "\n",
    "mqtt_retries = 0\n",
    "    \n",
    "while True:\n",
    "    if not at_mqtt_connected():\n",
    "        if not at_wifi_connected() or mqtt_retries > 20:\n",
    "            reset()\n",
    "        mqtt_ retries += 1\n",
    "        at_mqtt_connect(mqtt_host, mqtt_port, 1)\n",
    "        at_set_on_mqtt_message(on_mqtt_message)\n",
    "        at_mqtt_subscribe('node/+/actuators', 0)\n",
    "        display.show('M')\n",
    "    \n",
    "    msg = radio.receive_bytes()\n",
    "    if msg != None:\n",
    "        if msg[0] == uplink_tag:\n",
    "            sensordata_to_mqtt(msg)\n",
    "                        \n",
    "    if button_a.was_pressed():\n",
    "        if at_mqtt_connected():\n",
    "            at_mqtt_publish('gateway/hello', 'button A', 0, False)\n",
    "\n",
    "    at_check_input()                      "
   ]
  },
  {
   "cell_type": "code",
   "execution_count": null,
   "id": "effe7880-53a8-468f-b570-b80a9a9eaff7",
   "metadata": {},
   "outputs": [],
   "source": [
    "hex = '0123456789ABCDEF'\n",
    "\n",
    "def nibble(char):\n",
    "    if char >= ord('0') and char <= ord('9'):\n",
    "        return char - ord('0')\n",
    "    elif char >= ord('A') and char <= ord('F'):\n",
    "        return 10 + char - ord('A')\n",
    "    elif char >= ord('a') and char <= ord('f'):\n",
    "        return 10 + char - ord('a')\n",
    "    else:\n",
    "        return -1\n",
    "\n",
    "def hex_to_bytes(data):\n",
    "    # input bytes or string; only hex chars; even length\n",
    "    # output bytes\n",
    "    if type(data) == str:\n",
    "        data = bytes(data, 'ascii')\n",
    "    res = []\n",
    "    assert(len(data) % 2 == 0)\n",
    "    i = 0\n",
    "    while i+1 < len(data):\n",
    "        byte = nibble(data[i]) * 16 + nibble(data[i+1])\n",
    "        i += 2\n",
    "        res.append(byte)\n",
    "    return bytes(res)\n",
    "\n",
    "def bytes_to_hex(data) -> str:\n",
    "    # input: bytes or int list\n",
    "    # output: hex string\n",
    "    res = ''\n",
    "    for i in data:\n",
    "        res += hex[i // 16] + hex[i % 16]\n",
    "    return res   "
   ]
  },
  {
   "cell_type": "markdown",
   "id": "6d982ca8-a8e3-4b1d-8ac6-237f6d29de1c",
   "metadata": {},
   "source": [
    "Wat zijn geschikte opdrachten rond de gateway?\n",
    "\n",
    "* bestuderen van de radio-log - in het bijzonder de inkomende en uitgaande berichten.\n",
    "    * de logging kan dan ook wel wat ingeperkt worden...\n",
    "* "
   ]
  }
 ],
 "metadata": {
  "kernelspec": {
   "display_name": "Python 3 (ipykernel)",
   "language": "python",
   "name": "python3"
  },
  "language_info": {
   "codemirror_mode": {
    "name": "ipython",
    "version": 3
   },
   "file_extension": ".py",
   "mimetype": "text/x-python",
   "name": "python",
   "nbconvert_exporter": "python",
   "pygments_lexer": "ipython3",
   "version": "3.10.10"
  }
 },
 "nbformat": 4,
 "nbformat_minor": 5
}
