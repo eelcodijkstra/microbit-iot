{
 "cells": [
  {
   "cell_type": "markdown",
   "id": "df282eae-c690-46c9-9138-fa87dbacd164",
   "metadata": {},
   "source": [
    "# Overzicht"
   ]
  },
  {
   "cell_type": "markdown",
   "id": "b2c838c9-dc12-4ab4-9ad2-77100aaca582",
   "metadata": {},
   "source": [
    "Dit is de documentatie bij een online cursus van 3 bijeenkomsten, over \"het Internet of Things met de micro:bit\". Deze cursus is gebaseerd op het lesmateriaal van het keuzethema Netwerken (Internet of Things).\n",
    "Je kunt dat materiaal gebruiken met verschillende soorten IoT-knopen. In de huidige versie zit de micro:bit daar nog niet bij. Met deze aanvulling kun je het materiaal ook met de micro:bit gebruiken."
   ]
  },
  {
   "cell_type": "markdown",
   "id": "cfb44b27-9d5c-4e74-9b16-6152b22e4ea9",
   "metadata": {},
   "source": [
    ":::{figure} figs/microbit-v2-front.png\n",
    ":width: 250\n",
    ":align: right\n",
    "\n",
    "micro:bit versie 2\n",
    ":::"
   ]
  },
  {
   "cell_type": "markdown",
   "id": "d05bf30c-4a7c-4de3-84c5-40f1e7a21bc4",
   "metadata": {},
   "source": [
    "**Waarom IoT met de micro:bit?**.\n",
    "\n",
    "* microbits zijn laagdrempelig in het gebruik, en zijn op veel scholen beschikbaar (in tegenstelling tot de andere voorbeelden in het IoT lesmateriaal).\n",
    "* een micro:bit heeft alle componenten van een IoT-knoop: sensoren, actuatoren, microcontroller en radio, en kun je eventueel eenvoudig uitbreiden met extra sensoren en actuatoren.\n",
    "* de microbit V2 biedt (eindelijk) goede mogelijkheden voor het programmeren in Python\n",
    "* de microbit V2 kun je energie-zuinig gebruiken - voor IoT-knopen met batterijvoeding."
   ]
  },
  {
   "cell_type": "markdown",
   "id": "2be47f8f-8640-4100-9c82-f52d7da1bcd7",
   "metadata": {},
   "source": [
    "**De cursus.** De nadruk van de cursus ligt op een aantal praktische opdrachten waarbij de microbit als IoT-knoop gebruikt wordt, in een lokaal IoT-netwerk met meerdere microbits, verbonden via een (microbit) gateway met het internet. Het gebruik van de microbit vormt een uitbreiding op het bestaande lesmateriaal, met als doel om de praktische opdrachten laagdrempeliger te maken."
   ]
  },
  {
   "cell_type": "markdown",
   "id": "b0d0e9ab-43fd-44a1-8aa8-348548ee3eb4",
   "metadata": {},
   "source": [
    "**Wat heb je nodig?**\n",
    "\n",
    "::::{grid}\n",
    ":gutter: 3\n",
    "\n",
    ":::{grid-item-card} Hardware\n",
    ":link: benodigde-hardware\n",
    ":link-type: ref\n",
    "Benodigde hardware\n",
    ":::\n",
    "\n",
    ":::{grid-item-card} Software\n",
    ":link: benodigde-software\n",
    ":link-type: ref\n",
    "Gebruikte software\n",
    ":::\n",
    "\n",
    ":::{grid-item-card} Netwerk\n",
    ":link: benodigd-netwerk\n",
    ":link-type: ref\n",
    "Lokaal WiFi netwerk, verbonden met het internet\n",
    ":::\n",
    "::::"
   ]
  },
  {
   "cell_type": "markdown",
   "id": "ad25b441-accb-43bf-b829-e779bcd0f97c",
   "metadata": {},
   "source": [
    "## Internet of Things: architectuur, communicatie"
   ]
  },
  {
   "cell_type": "markdown",
   "id": "cb763a47-efb8-49b2-8deb-cd5bdb86618c",
   "metadata": {},
   "source": [
    "Het Internet of Things is gericht op *slimme toepassingen*, waarbij data van lokale sensoren gecombineerd wordt met data en diensten \"in the cloud\", voor het nemen van *betere beslissingen*, bijvoorbeeld voor het aansturen van lokale actuatoren. In het lesmateriaal staan enkele voorbeelden van dergelijke toepassingen.\n",
    "\n",
    ":::{margin}\n",
    "Microfoons en camera's stellen hoge eisen aan de communicatie, en vallen buiten het bestek van onze IoT-toepassingen.\n",
    ":::\n",
    "\n",
    "In deze cursus (en in het lesmateriaal) gebruiken we \"simpele\" sensoren en actuatoren, met lage eisen aan de communicatie: we kunnen werken met lage bandbreedtes (zeer weinig bits/s) en hoge latency (mogelijk enkele seconden). Dit geeft een grote vrijheid voor de fysieke (radio)communicatie."
   ]
  },
  {
   "cell_type": "markdown",
   "id": "bbfb9333-41f8-4320-a869-107ddcc32d2b",
   "metadata": {},
   "source": [
    ":::{figure} figs/iot-functionele-architectuur.drawio.png\n",
    ":width: 500\n",
    ":align: center\n",
    "\n",
    "IoT functionele architectuur\n",
    ":::"
   ]
  },
  {
   "cell_type": "markdown",
   "id": "5ebd2acc-412a-47af-817d-028f3ad52542",
   "metadata": {},
   "source": [
    "Bovenstaand schema geeft de *functionele onderdelen* van een IoT-toepassing, zonder de communicatie. Omdat deze onderdelen fysiek ver van elkaar verwijderd zijn speelt de communicatie een essentiële rol. In een dergelijk *gedistribueerd systeem* gebeurt de interactie tussen de onderdelen op basis van *berichten*. (Dat vraagt om een wat andere manier van programmeren, wat je terug vindt in NodeRed.)\n",
    "\n",
    "In deze cursus gebruiken we IoT-nodes op basis van de microbit."
   ]
  },
  {
   "cell_type": "markdown",
   "id": "2f804196-abe6-4c41-abd1-fa920c49cd78",
   "metadata": {},
   "source": [
    ":::{figure} figs/iot-netwerk-architectuur.drawio.png\n",
    ":width: 700\n",
    ":align: center\n",
    "\n",
    "IoT netwerk-architectuur\n",
    ":::"
   ]
  },
  {
   "cell_type": "markdown",
   "id": "bda52e84-1e88-40f9-981d-22fd59e0d6b0",
   "metadata": {},
   "source": [
    "De IoT netwerk-architectuur bevat naast de genoemde functionele onderdelen ook de *verbindingen* en *netwerkapparaten*. Vanuit het netwerk bezien zijn de functionele onderdelen *eindapparaten*.\n",
    "\n",
    "De *IoT-gateway* verbindt het IoT-netwerk met het lokale (WiFi) netwerk. Deze moet dus zowel een microbit-radio bevatten als een WiFi-radio."
   ]
  },
  {
   "cell_type": "markdown",
   "id": "c0f5ed5a-25a1-4009-8d40-6f3bf632c541",
   "metadata": {},
   "source": [
    ":::{figure} figs/iot-protocollen.drawio.png\n",
    ":width: 700\n",
    ":align: center\n",
    "\n",
    "IoT protocollen\n",
    ":::"
   ]
  },
  {
   "cell_type": "markdown",
   "id": "cdb96bea-969f-4031-9af0-b77a614d5302",
   "metadata": {},
   "source": [
    "Onze IoT-toepassing gebruikt het MQTT-protocol. MQTT is een publish/subscribe protocol, waarmee een symmetrische interactie tussen de verschillende onderdelen mogelijk is.\n",
    "\n",
    "> Web-toepassingen gebruiken HTTP als belangrijkste protocol. Dat is een client-server protocol, waarbij de client een andere rol heeft dan de server (asymmetrische interactie)."
   ]
  },
  {
   "cell_type": "markdown",
   "id": "611a8028-767f-43bc-aca9-5015264be640",
   "metadata": {},
   "source": [
    ":::{figure} figs/iot-protocol-stack.drawio.png\n",
    ":width: 700\n",
    ":align: center\n",
    "\n",
    "IoT protocol-stack\n",
    ":::"
   ]
  },
  {
   "cell_type": "markdown",
   "id": "305bffd5-36f0-4dfb-835b-ff43e76b2ce6",
   "metadata": {},
   "source": [
    "Voor de IoT-toepassing gebruiken we een eigen protocol met het LPP-formaat voor de data (payload). In het IoT-netwerk gebruiken we dat in binaire vorm. In het internet transporteren we dat in een JSON-LPP (string) formaat over MQTT.\n",
    "\n",
    "Het MQTT-protocol gebruikt de internet-protocollen TCP en IP. "
   ]
  },
  {
   "cell_type": "markdown",
   "id": "b900281e-f0ea-4144-a3e1-69e48daaf895",
   "metadata": {},
   "source": [
    "## Bijeenkomst 1"
   ]
  },
  {
   "cell_type": "markdown",
   "id": "b87e32fe-e3bb-4113-81d6-5a789f878f9d",
   "metadata": {},
   "source": [
    "In de eerste bijeenkomst geven we eerst een overzicht van een IoT-toepassing: welke onderdelen (hardware en software) spelen daarbij een rol? Hoe ziet de communicatie tussen deze onderdelen eruit? \n",
    "\n",
    "Daarna gaan we dieper in op het microbit-IoT-netwerk, met de microbit radio als basis. Hiervoor gebruik je twee microbits: één als IoT-knoop, en één als radiologger; deze laatste is optioneel, maar wel handig. De communicatie in het netwerk gebruikt het binaire Cayenne LPP formaat voor de \"payload\" met de sensor-data.\n",
    "\n",
    "We slaan de IoT-gateway even over: die komt de volgende keer aan de beurt. (Dan heb je nog even tijd om de hardware te bestellen, als je die nog niet hebt.)\n",
    "\n",
    "De rest van de communicatie in de IoT-toepassing gebruikt het MQTT-protocol als basis. We behandelen de principes van dit protocol, en de manier waarop we dit in de IoT-toepassing gebruiken. Je kunt dit uitproberen met IoT-knopen op afstand, en met een gesimuleerde IoT-knoop in je browser.\n",
    "\n",
    "Als er tijd over is maken we een begin met NodeRed: het programma waarmee je eenvoudig *controllers* kunt maken voor IoT-toepassingen. In zo'n controller verwerk je de sensordata, combineert deze eventueel met data en diensten \"in the cloud\", en stuur je de actuatoren in de IoT-knopen aan."
   ]
  },
  {
   "cell_type": "markdown",
   "id": "2eb797a1-02ff-4a3a-8fd7-79aa8e176056",
   "metadata": {},
   "source": [
    "## Bijeenkomst 2"
   ]
  },
  {
   "cell_type": "markdown",
   "id": "ac2fd8e4-8e95-47a6-98ec-6e28235704b5",
   "metadata": {},
   "source": [
    "We gaan nu met de *IoT-gateway* aan de slag: daarmee koppel je het microbit IoT-netwerk aan het internet. Je kunt dan de sensordata via het internet naar de controller sturen, en naar de web-app voor display van de data. En je kunt vanuit de web-app en de controller de actuator(en) van de IoT-knopen aansturen.\n",
    "Deze communicatie verloopt steeds via het MQTT protocol.\n",
    "\n",
    "In NodeRed maken we flows voor de verwerking van sensordata die via MQTT binnenkomt. Hiermee kun je een dashboard maken met een grafische weergaven van de sensordata.\n",
    "En we maken eenvoudige flows voor het (handmatig) aansturen van de actuatoren, weer via MQTT."
   ]
  },
  {
   "cell_type": "markdown",
   "id": "03b0d273-9f21-431f-9413-626705665229",
   "metadata": {},
   "source": [
    "## Bijeenkomst 3"
   ]
  },
  {
   "cell_type": "markdown",
   "id": "e61027c6-d67b-465e-be6a-773dafaa0249",
   "metadata": {},
   "source": [
    "We maken de toepassing compleet, door in de NodeRed controller flows te maken waarin we de sensordata (en eventuele gebruikersinvoer) koppelen aan flows voor het aansturen van de actuator(en) van de IoT-knopen.\n",
    "\n",
    "We bespreken wat er nodig is om de toepassing uit te breiden: met extra sensoren; met extra IoT-knopen; met extra IoT-netwerken; met diensten \"in the cloud\".\n",
    "\n",
    "Tenslotte gaan we in op de manier waarop je dit materiaal in de klas kunt gebruiken: wat heb je daarvoor nog meer nodig?"
   ]
  }
 ],
 "metadata": {
  "kernelspec": {
   "display_name": "Python 3 (ipykernel)",
   "language": "python",
   "name": "python3"
  },
  "language_info": {
   "codemirror_mode": {
    "name": "ipython",
    "version": 3
   },
   "file_extension": ".py",
   "mimetype": "text/x-python",
   "name": "python",
   "nbconvert_exporter": "python",
   "pygments_lexer": "ipython3",
   "version": "3.10.11"
  }
 },
 "nbformat": 4,
 "nbformat_minor": 5
}
