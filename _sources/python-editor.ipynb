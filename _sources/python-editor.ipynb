{
 "cells": [
  {
   "cell_type": "markdown",
   "id": "905350e2-8c27-4536-b9c2-b85345d72640",
   "metadata": {},
   "source": [
    "# Python op de microbit"
   ]
  },
  {
   "cell_type": "markdown",
   "id": "33fd0467-03dd-46a6-bb47-d2df169e5967",
   "metadata": {},
   "source": [
    "Voor het programmeren van de microbits gebruiken we de *online Python editor*, zie https://python.microbit.org/v/3.\n",
    "\n",
    ":::{tip}\n",
    "Als je deze editor gebruikt met een recente versie van Edge of Chrome, dan kun je direct verbinding maken met de microbit.\n",
    "Dat heb je onder andere nodig voor de radio-logger.\n",
    ":::\n",
    "\n",
    "Het venster van de editor ziet er zo uit:"
   ]
  },
  {
   "cell_type": "markdown",
   "id": "67763dfa-3025-45d3-9a57-c5ad0db56e9f",
   "metadata": {},
   "source": [
    ":::{figure} figs/python-editor-v3.png\n",
    ":width: 700\n",
    "\n",
    ":::"
   ]
  },
  {
   "cell_type": "markdown",
   "id": "58424a80-15f1-4743-a7d6-d3af1b5f00f6",
   "metadata": {},
   "source": [
    "Het middelste deel bevat de tekst van het programma en de knoppen om dit naar de microbit te sturen en op je computer te bewaren.\n",
    "\n",
    "De linker zijbalk bestaat uit een aantal tabs: Reference, Ideas, API en Project.\n",
    "\n",
    "De rechter zijbalk bevat de simulator met de knoppen voor de bediening daarvan."
   ]
  },
  {
   "cell_type": "markdown",
   "id": "53102e66-d707-478e-a68d-bfc88ca63eff",
   "metadata": {},
   "source": [
    "## Laden van een programma op de microbit\n",
    "\n",
    "Je kunt de voorbeeld-programma's uit dit materiaal eenvoudig kopiëren naar de Python editor.\n",
    "\n",
    "* kopieer het programma (klik op de \"copy\" knop rechts in het code-venster)\n",
    "* selecteer de bestaande programmatekst in de Python-editor (om te overschrijven)\n",
    "* plak de gekopieerde programmatekst in de Python-editor\n",
    "\n",
    "Zorg ervoor dat de microbit aangesloten is op je computer.\n",
    "\n",
    "* Klik op de knop \"Send to microbit\" en volg de instructies. Je programma wordt nu geladen op de microbit, en wordt direct uitgevoerd.\n",
    "* Via het \"serial\" venster in het midden onderaan kun je de \"print\" uitvoer van de microbit volgen.\n",
    "\n",
    "(Het voorbeeld-programma hieronder kun je ook in de simulator uitvoeren. Programma's die de microbit-radio gebruiken werken niet in de simulator.)"
   ]
  },
  {
   "cell_type": "code",
   "execution_count": null,
   "id": "e7b4009a-ed8c-4f77-879d-37c3f39346a6",
   "metadata": {},
   "outputs": [],
   "source": [
    "from microbit import sleep\n",
    "\n",
    "n = 0\n",
    "while True: \n",
    "    print(\"Hello world! \" + str(n))\n",
    "    n += 1\n",
    "    sleep(1000)"
   ]
  },
  {
   "cell_type": "markdown",
   "id": "d286964f-f85b-4d5c-b991-e7c6dae0eb4f",
   "metadata": {},
   "source": [
    ":::{figure} figs/microbit-python-venster.drawio.png\n",
    ":width: 700\n",
    "\n",
    ":::"
   ]
  },
  {
   "cell_type": "markdown",
   "id": "1852571d-4f83-45c8-aa33-193abbed6ea6",
   "metadata": {},
   "source": [
    "## Laden van een programma met extra modules\n",
    "\n",
    "Sommige programma's gebruik extra modules, zoals `ulpp` of `lppjson`. Deze kun als volgt laden:\n",
    "\n",
    "* selecteer de tab \"Project\" in de zijbalk links. Je krijgt dan de bestanden van het project te zien.\n",
    "* klik op \"create file\", en geef deze file de naam van de module (zonder `.py`).\n",
    "* kopieer de tekst van de module naar het venster in het midden, zoals hierboven beschreven.\n",
    "* als je alle modules op deze manier geladen hebt, selecteer je \"main.py\" en kopieer je de tekst van het programma naar het middenvenster.\n",
    "    * controleer of de editor geen foutmeldingen geeft.\n",
    "* klik op \"Send to microbit\"."
   ]
  },
  {
   "cell_type": "markdown",
   "id": "1dc71c41-f8c3-4f9c-84f7-c696a3bf7bcf",
   "metadata": {},
   "source": [
    ":::{figure} figs/microbit-python-venster-2.drawio.png\n",
    ":width: 700\n",
    "\n",
    ":::"
   ]
  },
  {
   "cell_type": "markdown",
   "id": "05f0b4a2-629d-4dcc-be9d-ebb46ccda43e",
   "metadata": {},
   "source": [
    "## Volgen van de seriële uitvoer\n",
    "\n",
    "In het geval van de radio-logger kun je via het \"serial\" venster in het midden het radioverkeer volgen.\n",
    "Hiervoor is het handig om de beide zijbalken weg te klappen, en om het \"serial\" venster te vergroten door de bovenkant op te trekken."
   ]
  },
  {
   "cell_type": "markdown",
   "id": "e050998d-4bea-4c32-9dac-9bdc382ddacd",
   "metadata": {},
   "source": [
    ":::{figure} figs/microbit-python-venster-serial.drawio.png\n",
    ":width: 700\n",
    "\n",
    ":::"
   ]
  }
 ],
 "metadata": {
  "kernelspec": {
   "display_name": "Python 3 (ipykernel)",
   "language": "python",
   "name": "python3"
  },
  "language_info": {
   "codemirror_mode": {
    "name": "ipython",
    "version": 3
   },
   "file_extension": ".py",
   "mimetype": "text/x-python",
   "name": "python",
   "nbconvert_exporter": "python",
   "pygments_lexer": "ipython3",
   "version": "3.10.11"
  }
 },
 "nbformat": 4,
 "nbformat_minor": 5
}
