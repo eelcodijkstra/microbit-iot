{
 "cells": [
  {
   "cell_type": "markdown",
   "id": "ca1c9934-b492-4303-ac00-ea5c95be7ab6",
   "metadata": {},
   "source": [
    "# LPP implementatie"
   ]
  },
  {
   "cell_type": "markdown",
   "id": "4fba9fff-8162-4e27-834e-e8e32a2eb7a1",
   "metadata": {},
   "source": [
    "De `ulpp` module verzorgt de codering en decodering van berichten in het binaire Cayenne LPP formaat.\n",
    "Voor een beschrijving van dit formaat, zie:\n",
    "\n",
    "* https://docs.mydevices.com/docs/lorawan/cayenne-lpp\n",
    "* https://github.com/myDevicesIoT/CayenneLPP\n",
    "* https://github.com/smlng/pycayennelpp\n",
    "    * dit is een uitgebreide Python-implementatie van Cayenne LPP\n",
    "    * deze beschrijft meer sensor-formaten dan de oorspronkelijk LPP versie"
   ]
  },
  {
   "cell_type": "markdown",
   "id": "f6108ff7-8ae2-4ac1-a009-d53c90b9ffd8",
   "metadata": {},
   "source": [
    "De `lppjson` module bevat een enkele functie, `lpp_to_json`, om binaire LPP berichten om te zetten in JSON string-formaat. Deze wordt o.a. gebruikt door de radio-logger."
   ]
  },
  {
   "cell_type": "markdown",
   "id": "9b43897e-e3bb-4136-8c4b-84aef5e878d6",
   "metadata": {},
   "source": [
    "De `ulpp` module is een onafhankelijke implementatie van de codering en decodering, bedoeld om het gebruik van LPP voor de microbit eenvoudig te houden.\n",
    "\n",
    "De belangrijke elementen van deze library zijn:\n",
    "\n",
    "* class LppBuffer\n",
    "    * `LppBuffer(prefix, maxsize)`\n",
    "    * `buffer.add_digital_input(channel, value)` - etc.\n",
    "    * met varianten voor elk type sensor \n",
    "    * `frame.to_bytes() -> bytes`\n",
    "* `bytes_to_dict(bytes)`\n",
    "* `dict_to_bytes(dict)`\n",
    "\n",
    "Via `LppBuffer` en `buffer.add_xxsensor(channel, value)` bouw je een array van getallen op die je als bytes-waarde kunt versturen.\n",
    "\n",
    "Deze bytes-waarde kun je ook omzetten (decoderen) met `bytes_to_dict()` in een Python dictionary - die je vervolgens kunt omzetten in JSON, voor een MQTT bericht.\n",
    "Via de codering `dict_to_bytes()` kun je een Python dictionary (in de geschikte LPP vorm!) omzetten naar een LPP bytes-waarde.\n",
    "\n",
    "* `dict_to_bytes()` verwerkt in deze implementatie (voorlopig) alleen actuator-data: deze is bedoeld voor downlink-berichten."
   ]
  },
  {
   "cell_type": "markdown",
   "id": "3f6538e6-5e2c-4c41-a57f-056bd0e30f3e",
   "metadata": {},
   "source": [
    "Daarnaast is er nog een afzonderlijke functie:\n",
    "\n",
    "* `json_to_lpp(s: str) -> bytes`"
   ]
  },
  {
   "cell_type": "markdown",
   "id": "fa783277-eb60-4745-9797-6d541a9e2fe0",
   "metadata": {},
   "source": [
    "Voorbeelden van het gebruik:"
   ]
  },
  {
   "cell_type": "markdown",
   "id": "c6e550bd-31ca-4164-ab5e-47cb2166fbd9",
   "metadata": {},
   "source": [
    "**IoT-knoop: opbouwen van een reeks sensorwaarden**, en versturen als bytes-waarde (uplink).\n",
    "\n",
    "```Python\n",
    "prefix = bytes([1,2,3]) # prefix before LPP data\n",
    "lpp = LppBuffer(data=prefix, maxsize=60)\n",
    "lpp.add_digital_input(0, 1)\n",
    "lpp.add_digital_output(1, 1)\n",
    "lpp.add_analog_input(2, 1234)\n",
    "lpp.add_analog_output(4, -1234)\n",
    "lpp.add_luminosity(7, 345)\n",
    "lpp.add_presence(8, 1)\n",
    "lpp.add_barometer(9, 10230)\n",
    "lpp.add_temperature(5, int(23.4*10))\n",
    "lpp.add_digital_input(10, 1)\n",
    "radio.send_bytes(lpp.to_bytes())\n",
    "```"
   ]
  },
  {
   "cell_type": "markdown",
   "id": "939277ff-193c-49e8-87b9-ab076cc95c08",
   "metadata": {},
   "source": [
    "**IoT-knoop: omzetten van een ontvangen (binair) LPP-bericht in acties** - afhandelen van actuator-data.\n",
    "\n",
    "(Dit wordt voorlopig ad-hoc in de IoT-knoop opgelost.)"
   ]
  },
  {
   "cell_type": "markdown",
   "id": "02b74c27-51e0-4dff-9d1b-2be28ae06a3a",
   "metadata": {},
   "source": [
    "**Gateway: Omzetten (decoderen) van een ontvangen byte-array** in een JSON-string, om te versturen via MQTT. (Uplink-berichten in de gateway.)\n",
    "\n",
    "```Python\n",
    "# data bevat ontvangen radio-bericht: header, lpp payload\n",
    "nodeID = data[1] * 256 + data[2]\n",
    "counter = data[3] * 256 + data[4]\n",
    "lpp_dict = bytes_to_dict(data[5:])\n",
    "msg = {'nodeid': '{0:x}'.format(nodeID),  # in hex format\n",
    "       'counter': counter,\n",
    "       'payload': lpp_dict\n",
    "       }\n",
    "mqtt.publish(topic, json.dumps(msg))\n",
    "```"
   ]
  },
  {
   "cell_type": "markdown",
   "id": "57acf6e3-75e2-4e38-9734-5d234b22256e",
   "metadata": {},
   "source": [
    "**Gateway: van ontvangen JSON-string naar binair LPP downlink-bericht** \n",
    "\n",
    "```Python\n",
    "obj = json.loads(msg)\n",
    "lpp_bytes = dict_to_bytes(obj)   # from JSON string to LPP byte-array\n",
    "header_bytes = bytes([0x0B, nodeID // 256, nodeID % 256, 0, 0]) # downlink header  \n",
    "radio.send_bytes(header_bytes + lpp_bytes)    # send header followed by LPP data\n",
    "```"
   ]
  },
  {
   "cell_type": "markdown",
   "id": "6fd791f6-e1d0-4765-a851-334827a1f1b4",
   "metadata": {},
   "source": [
    "**Radio-logger: omzetten van (binaire) LPP-bytes naar LPP in JSON:** `lpp_to_json(data: bytes) -> str`.\n",
    "\n",
    "```Python\n",
    "print(lpp_to_json(msg[5:]) # skip radio msg header\n",
    "```"
   ]
  },
  {
   "cell_type": "markdown",
   "id": "36fc913c-e1c9-4ed1-92b8-998d2a7ce539",
   "metadata": {},
   "source": [
    "(module-ulpp)=\n",
    "## module `ulpp`"
   ]
  },
  {
   "cell_type": "code",
   "execution_count": 1,
   "id": "900114ca-144e-42d5-99c1-6d7add028371",
   "metadata": {},
   "outputs": [],
   "source": [
    "class LppBuffer(object):\n",
    "\n",
    "    # some assumptions:\n",
    "    # - the value-parameters are in the LPP-required format and range\n",
    "    #   i.e. scaling is done by the caller (if needed)\n",
    "    #   all value-parameters are int\n",
    "    \n",
    "    def __init__(self, data=b'', maxsize=32):\n",
    "        self.buffer = bytearray(data)\n",
    "        self.maxsize = maxsize\n",
    "        self.pos = 0\n",
    "\n",
    "    def __str__(self):\n",
    "        return str(list(self.buffer))\n",
    "    \n",
    "    def to_bytes(self) -> bytes:\n",
    "        return bytes(self.buffer)\n",
    "    \n",
    "    def add_byte(self, channel, tag, value):\n",
    "        if len(self.buffer) + 3 > self.maxsize:\n",
    "            raise OverflowError\n",
    "        self.buffer.append(channel)\n",
    "        self.buffer.append(tag)\n",
    "        self.buffer.append(value)\n",
    "\n",
    "    def add_unsigned_int16(self, channel, tag, value):\n",
    "        if len(self.buffer) + 4 > self.maxsize:\n",
    "            raise OverflowError        \n",
    "        self.buffer.append(channel)\n",
    "        self.buffer.append(tag)\n",
    "        if value >= 65536:\n",
    "            value = value % 65536\n",
    "        (hi, lo) = divmod(value, 256)\n",
    "        self.buffer.append(hi)\n",
    "        self.buffer.append(lo)\n",
    "\n",
    "    def add_signed_int16(self, channel, tag, value):\n",
    "        while value < 0:\n",
    "            value = value + 65536\n",
    "        self.add_unsigned_int16(channel, tag, value)\n",
    "\n",
    "    def add_digital_input(self, channel, value):\n",
    "        self.add_byte(channel, 0, value)\n",
    "\n",
    "    def add_digital_output(self, channel, value):\n",
    "        self.add_byte(channel, 1, value)\n",
    "        \n",
    "    def add_analog_input(self, channel, value):\n",
    "        self.add_signed_int16(channel, 2, value)\n",
    "\n",
    "    def add_analog_output(self, channel, value):\n",
    "        self.add_signed_int16(channel, 3, value)\n",
    "\n",
    "    def add_luminosity(self, channel, value):\n",
    "        self.add_unsigned_int16(channel, 101, value)\n",
    "\n",
    "    def add_presence(self, channel, value):\n",
    "        self.add_byte(channel, 102, value)\n",
    "\n",
    "    def add_temperature(self, channel, value):\n",
    "        # temperature: 0.1C, signed int\n",
    "        self.add_signed_int16(channel, 103, value)\n",
    "\n",
    "    def add_humidity(self, channel, value):\n",
    "        # rel. humidity: 0.5% unsigned byte\n",
    "        self.add_byte(channel, 104, value)\n",
    "\n",
    "    def add_barometer(self, channel, value):\n",
    "        # barometric pressue: 0.1 hPa unsigned int16\n",
    "        self.add_unsigned_int16(channel, 115, value)\n",
    "\n",
    "def bytes_to_dict(data: bytes) -> dict:\n",
    "\n",
    "    pos = 0\n",
    "\n",
    "    def nextbyte():\n",
    "        nonlocal pos\n",
    "        if pos >= len(data):\n",
    "            raise OverflowError\n",
    "        value = data[pos]\n",
    "        pos = pos + 1\n",
    "        return value\n",
    "    \n",
    "    def nextunsignedint():\n",
    "        hi = nextbyte()\n",
    "        lo = nextbyte()\n",
    "        value = hi * 256 + lo\n",
    "        return value \n",
    "    \n",
    "    def nextint():\n",
    "        value = nextunsignedint()\n",
    "        if value > 32767:\n",
    "            value = value - 65536\n",
    "        return value\n",
    "\n",
    "    pos = 0\n",
    "    obj = {}\n",
    "\n",
    "    while pos < len(data):\n",
    "        channel = nextbyte()\n",
    "        tag = nextbyte()\n",
    "        if tag == 0:\n",
    "            value = nextbyte()\n",
    "            obj[channel] = {'dIn': value}\n",
    "        elif tag == 1:\n",
    "            value = nextbyte()\n",
    "            obj[channel] = {'dOut': value}                \n",
    "        elif tag == 2:\n",
    "            value = nextint()\n",
    "            obj[channel] = {'aIn': value}                \n",
    "        elif tag == 3:\n",
    "            value = nextint()\n",
    "            obj[channel] = {'aOut': value}\n",
    "        elif tag == 101:\n",
    "            value = nextunsignedint()\n",
    "            obj[channel] = {'luminosity': value}                \n",
    "        elif tag == 102:\n",
    "            value = nextbyte()\n",
    "            obj[channel] = {'presence': value}                \n",
    "        elif tag == 103:\n",
    "            value = nextint()                \n",
    "            obj[channel] = {'temperature': value}                \n",
    "        elif tag == 104:\n",
    "            value = nextbyte()\n",
    "            obj[channel] = {'humidity': value}                \n",
    "        elif tag == 115:\n",
    "            value = nextunsignedint()\n",
    "            obj[channel] = {'barometer': value}\n",
    "            \n",
    "    return obj\n",
    "\n",
    "def dict_to_bytes (obj: dict) -> bytes:\n",
    "    lpp = LppBuffer()\n",
    "\n",
    "    for channel in obj:\n",
    "        item = obj[channel]  # item is an object with a single key...\n",
    "        if type(channel) is str:\n",
    "            channel = int(channel)\n",
    "        for key in item:\n",
    "            if key == 'dOut':\n",
    "                lpp.add_digital_output(channel,  item[key])\n",
    "            elif key == 'aOut':\n",
    "                lpp.add_analog_output(channel,  item[key])\n",
    "            else:\n",
    "                # not implemented, raise exception? only output allowed\n",
    "                raise ValueError('only output values allowed in actuator msg')\n",
    "\n",
    "    return lpp.to_bytes()"
   ]
  },
  {
   "cell_type": "markdown",
   "id": "0adaa633-a125-485d-9944-853c89f8cbca",
   "metadata": {},
   "source": [
    "---"
   ]
  },
  {
   "cell_type": "markdown",
   "id": "f87677fc-021c-43c4-af16-597f28edc3a9",
   "metadata": {},
   "source": [
    "(module-lppjson)=\n",
    "## module `lppjson`\n",
    "\n",
    "De module `lppjson` heeft 1 functie, `lpp_to_json`. Deze wordt gebruikt in de radio-logger."
   ]
  },
  {
   "cell_type": "code",
   "execution_count": 2,
   "id": "02d341cd-e945-4ba4-a243-c580df6834bc",
   "metadata": {},
   "outputs": [],
   "source": [
    "def lpp_to_json(data: bytes) -> str:\n",
    "    \n",
    "    pos = 0\n",
    "    \n",
    "    def nextbyte():\n",
    "        nonlocal pos\n",
    "        if pos >= len(data):\n",
    "            raise OverflowError\n",
    "        value = data[pos]\n",
    "        pos = pos + 1\n",
    "        return value\n",
    "    \n",
    "    def nextunsignedint():\n",
    "        hi = nextbyte()\n",
    "        lo = nextbyte()\n",
    "        return hi * 256 + lo \n",
    "    \n",
    "    def nextint():\n",
    "        value = nextunsignedint()\n",
    "        if value > 32767:\n",
    "            value = value - 65536\n",
    "        return value\n",
    "    \n",
    "    pos = 0\n",
    "    json_string = '{'\n",
    "    sep = ''\n",
    "\n",
    "    while pos < len(data):\n",
    "        channel = nextbyte()\n",
    "        tag = nextbyte()\n",
    "        value = 0\n",
    "        tagname = ''\n",
    "        if tag == 0:\n",
    "            value = nextbyte()\n",
    "            tagname = 'dIn'\n",
    "        elif tag == 1:\n",
    "            value = nextbyte()\n",
    "            tagname = 'dOut'\n",
    "        elif tag == 2:\n",
    "            value = nextint()\n",
    "            tagname = 'aIn'\n",
    "        elif tag == 3:\n",
    "            value = nextint()\n",
    "            tagname = 'aOut'\n",
    "        elif tag == 101:\n",
    "            value = nextunsignedint()\n",
    "            tagname = 'luminosity'\n",
    "        elif tag == 102:\n",
    "            value = nextbyte()\n",
    "            tagname = 'presence'\n",
    "        elif tag == 103:\n",
    "            value = nextint()                \n",
    "            tagname = 'temperature'\n",
    "        elif tag == 104:\n",
    "            value = nextbyte()\n",
    "            tagname = 'humidity'\n",
    "        elif tag == 115:\n",
    "            value = nextunsignedint()\n",
    "            tagname = 'barometer'\n",
    "        json_string += '{0}\"{1}\": {{\"{2}\": {3}}}'.format(sep, channel, tagname, value)\n",
    "        sep = ', '\n",
    "        \n",
    "    json_string += '}' \n",
    "    return json_string"
   ]
  },
  {
   "cell_type": "markdown",
   "id": "86795926-8666-4973-8f88-3e7a44c58504",
   "metadata": {},
   "source": [
    "## functie `json_to_bytes`"
   ]
  },
  {
   "cell_type": "code",
   "execution_count": 3,
   "id": "cee6c366-00a3-423a-950a-33a78d01cdd9",
   "metadata": {},
   "outputs": [],
   "source": [
    "def json_to_bytes (js: str) -> bytes:\n",
    "    obj = json.loads(js)\n",
    "    return dict_to_bytes(obj)"
   ]
  },
  {
   "cell_type": "markdown",
   "id": "6c189cf6-505c-46e4-87bc-99f2ec78069d",
   "metadata": {},
   "source": [
    "---"
   ]
  },
  {
   "cell_type": "markdown",
   "id": "5152da83-f68b-49cd-b82d-9c44e909afbb",
   "metadata": {},
   "source": [
    "## Testen\n",
    "\n",
    "De onderstaande testen kunnen uitgevoerd worden in Jupyter Notebook."
   ]
  },
  {
   "cell_type": "markdown",
   "id": "8e764c7e-ddc2-47d1-8da4-925ec2a55b9b",
   "metadata": {},
   "source": [
    "### test: opbouwen van een binaire LPP-waarde\n",
    "\n",
    "Deze code vind je in de IoT-knoop, bij het versturen van de sensorwaarden.\n",
    "En mogelijk bij het opbouwen van een LPP-waarde met actuator-waarden, vanuit een toepassing."
   ]
  },
  {
   "cell_type": "code",
   "execution_count": 4,
   "id": "79ccc291-a58c-4394-8665-c252ff52090f",
   "metadata": {},
   "outputs": [
    {
     "name": "stdout",
     "output_type": "stream",
     "text": [
      "[1, 2, 3, 4, 5, 0, 0, 1, 1, 1, 1, 2, 2, 4, 210, 4, 3, 251, 46, 7, 101, 1, 89, 8, 102, 1, 9, 115, 39, 246, 5, 103, 0, 234, 10, 0, 1]\n"
     ]
    }
   ],
   "source": [
    "header = bytes([1,2,3,4,5])\n",
    "frame = LppBuffer(data=header, maxsize=60)\n",
    "frame.add_digital_input(0, 1)\n",
    "frame.add_digital_output(1, 1)\n",
    "frame.add_analog_input(2, 1234)\n",
    "frame.add_analog_output(4, -1234)\n",
    "frame.add_luminosity(7, 345)\n",
    "frame.add_presence(8, 1)\n",
    "frame.add_barometer(9, 10230)\n",
    "frame.add_temperature(5, int(23.4*10))\n",
    "frame.add_digital_input(10, 1)\n",
    "  # radio.send_bytes(frame.to_bytes())\n",
    "buffer = frame.to_bytes()\n",
    "print(list(buffer))"
   ]
  },
  {
   "cell_type": "markdown",
   "id": "f5a3b0f3-5def-461d-9cef-5286e3274c45",
   "metadata": {},
   "source": [
    "### van LPP-bytes naar JSON\n",
    "\n",
    "In de gateway worden ontvangen (binaire) sensor-berichten omgezet in JSON-formaat, om te versturen via MQTT."
   ]
  },
  {
   "cell_type": "code",
   "execution_count": 5,
   "id": "b90e8b4d-d6aa-48dc-9a92-22a79f89446f",
   "metadata": {},
   "outputs": [],
   "source": [
    "import json"
   ]
  },
  {
   "cell_type": "code",
   "execution_count": 16,
   "id": "8228d11f-7bc4-4f2d-951e-195cfd142225",
   "metadata": {},
   "outputs": [
    {
     "data": {
      "text/plain": [
       "{0: {'dIn': 1},\n",
       " 1: {'dOut': 1},\n",
       " 2: {'aIn': 1234},\n",
       " 4: {'aOut': -1234},\n",
       " 7: {'luminosity': 345},\n",
       " 8: {'presence': 1},\n",
       " 9: {'barometer': 10230},\n",
       " 5: {'temperature': 234},\n",
       " 10: {'dIn': 1}}"
      ]
     },
     "execution_count": 16,
     "metadata": {},
     "output_type": "execute_result"
    }
   ],
   "source": [
    "lppdata = bytes_to_dict(buffer[5:]) # skip header\n",
    "lppdata"
   ]
  },
  {
   "cell_type": "code",
   "execution_count": 7,
   "id": "f0d88bbd-098c-490f-bd8e-df53c7a15040",
   "metadata": {},
   "outputs": [
    {
     "data": {
      "text/plain": [
       "'{\"0\": {\"dIn\": 1}, \"1\": {\"dOut\": 1}, \"2\": {\"aIn\": 1234}, \"4\": {\"aOut\": -1234}, \"7\": {\"luminosity\": 345}, \"8\": {\"presence\": 1}, \"9\": {\"barometer\": 10230}, \"5\": {\"temperature\": 234}, \"10\": {\"dIn\": 1}}'"
      ]
     },
     "execution_count": 7,
     "metadata": {},
     "output_type": "execute_result"
    }
   ],
   "source": [
    "jsondata = json.dumps(lppdata)\n",
    "jsondata"
   ]
  },
  {
   "cell_type": "markdown",
   "id": "24143674-f6ed-4b10-8e56-be94d33c02f5",
   "metadata": {},
   "source": [
    "### Van JSON naar LPP-bytes"
   ]
  },
  {
   "cell_type": "code",
   "execution_count": 8,
   "id": "053f0896-bb0b-4972-81cb-6777446f9b0a",
   "metadata": {},
   "outputs": [
    {
     "data": {
      "text/plain": [
       "{'0': {'dIn': 1},\n",
       " '1': {'dOut': 1},\n",
       " '2': {'aIn': 1234},\n",
       " '4': {'aOut': -1234},\n",
       " '7': {'luminosity': 345},\n",
       " '8': {'presence': 1},\n",
       " '9': {'barometer': 10230},\n",
       " '5': {'temperature': 234},\n",
       " '10': {'dIn': 1}}"
      ]
     },
     "execution_count": 8,
     "metadata": {},
     "output_type": "execute_result"
    }
   ],
   "source": [
    "lppdata1 = json.loads(jsondata)\n",
    "lppdata1"
   ]
  },
  {
   "cell_type": "code",
   "execution_count": 9,
   "id": "cb1b682e-a60d-4bd0-91e8-e6424e19a5b9",
   "metadata": {},
   "outputs": [
    {
     "ename": "ValueError",
     "evalue": "only output values allowed in actuator msg",
     "output_type": "error",
     "traceback": [
      "\u001b[0;31m---------------------------------------------------------------------------\u001b[0m",
      "\u001b[0;31mValueError\u001b[0m                                Traceback (most recent call last)",
      "Cell \u001b[0;32mIn[9], line 1\u001b[0m\n\u001b[0;32m----> 1\u001b[0m lppbytes1 \u001b[38;5;241m=\u001b[39m \u001b[43mdict_to_bytes\u001b[49m\u001b[43m(\u001b[49m\u001b[43mlppdata1\u001b[49m\u001b[43m)\u001b[49m\n\u001b[1;32m      2\u001b[0m lppbytes1\n",
      "Cell \u001b[0;32mIn[1], line 146\u001b[0m, in \u001b[0;36mdict_to_bytes\u001b[0;34m(obj)\u001b[0m\n\u001b[1;32m    143\u001b[0m             lpp\u001b[38;5;241m.\u001b[39madd_analog_output(channel,  item[key])\n\u001b[1;32m    144\u001b[0m         \u001b[38;5;28;01melse\u001b[39;00m:\n\u001b[1;32m    145\u001b[0m             \u001b[38;5;66;03m# not implemented, raise exception? only output allowed\u001b[39;00m\n\u001b[0;32m--> 146\u001b[0m             \u001b[38;5;28;01mraise\u001b[39;00m \u001b[38;5;167;01mValueError\u001b[39;00m(\u001b[38;5;124m'\u001b[39m\u001b[38;5;124monly output values allowed in actuator msg\u001b[39m\u001b[38;5;124m'\u001b[39m)\n\u001b[1;32m    148\u001b[0m \u001b[38;5;28;01mreturn\u001b[39;00m lpp\u001b[38;5;241m.\u001b[39mto_bytes()\n",
      "\u001b[0;31mValueError\u001b[0m: only output values allowed in actuator msg"
     ]
    }
   ],
   "source": [
    "lppbytes1 = dict_to_bytes(lppdata1)\n",
    "lppbytes1"
   ]
  },
  {
   "cell_type": "markdown",
   "id": "c1130a58-bba7-4805-b009-e9f3735968e3",
   "metadata": {},
   "source": [
    "Bovenstaande werkt niet in de (beperkte) implementatie van dict_to_bytes. Dit werkt wel als we de dictionary beperken tot alleen actuator-waarden."
   ]
  },
  {
   "cell_type": "code",
   "execution_count": 10,
   "id": "c97f1b3c-5062-4ec4-a17d-56a8e56bebca",
   "metadata": {},
   "outputs": [
    {
     "data": {
      "text/plain": [
       "[1, 1, 1, 4, 3, 251, 46]"
      ]
     },
     "execution_count": 10,
     "metadata": {},
     "output_type": "execute_result"
    }
   ],
   "source": [
    "lppbytes1 = dict_to_bytes({'1': {'dOut': 1}, '4': {'aOut': -1234}})\n",
    "list(lppbytes1)"
   ]
  },
  {
   "cell_type": "markdown",
   "id": "7918edf7-ac28-4cc2-ba5d-92667279a787",
   "metadata": {},
   "source": [
    "Nog een extra voorbeeld, met alleen actuator-waarden."
   ]
  },
  {
   "cell_type": "code",
   "execution_count": 11,
   "id": "a88f5f7f-bd9c-427a-959b-aeb3b3e3201c",
   "metadata": {},
   "outputs": [],
   "source": [
    "lpp = LppBuffer()\n",
    "lpp.add_analog_output(3, 123)\n",
    "lpp.add_digital_output(5, 1)\n",
    "lpp.add_analog_output(6, -12)\n",
    "\n",
    "lppbuf = lpp.to_bytes()\n",
    "\n",
    "lppdict = bytes_to_dict(lppbuf)"
   ]
  },
  {
   "cell_type": "code",
   "execution_count": 12,
   "id": "548d8f91-65e2-4da8-b4d1-9e34db8c0975",
   "metadata": {},
   "outputs": [
    {
     "data": {
      "text/plain": [
       "[3, 3, 0, 123, 5, 1, 1, 6, 3, 255, 244]"
      ]
     },
     "execution_count": 12,
     "metadata": {},
     "output_type": "execute_result"
    }
   ],
   "source": [
    "list(dict_to_bytes(lppdict))"
   ]
  },
  {
   "cell_type": "markdown",
   "id": "4e962313-8554-41b1-aa15-4d950f08c9f2",
   "metadata": {},
   "source": [
    "**Opmerking.** Het is ook mogelijk om in de microbit de codering en codering uit te schrijven, als we niet genoeg geheugen hebben voor zo'n library. Zo complex is dat nu ook weer niet. Voor de microbit V2 is het geheugen niet zo'n probleem, maar voor de V1 (in Python) wel.\n",
    "\n",
    "(In de RF69-versie is die codering en codering ook uitgeschreven, zonder gebruik van een library.)"
   ]
  },
  {
   "cell_type": "markdown",
   "id": "f7a2598f-887d-4f99-8dcd-5e151af98285",
   "metadata": {},
   "source": [
    "### Test `lpp_to_json`"
   ]
  },
  {
   "cell_type": "code",
   "execution_count": 13,
   "id": "95927076-553d-4755-bf4f-3897b32eaa77",
   "metadata": {},
   "outputs": [
    {
     "data": {
      "text/plain": [
       "'{\"1\": {\"dOut\": 1}, \"4\": {\"aOut\": -1234}}'"
      ]
     },
     "execution_count": 13,
     "metadata": {},
     "output_type": "execute_result"
    }
   ],
   "source": [
    "lpp_to_json([1, 1, 1, 4, 3, 251, 46])"
   ]
  },
  {
   "cell_type": "code",
   "execution_count": 14,
   "id": "560e84b0-c76e-4a63-a7d9-13dc6ba0c367",
   "metadata": {},
   "outputs": [
    {
     "data": {
      "text/plain": [
       "'{\"3\": {\"dIn\": 0}, \"2\": {\"dIn\": 0}, \"4\": {\"aIn\": 0}, \"6\": {\"temperature\": 200}}'"
      ]
     },
     "execution_count": 14,
     "metadata": {},
     "output_type": "execute_result"
    }
   ],
   "source": [
    "lpp_to_json([3, 0, 0, 2, 0, 0, 4, 2, 0, 0, 6, 103, 0, 200])"
   ]
  },
  {
   "cell_type": "code",
   "execution_count": 15,
   "id": "3804a398-615a-4cf9-bfb1-36350de697ab",
   "metadata": {},
   "outputs": [
    {
     "data": {
      "text/plain": [
       "'{}'"
      ]
     },
     "execution_count": 15,
     "metadata": {},
     "output_type": "execute_result"
    }
   ],
   "source": [
    "lpp_to_json([])"
   ]
  },
  {
   "cell_type": "markdown",
   "id": "9f2f9488-b9a2-42b8-8009-288e93fb6239",
   "metadata": {},
   "source": [
    "Het omgekeerde: JSON naar LPP, gaat in twee stappen: (i) JSON naar Python object (via de json loads); (ii) dict_to_lpp - maar dit is beperkt tot een aantal actuator-waarden, specifiek voor de gateway downlink."
   ]
  }
 ],
 "metadata": {
  "kernelspec": {
   "display_name": "Python 3 (ipykernel)",
   "language": "python",
   "name": "python3"
  },
  "language_info": {
   "codemirror_mode": {
    "name": "ipython",
    "version": 3
   },
   "file_extension": ".py",
   "mimetype": "text/x-python",
   "name": "python",
   "nbconvert_exporter": "python",
   "pygments_lexer": "ipython3",
   "version": "3.10.11"
  }
 },
 "nbformat": 4,
 "nbformat_minor": 5
}
