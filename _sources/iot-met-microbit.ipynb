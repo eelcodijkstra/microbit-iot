{
 "cells": [
  {
   "cell_type": "markdown",
   "id": "d36b21dd-633f-4735-b061-52947c3e4980",
   "metadata": {},
   "source": [
    "# IoT met de microbit"
   ]
  },
  {
   "cell_type": "markdown",
   "id": "b4eccd1b-dcae-4cf1-9aa6-7950a0222fb1",
   "metadata": {},
   "source": [
    "(Dit materiaal is een aanvulling op het keuzethema-lesmateriaal, om de microbit te kunnen gebruiken als IoT-apparaat.)"
   ]
  },
  {
   "cell_type": "markdown",
   "id": "0be3b4c0-ab88-40e7-bd97-e76ef421528b",
   "metadata": {},
   "source": [
    "We hebben in Hx gezien uit welke onderdelen een IoT-knoop bestaat: sensoren en/of actuatoren, (micro)controller, communicatie (meestal: radio), en een energiebron (liefst: batterij).\n",
    "\n",
    "Als je het onderstaande overzicht ziet van een microbit, dan herken je al deze onderdelen. \n",
    "Dit betekent dat we de microbit in principe kunnen gebruiken als IoT-knoop."
   ]
  },
  {
   "cell_type": "markdown",
   "id": "9a79d66b-1c7d-44ae-aa65-7c229090d290",
   "metadata": {},
   "source": [
    "De microbit versie 2 is nog beter geschikt als IoT-knoop:\n",
    "\n",
    "* versie 2 heeft meer geheugen, waardoor je deze goed kunt programmeren in Python;\n",
    "* je kunt deze in de \"low power sleep\" toestand zetten: de microbit gebruikt dan een minimale hoeveelheid energie. De microbit kan weer ontwaken uit deze toestand door een wekker (timer) of een externe event zoals het indrukken van één van de knoppen."
   ]
  },
  {
   "cell_type": "markdown",
   "id": "cfe0e248-ae44-411a-b355-988b4383a740",
   "metadata": {},
   "source": [
    "**Externe sensoren.** Naast de ingebouwde sensoren, kun je ook allerlei andere sensoren op de microbit aansluiten, bijvoorbeeld via bordjes als de Elecfreaks octopus:bit, de Seeed studio micro:bit Grove shield, de DFRObot driver shield. (En, natuurlijk, via een breadboard-oplossing, zoals het Kitronic Prototyping System.)\n",
    "\n",
    "We gebruiken in deze beschrijving het Elecfreaks octopus:bit bordje; dit kun je eenvoudig combineren met de octopus sensoren, maar ook met de meeste DFRobot Gravity sensoren, en met wat inspanning, met veel andere sensoren op een \"breakout\" bordje."
   ]
  },
  {
   "cell_type": "markdown",
   "id": "3171283a-80f2-4a22-87c9-8ab16efa5a81",
   "metadata": {},
   "source": [
    "(micro:bit versie 1 kun je ook programmeren in Python, maar de grootte van de programma's en libraries is nogal beperkt: voor de gateway-software is dat in elk geval onvoldoende.)"
   ]
  },
  {
   "cell_type": "markdown",
   "id": "00cfdfb9-ca75-4461-a7a6-68f73b4d5752",
   "metadata": {},
   "source": [
    "## Internet-verbinding: gateway"
   ]
  },
  {
   "cell_type": "markdown",
   "id": "d6b06972-9dd5-443a-b627-4b7375880f22",
   "metadata": {},
   "source": [
    "Om de micro:bit te kunnen verbinden met het internet, heb je een verbinding met het lokale netwerk (WiFi of Ethernet) nodig. Je kunt daarvoor allerlei verschillende oplossingen gebruiken - zie de appendix. Wij gebruiken hier een WiFi-verbinding via het Elecfreaks iot:bit bordje. Dit bevat een ESP8266-module met firmware voor Wifi, TCP, HTPP en MQTT verbindingen. Vooral het **MQTT protocol** is belangrijk voor het IoT."
   ]
  },
  {
   "cell_type": "markdown",
   "id": "b43b99ed-5316-4775-80c6-c84acdafefe9",
   "metadata": {},
   "source": [
    "Je kunt in principe elke micro:bit die je als IoT-knoop wilt gebruiken, voorzien van een dergelijke WiFi-module. Maar dat heeft een aantal nadelen:\n",
    "\n",
    "* de WiFi-verbinding vraagt veel stroom, waardoor je de micro:bit niet goed draadloos kunt gebruiken;\n",
    "* de extra kosten per micro:bit;\n",
    "* en je maakt geen gebruik van de ingebouwde radio van de micro:bit."
   ]
  },
  {
   "cell_type": "markdown",
   "id": "5f7f363b-2eca-4d9f-a1cc-53ee4f76cdcd",
   "metadata": {},
   "source": [
    "Handiger is het om, zoals ook bij de RFM69 oplossing en bij de LoRaWan-oplossing, een **gateway** te gebruiken, tussen het lokale micro:bit netwerk en het internet.\n",
    "We gebruiken de microbit met het genoemde iot:bit bordje dan als gateway: de andere micro:bits kun je draadloos gebruiken, al dan niet met extra sensoren en/of actuatoren."
   ]
  },
  {
   "cell_type": "markdown",
   "id": "94a342a9-b7db-4124-9677-33c1cd8b6413",
   "metadata": {},
   "source": [
    "(figuur met gateway en micro:bit netwerk; ook: foto met voorbeelden?)"
   ]
  },
  {
   "cell_type": "markdown",
   "id": "94816b38-83f9-4cc1-8bff-3e2ad4cafb65",
   "metadata": {},
   "source": [
    "In het lokale micro:bit netwerk gebruiken we de ingebouwde micro:bit radio. Voor de verbinding met het internet gebruiken we het WiFi-bordje."
   ]
  },
  {
   "cell_type": "markdown",
   "id": "fe733085-2554-42d8-8b59-7be782cc6791",
   "metadata": {},
   "source": [
    "## Gateway"
   ]
  },
  {
   "cell_type": "markdown",
   "id": "107f74c8-8d1b-4b3d-8ddf-b910ccfa8786",
   "metadata": {},
   "source": [
    "De gateway verzorgt de verbinding tussen het micro:bit netwerk en het internet.\n",
    "Op een hoger protocol-niveau: de verbinding tussen de micro:bits in het lokale netwerk met de MQTT broker.\n",
    "En op een nog hoger niveau: de verbinding van de micro:bit sensoren met de NodeRed controller."
   ]
  },
  {
   "cell_type": "markdown",
   "id": "3615d051-e2d0-4f2d-a5d4-1e47cca59727",
   "metadata": {},
   "source": [
    "De verbinding in het lokale netwerk verloopt via de micro:bit radio.\n",
    "Het protocol in het lokale netwerk gebruikt de micro:bit radio"
   ]
  },
  {
   "cell_type": "markdown",
   "id": "2cd0e951-c44e-4d67-9839-e0c5cc36ad01",
   "metadata": {},
   "source": [
    "## Micro:bit radio"
   ]
  },
  {
   "cell_type": "markdown",
   "id": "41501b27-463a-4e20-80c1-741387fbe569",
   "metadata": {},
   "source": [
    "De micro:bit radio communiceert op basis van kleine pakketten, typisch 25-250 bytes groot.\n",
    "\n",
    "We gebruiken *broadcast* communicatie op het fysieke niveau:\n",
    "alle microbits *in dezelfde group* (en met hetzelfde *channel*) ontvangen alle berichten.\n",
    "Het is dan aan de software om te bepalen of een bepaald bericht voor de lokale micro:bit bestemd is.\n",
    "\n",
    "> De *group* bepaalt welke micro:bits onderdeel zijn van hetzelfde netwerk. Dit betekent dat je meerdere netwerken in bijv. hetzelfde lokaal kunt hebben."
   ]
  },
  {
   "cell_type": "markdown",
   "id": "3ae0733c-a207-402f-8332-b3012aaf52f3",
   "metadata": {},
   "source": [
    "* https://microbit.nominetresearch.uk/networking-book-online/groupcommunication/groupcommunication/"
   ]
  },
  {
   "cell_type": "markdown",
   "id": "bde2e3fc-4abe-4423-9dff-6faf1ee6ea7d",
   "metadata": {},
   "source": [
    "Bij communicatie in een netwerk hebben we te maken met de volgende aspecten:\n",
    "\n",
    "* adressering: we moeten bij een bericht weten voor welke microbit dit bestemd is, en van welke microbit dit afkomstig is.\n",
    "* andere meta-data: soms willen we ook andere meta-data weten, bijvoorbeeld op welk tijdtip een bericht verstuurd (of ontvangen) is.\n",
    "* payload: de inhoud van het bericht. De ontvanger moet weten hoe deze inhoud geïnterpreteerd moet worden. De payload kan bijvoorbeeld tekst zijn, of binair gecodeerd."
   ]
  },
  {
   "cell_type": "markdown",
   "id": "abe0b437-dc29-4e74-943f-97cd6a5426a3",
   "metadata": {},
   "source": [
    "In ons geval lossen we dit op de volgende manieren op:\n",
    "\n",
    "* op het radio-niveau gebruiken we de *broadcast* binnen hetzelfde netwerk (dezelfde *group*); dit betekent dat alle micro:bits in het netwerk alle berichten ontvangen. Het is dan aan elke micro:bit om te bepalen of dit bericht verder verwerkt moet worden.\n",
    "* elk bericht begint met een *protocol-prefix*, om aan te geven welk protocol-formaat gebruikt wordt.\n",
    "* we gebruiken de volgende prefixen:\n",
    "    * 0x0A: upload (sensor) bericht, bestemd voor de gateway\n",
    "    * 0x0B: download (actuator) bericht, bestemd voor een specifieke micro:bit\n",
    "* deze prefixen worden gevolgd door de rest van de *header*:\n",
    "    * 2-byte microbit-address (hi-byte, low-byte)\n",
    "    * 2-byte counter (hi-byte, low-byte)\n",
    "* het micro:bit-adres is het adres van de zender, in het geval van een upload-bericht, en van de ontvanger, in het geval van een download-bericht.\n",
    "    * merk dat in dit geval een micro:bit het adres van de gateway niet hoeft te kennen.\n",
    "    * communicatie tussen de micro:bits is in onze toepassing niet van belang; met de genoemde afspraken is die ook alleen mogelijk via de gateway, niet rechtstreeks.\n",
    "\n",
    "(De micro:bit software gebruikt de prefix `0x01 00 01` om aan te geven dat de rest van het pakket uit *tekst* bestaat.)\n",
    "\n",
    "Merk op dat dit lokale keuzes zijn: deze zijn alleen voor het lokale netwerk van belang.\n",
    "Buiten het lokale netwerk hebben deze keuzes geen betekenis.\n",
    "En we kunnen in een volgende versie eventueel andere keuzes maken."
   ]
  },
  {
   "cell_type": "markdown",
   "id": "c26061cb-80af-487d-a4e9-5fe77838aa16",
   "metadata": {},
   "source": [
    "Wat de payload betreft: we gebruiken een *binair gecodeerde* payload, omdat deze nogal wat compacter is dan een tekst-gebaseerde payload. Op die manier kunnen we met kleinere pakketten volstaan (typisch: enkele 10-tallen bytes).\n",
    "\n",
    "Een veel-gebruikt formaat is het Cayenne LPP formaat, zie:\n",
    "Voor het coderen van de gegeven van een analoge sensor (16 bits data) heb je dan typisch 4 bytes nodig: channel, type, en value."
   ]
  },
  {
   "cell_type": "markdown",
   "id": "c4da41a9-f59d-4e17-bc29-e070c7da22d1",
   "metadata": {},
   "source": [
    "## Programmeren van een IoT-knoop"
   ]
  },
  {
   "cell_type": "markdown",
   "id": "9f74c6d9-4282-4faf-aad0-4c74c3414a86",
   "metadata": {},
   "source": [
    "Een (Python) programma voor een micro:bit IoT-knoop heeft de volgende structuur:\n",
    "\n",
    "```Python\n",
    "\n",
    "\n",
    "def send_sensor_data():\n",
    "    \n",
    "\n",
    "while True:\n",
    "    if sensor_event:\n",
    "        send_sensor_data()\n",
    "    if timer_event:\n",
    "        send_sensor_data()\n",
    "    if radio_event:\n",
    "        receive_actuator_data()\n",
    "```\n",
    "\n",
    "Merk op:\n",
    "\n",
    "* het programma gebruikt een timer om te bepalen wanneer de lokale sensor-data verstuurd moeten worden, als er geen sprake is van \"events\" (\"bemonstering\").\n",
    "* in het geval van een *event*, zoals het indrukken van een knop, of het detecteren van beweging, worden de sensordata direct verstuurd.\n",
    "    * meestal kiezen we ervoor om altijd alle sensordata te versturen, en niet alleen de data van de betreffende event.\n",
    "* een IoT-knoop kan in principe op elk moment een bericht van de gateway ontvangen, voor het aansturen van de actuatoren."
   ]
  },
  {
   "cell_type": "markdown",
   "id": "e41e6462-a3e4-4de7-80fa-3ae73301d58b",
   "metadata": {},
   "source": [
    "Mogelijke verfijningen:\n",
    "\n",
    "* instellen van de sensor-timer (bemonsteringsperiode) vanuit de gateway (of vanuit het internet);\n",
    "* "
   ]
  }
 ],
 "metadata": {
  "kernelspec": {
   "display_name": "Python 3 (ipykernel)",
   "language": "python",
   "name": "python3"
  },
  "language_info": {
   "codemirror_mode": {
    "name": "ipython",
    "version": 3
   },
   "file_extension": ".py",
   "mimetype": "text/x-python",
   "name": "python",
   "nbconvert_exporter": "python",
   "pygments_lexer": "ipython3",
   "version": "3.10.10"
  }
 },
 "nbformat": 4,
 "nbformat_minor": 5
}
