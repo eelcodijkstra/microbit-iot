{
 "cells": [
  {
   "cell_type": "markdown",
   "id": "eb259854-9f2a-4e60-ba1f-30de00c6b39b",
   "metadata": {},
   "source": [
    "# JSON voor de microbit"
   ]
  },
  {
   "cell_type": "markdown",
   "id": "f4d6fa87-c909-4a8e-8420-bab310ff603a",
   "metadata": {},
   "source": [
    "```{admonition} Speciale (minimale) json-library voor microbit\n",
    "JSON is een string-formaat voor ojecten (dictionaries), dat veel gebruikt wordt voor de uitwisseling van objecten tussen verschillende systemen.\n",
    "\n",
    "(micro)Python heeft een ingebouwde JSON-library, met functies \n",
    "\n",
    "* `json.loads(s: str) -> dict` - van JSON-string naar Python object (dictionary)\n",
    "* `json.dumps(d: dict) -> str` - van Python object (dictionary) naar JSON string.\n",
    "\n",
    "Helaas is deze standaard-library niet beschikbaar in micro:bit Python. Hieronder volgt een eenvoudige implementatie van deze JSON-library, voldoende voor de micro:bit gateway.\n",
    "```"
   ]
  },
  {
   "cell_type": "markdown",
   "id": "ab0d4954-ab6f-42ae-9e9e-1c34b938545a",
   "metadata": {},
   "source": [
    "Syntax voor eenvoudige JSON:\n",
    "\n",
    "```\n",
    "value : dictionary ; array ; simple .\n",
    "simple: string ; number ; boolean .\n",
    "string: '\"', non-quote-seq, '\"'.\n",
    "int: digit-seq .\n",
    "bool: 'false' ; 'true' .\n",
    "dict: '{', keyvalue list option, '}' .\n",
    "keyvalue: string, ':', value.\n",
    "array: '[', value list option, ']' .\n",
    "```"
   ]
  },
  {
   "cell_type": "markdown",
   "id": "3f0996ff-0840-40ca-aa27-278613226219",
   "metadata": {},
   "source": [
    "Hieronde het bestand `json.py` zoals gebruikt in de gateway."
   ]
  },
  {
   "cell_type": "markdown",
   "id": "d6cf52ae-1186-46a7-ac68-bdbcd6a933b4",
   "metadata": {},
   "source": [
    "(json-module-code)=\n",
    "## JSON module code"
   ]
  },
  {
   "cell_type": "code",
   "execution_count": 1,
   "id": "c043c333-7d48-4b25-af46-d8dd2762c618",
   "metadata": {},
   "outputs": [],
   "source": [
    "def loads(data: str):\n",
    "    \n",
    "    eof = chr(0)\n",
    "    ch = data[0]\n",
    "    pos = 0\n",
    "\n",
    "    def error():\n",
    "        raise Exception\n",
    "\n",
    "    def nextch():\n",
    "        nonlocal pos, ch\n",
    "        pos = pos + 1\n",
    "        if pos < len(data):\n",
    "            ch = data[pos]\n",
    "        else:\n",
    "            ch = eof\n",
    "        return\n",
    "\n",
    "    def skipblanks():\n",
    "        while ch == ' ' or ch == '\\n' or ch == '\\r' or ch == '\\t':\n",
    "            nextch()\n",
    "    \n",
    "    def accept(c: str):\n",
    "        if ch != c:\n",
    "            error()\n",
    "        nextch()    \n",
    "        skipblanks()\n",
    "            \n",
    "    def value():\n",
    "        skipblanks()\n",
    "        if ch == '{':\n",
    "            return dictionary({})\n",
    "        elif ch == '[':\n",
    "            return array([])\n",
    "        elif ch == '\"':\n",
    "            return string()\n",
    "        elif '0' <= ch and ch <= '9':\n",
    "            return number()\n",
    "        elif ch == 'f' or ch == 't':\n",
    "            return boolean()\n",
    "        else:\n",
    "            error()\n",
    "        \n",
    "    def keyvalue(items: dict):\n",
    "        key = string()\n",
    "        accept(':')\n",
    "        val = value()\n",
    "        items[key] = val\n",
    "        return items\n",
    "\n",
    "    def dictionary(items: dict):\n",
    "        accept('{')\n",
    "        if ch != '}':\n",
    "            items = keyvalue(items)\n",
    "            while ch == ',':\n",
    "                accept(',')\n",
    "                items = keyvalue(items)\n",
    "        accept('}')\n",
    "        return items\n",
    "    \n",
    "    def array(items: list):\n",
    "        accept('[')\n",
    "        if ch != ']':\n",
    "            items.append(value())\n",
    "            while ch == ',':\n",
    "                accept(',')\n",
    "                items.append(value())\n",
    "        accept(']')\n",
    "        return items\n",
    "\n",
    "    def string():\n",
    "        accept('\"')\n",
    "        value = ''\n",
    "        while ch != '\"':\n",
    "            value += ch\n",
    "            nextch()\n",
    "        accept('\"')\n",
    "        return value\n",
    "\n",
    "    def number():\n",
    "        value = ''\n",
    "        while '0' <= ch and ch <= '9':\n",
    "            value += ch\n",
    "            nextch()\n",
    "        skipblanks()\n",
    "        return int(value)\n",
    "\n",
    "    def boolean():\n",
    "        value = ''\n",
    "        while 'a' <= ch and ch <= 'z':\n",
    "            value += ch\n",
    "            nextch()\n",
    "        skipblanks()    \n",
    "        if value == 'true':\n",
    "            return True\n",
    "        elif value == 'false':\n",
    "            return False\n",
    "        else:\n",
    "            error()\n",
    "\n",
    "    \n",
    "    return value()\n",
    "\n",
    "\n",
    "\n",
    "def dumps(val: dict) -> str:\n",
    "    \n",
    "    # transform Python `int` keys to JSON `string` keys\n",
    "    def to_json_keys (obj: dict) -> dict:\n",
    "        new_obj = {}\n",
    "        for key in obj:\n",
    "            value = obj[key]\n",
    "            if type(value) is dict:\n",
    "                value = to_json_keys(value)\n",
    "            if type(key) is int:\n",
    "                new_obj[str(key)] = value\n",
    "            else:\n",
    "                new_obj[key] = value\n",
    "        return new_obj\n",
    "            \n",
    "    return str(to_json_keys(val)).replace(\"'\", '\"')       "
   ]
  },
  {
   "cell_type": "markdown",
   "id": "8bbb7c1d-a862-4cb4-80de-5958e787a5ce",
   "metadata": {},
   "source": [
    "## Testen"
   ]
  },
  {
   "cell_type": "code",
   "execution_count": 2,
   "id": "ea2858b4-e0d1-4c57-9411-27f143f559cb",
   "metadata": {},
   "outputs": [
    {
     "data": {
      "text/plain": [
       "{'aap': 10, 'noot': {'mies': False, 'teun': [1, 2, 3], 'vuur': [{}]}}"
      ]
     },
     "execution_count": 2,
     "metadata": {},
     "output_type": "execute_result"
    }
   ],
   "source": [
    "import json\n",
    "\n",
    "# voor vergelijking met de officiële versie\n",
    "\n",
    "json1 = '{ \"aap\": 10, \"noot\": {\"mies\": false, \"teun\": [1,2,3], \"vuur\": [ {  } ] }}'\n",
    "\n",
    "loads(json1)"
   ]
  },
  {
   "cell_type": "code",
   "execution_count": 3,
   "id": "b50f08a3-21be-42c7-900b-a20cc43c9915",
   "metadata": {},
   "outputs": [
    {
     "data": {
      "text/plain": [
       "True"
      ]
     },
     "execution_count": 3,
     "metadata": {},
     "output_type": "execute_result"
    }
   ],
   "source": [
    "json.loads(json1) == loads(json1)"
   ]
  },
  {
   "cell_type": "code",
   "execution_count": 4,
   "id": "9859036f-2f86-4371-8085-601d14f3f523",
   "metadata": {},
   "outputs": [
    {
     "data": {
      "text/plain": [
       "{'nodeid': 'fe3d',\n",
       " 'counter': 3027,\n",
       " 'payload': {'0': {'temperature': 235},\n",
       "  '1': {'barometer': 10093},\n",
       "  '2': {'dOut': 1},\n",
       "  '8': {'aOut': 255}}}"
      ]
     },
     "execution_count": 4,
     "metadata": {},
     "output_type": "execute_result"
    }
   ],
   "source": [
    "json2 = '{\"nodeid\": \"fe3d\", \"counter\": 3027, \"payload\": {\"0\": {\"temperature\": 235}, \"1\": {\"barometer\": 10093}, \"2\": {\"dOut\": 1}, \"8\": {\"aOut\": 255}}}'\n",
    "\n",
    "loads(json2)"
   ]
  },
  {
   "cell_type": "code",
   "execution_count": 5,
   "id": "57dc6d08-b137-41b5-9beb-b0987623a01f",
   "metadata": {},
   "outputs": [
    {
     "data": {
      "text/plain": [
       "True"
      ]
     },
     "execution_count": 5,
     "metadata": {},
     "output_type": "execute_result"
    }
   ],
   "source": [
    "loads(json2) == json.loads(json2)"
   ]
  },
  {
   "cell_type": "code",
   "execution_count": 6,
   "id": "3746adfb-58ce-4473-969e-57f38e8c4d6c",
   "metadata": {},
   "outputs": [
    {
     "data": {
      "text/plain": [
       "'{\"nodeid\": \"fe3d\", \"counter\": 3027, \"payload\": {\"0\": {\"temperature\": 235}, \"1\": {\"barometer\": 10093}, \"2\": {\"dOut\": 1}, \"8\": {\"aOut\": 255}}}'"
      ]
     },
     "execution_count": 6,
     "metadata": {},
     "output_type": "execute_result"
    }
   ],
   "source": [
    "json3 = dumps(loads(json2))\n",
    "json3"
   ]
  },
  {
   "cell_type": "code",
   "execution_count": 7,
   "id": "fc6b52ad-e6d8-4ff6-8658-1bdb70bf002b",
   "metadata": {},
   "outputs": [
    {
     "data": {
      "text/plain": [
       "True"
      ]
     },
     "execution_count": 7,
     "metadata": {},
     "output_type": "execute_result"
    }
   ],
   "source": [
    "json.dumps(json.loads(json2)) == dumps(loads(json2))"
   ]
  }
 ],
 "metadata": {
  "kernelspec": {
   "display_name": "Python 3 (ipykernel)",
   "language": "python",
   "name": "python3"
  },
  "language_info": {
   "codemirror_mode": {
    "name": "ipython",
    "version": 3
   },
   "file_extension": ".py",
   "mimetype": "text/x-python",
   "name": "python",
   "nbconvert_exporter": "python",
   "pygments_lexer": "ipython3",
   "version": "3.10.11"
  }
 },
 "nbformat": 4,
 "nbformat_minor": 5
}
