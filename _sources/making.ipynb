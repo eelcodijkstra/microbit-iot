{
 "cells": [
  {
   "cell_type": "markdown",
   "id": "5cb6de09-cd51-48e1-85f8-109e7517cd7c",
   "metadata": {},
   "source": [
    "# The making of..."
   ]
  },
  {
   "cell_type": "markdown",
   "id": "aea1718f-315a-47ce-99c3-1d60e2123bc0",
   "metadata": {},
   "source": [
    "Het maken van de verschillende programma's voor de microbit ging niet zonder hindernissen.\n",
    "Ik beschrijf hier enkele van de problemen die ik tegengekomen ben, en de manier waarop ik die opgelost heb."
   ]
  },
  {
   "cell_type": "markdown",
   "id": "cae8ff06-2a27-45d4-8ea1-d530d8ca07b1",
   "metadata": {},
   "source": [
    "## De radio-logger\n",
    "\n",
    "Het iot:bit bordje bevat een ESP8266 die via de seriële verbinding met de microbit communiceert.\n",
    "Een probleem is dat de microbit maar één seriële verbinding heeft.\n",
    "Deze wordt gewoonlijk gebruikt voor de communicatie met de host.\n",
    "Via die verbinding kun je dan de uitvoer van print-opdrachten zien, en kun je eventueel REPL-opdrachten geven.\n",
    "Maar: als je die verbinding nodig hebt voor de communicatie met de ESP8266, dan kun je die niet gebruiken voor print-opdrachten, wat het foutzoeken op de microbit een stuk lastiger maakt.\n",
    "\n",
    "Mijn eerste oplossing was om de seriële verbinding van de microbit snel te schakelen tussen de host-verbinding en de ESP8266. Maar al snel bleek dat de USB-aansluiting van het iot:bit-borcdje niet verbonden is met de seriële verbinding van de microbit. (Je kunt de USB-aansluiting op de microbit zelf niet gebruiken, omdat die niet voldoende stroom levert voor de ESP8266.) Dit werkt dus niet.\n",
    "\n",
    "De tweede, en werkende, oplossing is om de radio-verbinding van de microbit te gebruiken voor *logging*, om daarmee tekst-uitvoer vanuit het microbit-programma mogelijk te maken.\n",
    "De iot:bit microbit stuurt teksten via de radio, die door een extra microbit ontvangen worden.\n",
    "Deze laatste geeft de teksten weer via print-opdrachten naar de host.\n",
    "Dit heeft het proces van foutzoeken aanzienlijk versneld.\n",
    "\n",
    "Een open vraag voor mij was het AT-protocol tussen de microbit en de ESP8266: omdat dit niet compleet gedocumenteerd is, moest ik dingen uitproberen. Ik wil dan weten wat er gebeurt op de verbinding tussen de microbit en de ESP8266. Dankzij de *logging* via de radio was dat goed te volgen.\n",
    "\n",
    "(Deze radio-aanpak werkt helaas niet voor de ingebouwde print-opdrachten, bijvoorbeeld van de foutmeldingen: die moet je zien op te maken uit de letters die op het microbit-display voorbij scrollen.)\n"
   ]
  },
  {
   "cell_type": "markdown",
   "id": "641cc9b4-a823-4969-be29-25fb61e58a51",
   "metadata": {},
   "source": [
    "(figuur bij deze uitleg...)"
   ]
  },
  {
   "cell_type": "markdown",
   "id": "6e033414-df3b-4903-b374-35a689cd6f7e",
   "metadata": {},
   "source": [
    "## JSON"
   ]
  },
  {
   "cell_type": "markdown",
   "id": "69c22ac5-9a77-4eba-be07-be9e0d08d6b7",
   "metadata": {},
   "source": [
    "Voor het versturen van de sensordata via MQTT maken we gebruik van JSON (zoals in veel MQTT toepassingen gebruikelijk is). Python heeft een module `json` om een Python waarde (bijv. dictionary) om te zetten in een JSON object, en omgekeerd. Deze is gewoonlijk ook in microPython beschikbaar. Maar deze blijkt niet aanwezig te zijn in microPython voor de micro:bit...\n",
    "\n",
    "De sensor-en actuator-data gebruiken maar een deel van de mogelijkheden van JSON. Ik heb functies gemaakt die in elk geval deze mogelijkheden ondersteunt, dat is wat eenvoudiger dan een complete JSON-implementatie. Het omzetten van Python naar JSON is vrij eenvoudig: je komt met het omzetten naar string-notatie een heel eind. Het omgekeerde is lastiger: je hebt dan een JSON-parser nodig. Nu is compiler-techniek mijn oude vak, dus dat was redelijk snel te doen. Weer een blokkade opgeruimd."
   ]
  },
  {
   "cell_type": "markdown",
   "id": "899c2f3f-4673-4786-b1ce-4e7252595116",
   "metadata": {},
   "source": [
    "## Escape-codes"
   ]
  },
  {
   "cell_type": "markdown",
   "id": "7c999861-fb67-460b-96b4-e29fe7cdb004",
   "metadata": {},
   "source": [
    "In de AT-opdrachten voor de ESP-WiFi module kunnen strings voorkomen, zoals de naam van het WiFi netwerk, het wachtwoord e.d..\n",
    "In het AT-formaat moeten die strings tussen dubbele quotes (`\"`) geplaatst worden, zie bijv.:\n",
    "\n",
    "```\n",
    "AT+MQTTPUB=0,\"topic\",\"\\\"{\\\"sensor\\\":012}\\\"\",1,0\n",
    "```\n",
    "\n",
    "Tot nu toe niets bijzonders.\n",
    "\n",
    "In de string zelf kunnen ook dubbele quotes (`\"`) voorkomen: dat is bijvoorbeeld het geval met de JSON-inhoud van MQTT berichten, bij de \"publish\" opdracht. De gebruikelijke manier om dit op te lossen is om deze quotes van een escape-code te voorzien: je zet dan het teken `\\` voor het betreffende teken: `\\\"`.\n",
    "(Je moet dan ook weer de mogelijkheid hebben om dat teken in de string weer te geven, als `\\\\`.)\n",
    "Op deze manier is ondubbelzinnig duidelijk welke tekens tot de string zelf behoren, en welke bij de omvattende AT-opdracht horen.\n",
    "\n",
    "Maar: dit bleek nog steeds foutmeldingen op te leveren van de betreffende AT-opdracht. (Lang leve de radio-logger...).\n",
    "\n",
    "Bij nader lezen van de documentatie bleek dat ook **komma's** die voorkomen in een AT-string, **voorzien moeten worden van een escape-code**. (Dit is *wel* bijzonder: zoals gezegd, is met bovenstaande escape-regels al duidelijk of die comma tot de string behoort of niet.)\n",
    "\n",
    "* https://espressif-docs.readthedocs-hosted.com/projects/esp-at/en/release-v2.1.0.0_esp8266/AT_Command_Set/index.html#at-command-types"
   ]
  },
  {
   "cell_type": "markdown",
   "id": "e8bb0dc1-ba50-4b6b-a398-434831d80919",
   "metadata": {},
   "source": [
    "Toen dat aangepast was, bleek de MQTT \"publish\" opdracht voor JSON-berichten ineens te werken.\n",
    "\n",
    "Hieruit blijkt maar weer: documentatie goed lezen, en er niet vanuit gaan dat de programmeurs zich aan de \"normale regels\" houden. (Maar: het lijkt erop dat als je een programmeerfout maar documenteert, het geen fout meer is.)"
   ]
  },
  {
   "cell_type": "markdown",
   "id": "4f3bfe30-49e2-44a5-b87e-de2d07bd29c3",
   "metadata": {},
   "source": []
  }
 ],
 "metadata": {
  "kernelspec": {
   "display_name": "Python 3 (ipykernel)",
   "language": "python",
   "name": "python3"
  },
  "language_info": {
   "codemirror_mode": {
    "name": "ipython",
    "version": 3
   },
   "file_extension": ".py",
   "mimetype": "text/x-python",
   "name": "python",
   "nbconvert_exporter": "python",
   "pygments_lexer": "ipython3",
   "version": "3.10.10"
  }
 },
 "nbformat": 4,
 "nbformat_minor": 5
}
