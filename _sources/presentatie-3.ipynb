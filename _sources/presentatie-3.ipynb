{
 "cells": [
  {
   "cell_type": "markdown",
   "id": "6d4941a8-48cc-44a9-b490-146b8858df80",
   "metadata": {
    "slideshow": {
     "slide_type": "slide"
    },
    "tags": []
   },
   "source": [
    "# Presentatie 3\n",
    "\n",
    "IoT met de micro:bit"
   ]
  },
  {
   "cell_type": "markdown",
   "id": "e9791868-1e39-4b2c-a36e-339de8b1228f",
   "metadata": {
    "slideshow": {
     "slide_type": "slide"
    },
    "tags": []
   },
   "source": [
    "## Inhoud\n",
    "\n",
    "* micro:bit radio: best effort\n",
    "* sturen met NodeRed: koppelen van sensoren en actuatoren\n",
    "    * later ook: met externe diensten, UI\n",
    "* gebruik van externe diensten\n",
    "* vervolgstappen met NodeRed, IoT"
   ]
  },
  {
   "cell_type": "markdown",
   "id": "6f8b0ffa-d27f-438f-9f02-e8b7e813e326",
   "metadata": {
    "jp-MarkdownHeadingCollapsed": true,
    "slideshow": {
     "slide_type": "slide"
    },
    "tags": []
   },
   "source": [
    "## micro:bit radio \"best effort communicatie\"\n",
    "\n",
    "![](figs/collision.drawio.png)\n",
    "\n",
    "* verminderen van **kans op collisions**\n",
    "    * korte berichten\n",
    "    * grote tussenpozen"
   ]
  },
  {
   "cell_type": "markdown",
   "id": "68a323a1-300e-4cbb-9e57-1a517df59c7e",
   "metadata": {
    "slideshow": {
     "slide_type": "slide"
    },
    "tags": []
   },
   "source": [
    "## Van *best effort* naar betrouwbare communicatie\n",
    "\n",
    "* gebruik van *acknowledgement*\n",
    "    * alleen in bepaalde gevallen nodig\n",
    "    * bijv.: events, aansturen actuatoren\n",
    "* bijvoorbeeld:\n",
    "    * IP: best effort pakketcommunicatie\n",
    "    * IP: in het netwerk\n",
    "    * TCP: betrouwbare bytestream-communicatie\n",
    "    * TCP: in de eindapparaten"
   ]
  },
  {
   "cell_type": "markdown",
   "id": "092654ea-5754-4279-bc0d-605fc2cbb537",
   "metadata": {
    "slideshow": {
     "slide_type": "slide"
    },
    "tags": []
   },
   "source": [
    "## Aan- en uitschakelen: test\n",
    "\n",
    "![](figs/nodered-actuator-test-flow.png)"
   ]
  },
  {
   "cell_type": "markdown",
   "id": "2fff4aae-99bb-4d12-b7c9-52eb9e935d04",
   "metadata": {
    "slideshow": {
     "slide_type": "slide"
    },
    "tags": []
   },
   "source": [
    "## Idempotent interface\n",
    "\n",
    "* het maakt niet uit of een opdracht 1 maal of vaker uitgevoerd word\n",
    "    * `A; B` is gelijk aan `A; A; A; B; B`\n",
    "* voorbeeld: HTTP GET opdracht (\"page reload\" in de browser)\n",
    "* handig als interface traag en/of onbetrouwbaar is"
   ]
  },
  {
   "cell_type": "markdown",
   "id": "f13081fe-2043-4bf7-8b31-77a429adccd4",
   "metadata": {
    "slideshow": {
     "slide_type": "slide"
    },
    "tags": []
   },
   "source": [
    "## On- off flow (1)\n",
    "\n",
    "![](figs/nodered-on-off-flow.png)"
   ]
  },
  {
   "cell_type": "markdown",
   "id": "c73e23d7-9dba-4395-914f-da53dffea196",
   "metadata": {
    "slideshow": {
     "slide_type": "slide"
    },
    "tags": []
   },
   "source": [
    "## On-off flow (2)\n",
    "\n",
    "![](figs/nodered-is-1-switch.png)"
   ]
  },
  {
   "cell_type": "markdown",
   "id": "3ccbfbe0-3613-4bf7-ba29-d1d6e02f9819",
   "metadata": {
    "slideshow": {
     "slide_type": "slide"
    },
    "tags": []
   },
   "source": [
    "## On-off flow (3)\n",
    "\n",
    "* de `=1?`- *switch* node laat alleen berichten door met `payload.value == 1`\n",
    "* voor de `dOut`-nodes is input-payload niet relevant"
   ]
  },
  {
   "cell_type": "markdown",
   "id": "afeb9fad-6796-4f3c-9257-90c4a2cbd192",
   "metadata": {
    "slideshow": {
     "slide_type": "slide"
    },
    "tags": []
   },
   "source": [
    "## Variaties\n",
    "\n",
    "* stuur het display van een andere microbit aan.\n",
    "* maak een *hotelschakelaar*: stuur het display van een microbit aan vanuit meerdere andere microbits.\n"
   ]
  },
  {
   "cell_type": "markdown",
   "id": "13e7be5f-88ee-4121-9181-5f04168a9b7c",
   "metadata": {
    "slideshow": {
     "slide_type": "slide"
    },
    "tags": []
   },
   "source": [
    "## Tijdschakelaar\n",
    "\n",
    "![](figs/nodered-trigger-flow.png)"
   ]
  },
  {
   "cell_type": "markdown",
   "id": "966b7258-678a-4221-be11-b878c81f1737",
   "metadata": {
    "slideshow": {
     "slide_type": "slide"
    },
    "tags": []
   },
   "source": [
    "## Trigger-node instellingen\n",
    "\n",
    "![](figs/nodered-trigger-instellingen.png)"
   ]
  },
  {
   "cell_type": "markdown",
   "id": "44e2d504-ca0d-40ae-b595-8bbd95823a88",
   "metadata": {
    "slideshow": {
     "slide_type": "skip"
    },
    "tags": []
   },
   "source": [
    "## Tijdschakelaar variaties??"
   ]
  },
  {
   "cell_type": "markdown",
   "id": "7a0ad450-a002-404b-bc1c-06c41398652d",
   "metadata": {
    "slideshow": {
     "slide_type": "slide"
    },
    "tags": []
   },
   "source": [
    "## Schakelen op basis van lichtniveau (1)\n",
    "\n",
    "![](figs/nodered-lightlevel-switch-flow.png)\n",
    "\n",
    "**PROBLEEM: eindeloze berichten-lus!**"
   ]
  },
  {
   "cell_type": "markdown",
   "id": "99d01e29-73d2-4807-bca4-869bc5d1865c",
   "metadata": {
    "slideshow": {
     "slide_type": "slide"
    },
    "tags": []
   },
   "source": [
    "## Schakelen op basis van lichtniveau (2)\n",
    "\n",
    "![](figs/nodered-lightlevel-switch-filter-flow.png)\n",
    "\n",
    "**Filter doorbreekt de lus**"
   ]
  },
  {
   "cell_type": "markdown",
   "id": "9173b08c-da1c-49e5-b1ec-433925623e54",
   "metadata": {
    "slideshow": {
     "slide_type": "slide"
    },
    "tags": []
   },
   "source": [
    "## Combineren van events en signalen (variabelen) (1)\n",
    "\n",
    "![](figs/nodered-on-off-switch-trigger-flow.png)"
   ]
  },
  {
   "cell_type": "markdown",
   "id": "1c43a2d5-5abb-4571-8603-51278c2010f9",
   "metadata": {
    "slideshow": {
     "slide_type": "slide"
    },
    "tags": []
   },
   "source": [
    "## Combineren van events en signalen (variabelen) (2)\n",
    "\n",
    "Functie:\n",
    "\n",
    "```javascript\n",
    "flow.set(\"lightlevel\", msg.payload);\n",
    "return msg;\n",
    "```\n",
    "\n",
    "![](figs/nodered-lightlevel-switch.png)"
   ]
  },
  {
   "cell_type": "markdown",
   "id": "2b0465d0-9d5e-40cf-8a39-912603399a6d",
   "metadata": {
    "slideshow": {
     "slide_type": "slide"
    },
    "tags": []
   },
   "source": [
    "## Gebruik van externe diensten (1)\n",
    "\n",
    "![](figs/nodered-sunrise-flow.png)"
   ]
  },
  {
   "cell_type": "markdown",
   "id": "a3c2e963-e7ed-4b2a-b73b-472725400e41",
   "metadata": {
    "slideshow": {
     "slide_type": "slide"
    },
    "tags": []
   },
   "source": [
    "## Gebruik van externe diensten (2)\n",
    "\n",
    "Zetten van de URL voor HTTP GET:\n",
    "\n",
    "```javascript\n",
    "let api_key = \"123ff59900abaabab6b523fc8d574208b99\";\n",
    "let lat = 51.3616254;\n",
    "let lon = 5.4688644;\n",
    "msg.url = `https://api.openweathermap.org/data/2.5/weather?lat=${lat}&lon=${lon}&appid=${api_key}`;\n",
    "return msg;\n",
    "```"
   ]
  },
  {
   "cell_type": "markdown",
   "id": "6e5be149-3f70-4742-bef7-cd1c332933b2",
   "metadata": {
    "slideshow": {
     "slide_type": "slide"
    },
    "tags": []
   },
   "source": [
    "## Gebruik van externe diensten (3)\n",
    "\n",
    "openweathermap-data voorbeeld:\n",
    "\n",
    "```json\n",
    "{\"coord\":{\"lon\":5.4689,\"lat\":51.3616},\n",
    "\"weather\":[{\"id\":804,\"main\":\"Clouds\",\n",
    "            \"description\":\"overcast clouds\",\"icon\":\"04d\"}],\n",
    "\"base\":\"stations\",\n",
    "\"main\":{\"temp\":298.16,\"feels_like\":298.1,\n",
    "        \"temp_min\":296.87,\"temp_max\":300.33,\n",
    "        \"pressure\":1013,\n",
    "        \"humidity\":53},\n",
    "\"visibility\":10000,\n",
    "\"wind\":{\"speed\":4.12,\"deg\":220},\n",
    "\"clouds\":{\"all\":100},\n",
    "\"dt\":1687176038,\n",
    "\"sys\":{\"type\":1,\"id\":1527,\"country\":\"NL\",\n",
    "       \"sunrise\":1687144871,\"sunset\":1687204655},\n",
    "\"timezone\":7200,\"id\":2745860,\n",
    "\"name\":\"Valkenswaard\",\n",
    "\"cod\":200}\n",
    "```"
   ]
  },
  {
   "cell_type": "markdown",
   "id": "d0605d06-8f7f-4a17-8f37-edbe48a10d0d",
   "metadata": {
    "slideshow": {
     "slide_type": "slide"
    },
    "tags": []
   },
   "source": [
    "## Volgende stappen\n",
    "\n",
    "* IoT-materiaal:\n",
    "    * https://eelcodijkstra.github.io/netbook0/intro.html\n",
    "    * -> naar keuzethemas-domein\n",
    "    * -> met een extra micro:bit hoofdstuk\n",
    "* verkennen van NodeRed mogelijkheden\n",
    "    * aansturen van Hue, Ikea Tradfri, enz."
   ]
  }
 ],
 "metadata": {
  "kernelspec": {
   "display_name": "Python 3 (ipykernel)",
   "language": "python",
   "name": "python3"
  },
  "language_info": {
   "codemirror_mode": {
    "name": "ipython",
    "version": 3
   },
   "file_extension": ".py",
   "mimetype": "text/x-python",
   "name": "python",
   "nbconvert_exporter": "python",
   "pygments_lexer": "ipython3",
   "version": "3.10.11"
  }
 },
 "nbformat": 4,
 "nbformat_minor": 5
}
