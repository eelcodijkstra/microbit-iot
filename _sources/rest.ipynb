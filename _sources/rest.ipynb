{
 "cells": [
  {
   "cell_type": "markdown",
   "id": "3a82a9d7-14af-4fb1-8af8-b0c885848035",
   "metadata": {},
   "source": [
    "# Restmateriaal"
   ]
  },
  {
   "cell_type": "markdown",
   "id": "2fb9acc9-7217-4e0b-af60-a65a730ed2bb",
   "metadata": {},
   "source": [
    "We onderzoeken hier verschillende mogelijkheden voor het maken van een dergelijke gateway:\n",
    "\n",
    "* computer (bijv. Raspberry Pi) via USB verbonden met een microbit\n",
    "* microbit met WiFi radio (elecfreaks iot-bit\n",
    "\n",
    "De Elecfreaks iot-bit wordt gewoonlijk gebruikt om een enkele microbit te verbinden met het internet. Maar we kunnen deze ook programmeren als gateway, om een lokaal microbit-netwerk te verbinden met het internet.\n",
    "\n",
    "Voor het gebruik van een gateway in een *schoolnetwerk* moet deze aan een aantal extra eisen voldoen:\n",
    "\n",
    "* geen gebruik van andere poorten dan 80 en 433 (http, https); veel andere poorten en protocollen zijn vaak geblokkeerd;\n",
    "* voor een WiFi verbinding: de mogelijkheid om te verbinden met een netwerk met een wachtwoord per computer (of per gebruiker), in plaats van een wachtwoord voor het hele netwerk.\n",
    "* (een alternatief is het gebruik van een bedraad netwerk; dan heb je niet het probleem dat je moet inloggen op het netwerk.\n",
    "\n",
    "Voor het verbinden van de IoT-gateway met het internet gebruiken we meestal het MQTT protocol; dit biedt symmetrische \"publish-subscribe\" communicatie mogelijk, in tegenstelling tot de client-server communicatie van HTTP.\n",
    "Het MQTT protocol gebruikt gewoonlijk een TCP-verbinding via de poorten 1883/1884. Maar het is tegenwoordig ook mogelijk om een \"websockets\" (HTTP) verbinding te gebruiken als transportlaag voor MQTT. Daarmee omzeil je de poort-beperkingen van een schoolnetwerk."
   ]
  }
 ],
 "metadata": {
  "kernelspec": {
   "display_name": "Python 3 (ipykernel)",
   "language": "python",
   "name": "python3"
  },
  "language_info": {
   "codemirror_mode": {
    "name": "ipython",
    "version": 3
   },
   "file_extension": ".py",
   "mimetype": "text/x-python",
   "name": "python",
   "nbconvert_exporter": "python",
   "pygments_lexer": "ipython3",
   "version": "3.10.11"
  }
 },
 "nbformat": 4,
 "nbformat_minor": 5
}
