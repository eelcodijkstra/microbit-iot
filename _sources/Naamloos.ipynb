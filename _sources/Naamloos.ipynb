{
 "cells": [
  {
   "cell_type": "markdown",
   "id": "e4e533bd-1947-4051-b45b-c4fdb4e4a430",
   "metadata": {},
   "source": [
    "# open weather test"
   ]
  },
  {
   "cell_type": "markdown",
   "id": "698c5df1-af81-48c1-8967-6c4d01df4a5e",
   "metadata": {},
   "source": [
    "Zie: https://openweathermap.org/current#geo"
   ]
  },
  {
   "cell_type": "markdown",
   "id": "5bde2a4e-dfb3-47cb-9d81-528ba8d93ed3",
   "metadata": {},
   "source": [
    "```\n",
    "https://api.openweathermap.org/data/2.5/weather?lat={lat}&lon={lon}&appid={API key}\n",
    "```"
   ]
  },
  {
   "cell_type": "code",
   "execution_count": 19,
   "id": "64e3118c-ac67-4e2c-85ea-5e8dbf4238b7",
   "metadata": {
    "tags": []
   },
   "outputs": [
    {
     "name": "stdout",
     "output_type": "stream",
     "text": [
      "https://api.openweathermap.org/data/2.5/weather?lat=51.3993711&lon=5.4701304&appid=123ee599008bab6b523fc8d574208b05\n"
     ]
    }
   ],
   "source": [
    "api_key=\"123ee599008bab6b523fc8d574208b05\"\n",
    "lat=51.3993711\n",
    "lon=5.4701304\n",
    "\n",
    "api_string = f'https://api.openweathermap.org/data/2.5/weather?lat={lat}&lon={lon}&appid={api_key}'\n",
    "print(api_string)"
   ]
  },
  {
   "cell_type": "code",
   "execution_count": 20,
   "id": "d8e6e6b4-81f3-427f-8a2b-b8d3a06fc4ce",
   "metadata": {
    "tags": []
   },
   "outputs": [],
   "source": [
    "import requests"
   ]
  },
  {
   "cell_type": "code",
   "execution_count": 21,
   "id": "2de368b9-d425-4452-a67a-9b3e3f034244",
   "metadata": {
    "tags": []
   },
   "outputs": [
    {
     "name": "stdout",
     "output_type": "stream",
     "text": [
      "<Response [200]>\n"
     ]
    }
   ],
   "source": [
    "response = requests.get(api_string)\n",
    "print(response)"
   ]
  },
  {
   "cell_type": "code",
   "execution_count": 22,
   "id": "b8a09b0f-3ae0-4763-aee6-3927d1cc40ca",
   "metadata": {
    "tags": []
   },
   "outputs": [
    {
     "data": {
      "text/plain": [
       "{'coord': {'lon': 5.4701, 'lat': 51.3994},\n",
       " 'weather': [{'id': 804,\n",
       "   'main': 'Clouds',\n",
       "   'description': 'overcast clouds',\n",
       "   'icon': '04d'}],\n",
       " 'base': 'stations',\n",
       " 'main': {'temp': 298.34,\n",
       "  'feels_like': 298.14,\n",
       "  'temp_min': 295.1,\n",
       "  'temp_max': 299.36,\n",
       "  'pressure': 1011,\n",
       "  'humidity': 47},\n",
       " 'visibility': 10000,\n",
       " 'wind': {'speed': 3.09, 'deg': 100},\n",
       " 'clouds': {'all': 100},\n",
       " 'dt': 1687099758,\n",
       " 'sys': {'type': 1,\n",
       "  'id': 1527,\n",
       "  'country': 'NL',\n",
       "  'sunrise': 1687058455,\n",
       "  'sunset': 1687118246},\n",
       " 'timezone': 7200,\n",
       " 'id': 2745127,\n",
       " 'name': 'Waalre',\n",
       " 'cod': 200}"
      ]
     },
     "execution_count": 22,
     "metadata": {},
     "output_type": "execute_result"
    }
   ],
   "source": [
    "response.json()"
   ]
  },
  {
   "cell_type": "code",
   "execution_count": 23,
   "id": "eba249e3-60c0-4b56-8d55-1dc559ad4a69",
   "metadata": {
    "tags": []
   },
   "outputs": [
    {
     "name": "stdout",
     "output_type": "stream",
     "text": [
      "1687058455\n"
     ]
    }
   ],
   "source": [
    "import json\n",
    "\n",
    "data = response.json()\n",
    "sunrise = data[\"sys\"][\"sunrise\"]\n",
    "print(sunrise)"
   ]
  },
  {
   "cell_type": "code",
   "execution_count": 24,
   "id": "b4fc584f-f264-43b4-aad0-733ce8ce5b61",
   "metadata": {
    "tags": []
   },
   "outputs": [
    {
     "data": {
      "text/plain": [
       "7200"
      ]
     },
     "execution_count": 24,
     "metadata": {},
     "output_type": "execute_result"
    }
   ],
   "source": [
    "timezone = data[\"timezone\"]\n",
    "timezone"
   ]
  },
  {
   "cell_type": "code",
   "execution_count": 25,
   "id": "10bd37be-d29f-459e-932b-dd1e3987bda0",
   "metadata": {
    "tags": []
   },
   "outputs": [
    {
     "data": {
      "text/plain": [
       "datetime.datetime(2023, 6, 18, 5, 20, 55)"
      ]
     },
     "execution_count": 25,
     "metadata": {},
     "output_type": "execute_result"
    }
   ],
   "source": [
    "import datetime\n",
    "\n",
    "dt = datetime.datetime.fromtimestamp(sunrise)\n",
    "dt"
   ]
  },
  {
   "cell_type": "markdown",
   "id": "e8aa2ed9-7bea-401f-a1fb-19a917ecc9ff",
   "metadata": {},
   "source": [
    "NB: kennelijk is de \"sunrise\" gegeven in de lokale tijd, niet in UTC!"
   ]
  },
  {
   "cell_type": "code",
   "execution_count": 28,
   "id": "21a37ae5-ca3b-4ffe-b722-46b7f903b55f",
   "metadata": {
    "tags": []
   },
   "outputs": [
    {
     "name": "stdout",
     "output_type": "stream",
     "text": [
      "25.189999999999998\n"
     ]
    }
   ],
   "source": [
    "kelvin = 273.15\n",
    "temp = data[\"main\"][\"temp\"] - kelvin\n",
    "print(temp)"
   ]
  },
  {
   "cell_type": "markdown",
   "id": "4b69378c-33ef-4c66-8f04-a2d9d414d289",
   "metadata": {},
   "source": []
  }
 ],
 "metadata": {
  "kernelspec": {
   "display_name": "Python 3 (ipykernel)",
   "language": "python",
   "name": "python3"
  },
  "language_info": {
   "codemirror_mode": {
    "name": "ipython",
    "version": 3
   },
   "file_extension": ".py",
   "mimetype": "text/x-python",
   "name": "python",
   "nbconvert_exporter": "python",
   "pygments_lexer": "ipython3",
   "version": "3.10.11"
  }
 },
 "nbformat": 4,
 "nbformat_minor": 5
}
