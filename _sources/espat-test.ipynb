{
 "cells": [
  {
   "cell_type": "markdown",
   "id": "79be4288-be69-492e-aade-704bc0ca4d4f",
   "metadata": {},
   "source": [
    "# ESP-AT test"
   ]
  },
  {
   "cell_type": "markdown",
   "id": "1e1a831f-1121-49b2-807e-67a38a1dfc55",
   "metadata": {},
   "source": [
    "Testprogramma voor de ESP-AT library."
   ]
  },
  {
   "cell_type": "markdown",
   "id": "1db51fa0-5dbb-4bfc-8ecc-1d9d8bf3abff",
   "metadata": {},
   "source": [
    "* als er een mqtt-bericht ontvangen wordt, moet dit op het display getoond worden\n",
    "* in de hoofdlus: rekening houden met wegvallen MQTT, WiFi.\n",
    "* "
   ]
  },
  {
   "cell_type": "code",
   "execution_count": null,
   "id": "6210b1db-3bcb-4ab2-bc21-f3ff4e06d5a6",
   "metadata": {},
   "outputs": [],
   "source": [
    "from microbit import *\n",
    "from espat import *\n",
    "import radio\n",
    "\n",
    "wifi_ssid = 'infvo-iot'\n",
    "wifi_password = 'LISP77(Midas'\n",
    "mqtt_user = 'mqtttest'\n",
    "mqtt_password = 'testmqtt'\n",
    "mqtt_host = 'infvopedia.nl'\n",
    "mqtt_port = 1883\n",
    "\n",
    "radio.on()\n",
    "\n",
    "def log(msg: str):\n",
    "    radio.send(msg)\n",
    "    \n",
    "def on_mqtt_message(topic: str, msg: str):\n",
    "    log('mqtt-topic: ' + topic)\n",
    "    log('mqtt-msg:' + msg)\n",
    "\n",
    "# should this be done in the library???\n",
    "uart.init(baudrate=115200, tx=pin8, rx=pin12) # connect to ESP8266\n",
    "sleep(100)\n",
    "\n",
    "display.show('0')\n",
    "at_init_ESP()\n",
    "display.show('1')\n",
    "while not at_wifi_connected():\n",
    "    try:\n",
    "        at_wifi_connect(wifi_ssid, wifi_password)\n",
    "    except Exception as exc:\n",
    "        display.show(at_errorcode)\n",
    "        sleep(2000)\n",
    "        at_init_ESP()\n",
    "        display.show('1')\n",
    "display.show('2')\n",
    "\n",
    "mac_address = at_get_mac_address()\n",
    "log('My mac-addr: ' + mac_address)\n",
    "\n",
    "at_mqtt_set_userconfig(1, 'gw-'+mac_address, mqtt_user, mqtt_password)\n",
    "display.show('3')\n",
    "    \n",
    "while True:\n",
    "    if not at_mqtt_connected():\n",
    "        if not at_wifi_connected():\n",
    "            reset()\n",
    "        at_mqtt_connect(mqtt_host, mqtt_port, 1)\n",
    "        at_set_on_mqtt_message(on_mqtt_message)\n",
    "        at_mqtt_subscribe('microbit/input', 0)\n",
    "        display.show('M')\n",
    "    \n",
    "    if button_a.was_pressed():\n",
    "        if at_mqtt_connected():\n",
    "            at_mqtt_publish('microbit/output', 'button A', 0, False)\n",
    "\n",
    "    at_check_input()\n",
    "    "
   ]
  }
 ],
 "metadata": {
  "kernelspec": {
   "display_name": "Python 3 (ipykernel)",
   "language": "python",
   "name": "python3"
  },
  "language_info": {
   "codemirror_mode": {
    "name": "ipython",
    "version": 3
   },
   "file_extension": ".py",
   "mimetype": "text/x-python",
   "name": "python",
   "nbconvert_exporter": "python",
   "pygments_lexer": "ipython3",
   "version": "3.10.11"
  }
 },
 "nbformat": 4,
 "nbformat_minor": 5
}
