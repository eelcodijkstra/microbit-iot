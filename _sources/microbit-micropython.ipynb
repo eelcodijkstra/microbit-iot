{
 "cells": [
  {
   "cell_type": "markdown",
   "id": "bf975353-e897-4571-bd6e-de605f423a30",
   "metadata": {},
   "source": [
    "# microPython voor de micro:bit"
   ]
  },
  {
   "cell_type": "markdown",
   "id": "0a3c2e60-2f91-45e8-8c66-c0c9a99cdc3a",
   "metadata": {},
   "source": [
    "Bij deze cursus gebruiken we microPython voor het programmeren van de micro:bit.\n",
    "\n",
    "Er zijn verschillende varianten van microPython voor de micro:bit. Wij gebruiken de \"officiële\" microbit-versie, voornamelijk via de online Python editor (V3):\n",
    "\n",
    "* online editor: https://python.microbit.org/v/3\n",
    "* documentatie: http://microbit-micropython.readthedocs.io\n",
    "\n",
    "```{tip}\n",
    "Als je de online editor gebruikt in Chrome of Edge, dan kun je de microbit direct verbinden met de online editor (via *WebUSB*; dit is niet in FireFox of Safari beschikbaar).\n",
    "```"
   ]
  },
  {
   "cell_type": "markdown",
   "id": "39cedb20-8ec5-41d8-8e10-19be573e6d54",
   "metadata": {},
   "source": [
    "## Ander editors voor micro:bit microPython\n",
    "\n",
    "Deze \"officiële\" variant van microPython voor de microbit kun je ook via enkele desktop-programma's gebruiken, bijvoorbeeld:\n",
    "\n",
    "* Mu-editor: https://codewith.mu\n",
    "* Thonny: https://thonny.org"
   ]
  },
  {
   "cell_type": "markdown",
   "id": "3e96bdce-0d7f-444f-be70-cef208f4b964",
   "metadata": {},
   "source": [
    "## Andere microPython-versies voor de micro:bit\n",
    "\n",
    "Er zijn meerdere versies van (micro)Python voor de micro:bit beschikbaar.\n",
    "Deze verschillen op subtiele manieren van elkaar.\n",
    "Het gaat hier te ver om op die verschillen in te gaan; de programma's kun je niet zonder meer uitwisselen.\n",
    "\n",
    "* Adafruit CircuitPython - https://learn.adafruit.com/welcome-to-circuitpython\n",
    "    * CircuitPython is de microPython-variant van Adafruit, die op veel van hun microcontrollers beschikbaar is.\n",
    "* Makecode Python - https://makecode.microbit.org/\n",
    "    * Dit is de versie die je krijgt als je in de online Makecode-editor kiest voor \"Python\" (in plaats van Blokken of JavaScript)."
   ]
  },
  {
   "cell_type": "markdown",
   "id": "fd648017-2813-4f9d-9060-0b2d48b53a49",
   "metadata": {},
   "source": []
  }
 ],
 "metadata": {
  "kernelspec": {
   "display_name": "Python 3 (ipykernel)",
   "language": "python",
   "name": "python3"
  },
  "language_info": {
   "codemirror_mode": {
    "name": "ipython",
    "version": 3
   },
   "file_extension": ".py",
   "mimetype": "text/x-python",
   "name": "python",
   "nbconvert_exporter": "python",
   "pygments_lexer": "ipython3",
   "version": "3.10.11"
  }
 },
 "nbformat": 4,
 "nbformat_minor": 5
}
