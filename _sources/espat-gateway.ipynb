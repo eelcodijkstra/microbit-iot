{
 "cells": [
  {
   "cell_type": "markdown",
   "id": "9aec95a0-55dc-474c-a123-531ffbcaa798",
   "metadata": {},
   "source": [
    "# ESP-AT gateway"
   ]
  },
  {
   "cell_type": "markdown",
   "id": "9c2b229d-7c0f-4e7a-ae54-6f6f97706b1e",
   "metadata": {},
   "source": [
    "**IoT gateway gebaseerd op ESP-AT module, voor gebruik met de iot:bit**"
   ]
  },
  {
   "cell_type": "markdown",
   "id": "f3013034-30d0-41cd-9ad4-3a0dd30e280d",
   "metadata": {},
   "source": [
    ":::{figure} figs/iot-protocollen.drawio.png\n",
    ":width: 600\n",
    "\n",
    "Gateway als verbinding tussen het IoT-netwerk en het internet\n",
    ":::"
   ]
  },
  {
   "cell_type": "markdown",
   "id": "fa14a939-71c6-4003-87b5-ead31b7a986a",
   "metadata": {},
   "source": [
    "De ESP-AT gateway vormt de verbinding tussen een lokaal microbit-IoT-netwerk en het internet.\n",
    "Lokale (uplink) sensorberichten in LPP-formaat worden omgezet in JSON, en verstuurd via MQTT.\n",
    "Downlink actuatorberichten in JSON-formaat worden ontvangen via MQTT, omgezet naar LPP-formaat, en verstuurd naar het lokale microbit-netwerk.\n",
    "\n",
    "De IoT-knopen in het lokale netwerk hebben een (4-bytes) Node-ID, zoals gebruikelijk in het platform voor het keuzethema-materiaal. Aan de hand van de ontvangen uplink-berichten bepaalt de gateway welke nodes in het lokale netwerk aanwezig zijn. Alleen downlink-berichten voor deze nodes worden naar het lokale microbit-netwerk verstuurd."
   ]
  },
  {
   "cell_type": "markdown",
   "id": "6e415c2a-4745-4745-a497-14d6e28447f2",
   "metadata": {},
   "source": [
    "## Voorbeelden van JSON-berichten"
   ]
  },
  {
   "cell_type": "markdown",
   "id": "47bfdf01-f234-4176-80af-fcada45bb14b",
   "metadata": {},
   "source": [
    "Downlink-bericht (actuators):\n",
    "\n",
    "```json\n",
    "{\"2\": {\"dOut\": 0},\n",
    " \"8\": {\"aOut\": 12}\n",
    "}\n",
    "```\n",
    "Merk op dat deze in tegenstelling tot de uplink-berichten alleen uit de payload bestaat. (Ja, dat is inderdaar niet erg consequent... Maar min of meer zo gegroeid... In een volgende versie aanpassen?)\n",
    "\n",
    "NB: in het binaire formaat in het microbit-netwerk gebruiken we voor sensoren en actuatoren hetzelfde formaat: de eerste 5 bytes zijn de protocol-id (1), node-id (2 bytes), en counter (2 bytes); daarna volgt de payload, in binair LPP-formaat."
   ]
  },
  {
   "cell_type": "markdown",
   "id": "6e212ff1-47d4-4481-81f3-fd698b595f42",
   "metadata": {},
   "source": [
    "Uplink-bericht (sensoren):\n",
    "\n",
    "```json\n",
    "{\"nodeid\": \"fe3d\",\n",
    " \"counter\": 3027,\n",
    " \"payload\": {\n",
    "   \"0\": {\"temperature\": 235},\n",
    "   \"1\": {\"barometer\": 10093},\n",
    "   \"2\": {\"dOut\": 1},\n",
    "   \"8\": {\"aOut\": 255}\n",
    "  }\n",
    "}\n",
    "```"
   ]
  },
  {
   "cell_type": "markdown",
   "id": "2e6c3417-4cdf-4d5c-8811-36887eff107d",
   "metadata": {},
   "source": [
    "## Gateway hardware: micro:bit en iot:bit"
   ]
  },
  {
   "cell_type": "markdown",
   "id": "e1793fc4-420a-463a-9fe2-0ad39659413c",
   "metadata": {},
   "source": [
    ":::{figure} figs/microbit-gateway-hardware.drawio.png\n",
    ":width: 500\n",
    "\n",
    "micro:bit met iot:bit (ESP-WiFi hardware module)\n",
    ":::"
   ]
  },
  {
   "cell_type": "markdown",
   "id": "87b0f8b0-8b3b-4fe2-bb13-1c711faea7b5",
   "metadata": {},
   "source": [
    "De gateway bestaat uit een micro:bit in combinatie met een iot:bit bordje.\n",
    "Dit bordje heeft een ESP WiFi-module die via de serieverbinding met de micro:bit communiceert.\n",
    "De micro:bit bestuurt deze ESP WiFi-module door middel van AT-opdrachten."
   ]
  },
  {
   "cell_type": "markdown",
   "id": "d74db7b1-7459-4ae1-8ee0-daf6c1cfe0a0",
   "metadata": {},
   "source": [
    "(gateway-code)=\n",
    "## Gateway-code"
   ]
  },
  {
   "cell_type": "code",
   "execution_count": null,
   "id": "ac866be5-536e-40bf-b2fc-d02d896e6ee3",
   "metadata": {},
   "outputs": [],
   "source": [
    "# ESP-AT gateway for microbit IoT-network\n",
    "# version 0.2 (EJD - 20230619)\n",
    "\n",
    "from microbit import *\n",
    "import radio\n",
    "from espat import *\n",
    "from ulpp import bytes_to_dict, dict_to_bytes\n",
    "import json \n",
    "\n",
    "# gateway connection configuration\n",
    "wifi_ssid = 'infvo-iot'\n",
    "wifi_password = 'LISP77(Midas'\n",
    "mqtt_user = 'mqtttest'\n",
    "mqtt_password = 'testmqtt'\n",
    "mqtt_host = 'infvopedia.nl'\n",
    "mqtt_port = 1883\n",
    "\n",
    "uplink_tag = 0x0A\n",
    "downlink_tag = 0x0B\n",
    "\n",
    "radio.on()\n",
    "\n",
    "def log (msg: str):\n",
    "    radio.send(msg)\n",
    "\n",
    "local_nodes = []\n",
    "\n",
    "# handle received MQTT message (from broker)\n",
    "def on_mqtt_message (topic: str, msg: str):\n",
    "    log('-topic: ' + topic)\n",
    "    log('-msg: ' + msg)\n",
    "    # items = topic.decode('ascii').split('/')\n",
    "    items = topic.split('/')\n",
    "    if len(items) == 3 and items[0] == 'node' and items[2] == 'actuators':\n",
    "        nodeID = int(items[1], 16)\n",
    "        if nodeID in local_nodes:\n",
    "            lpp_bytes = dict_to_bytes(json.loads(msg))\n",
    "            downlink_header = bytes([0x0B, nodeID // 256, nodeID % 256, 0, 0])\n",
    "            radio.send_bytes(downlink_header + lpp_bytes)\n",
    "\n",
    "# publish sensor data in JSON format to MQTT\n",
    "def sensordata_to_mqtt(data):\n",
    "    nodeID = data[1] * 256 + data[2]\n",
    "    if not nodeID in local_nodes:\n",
    "        local_nodes.append(nodeID)\n",
    "            \n",
    "    nodeID_hex = '{0:x}'.format(nodeID)\n",
    "    counter = data[3] * 256 + data[4]\n",
    "    lpp_dict = bytes_to_dict(data[5:])\n",
    "    msg = {'nodeid': nodeID_hex,\n",
    "            'counter': counter,\n",
    "            'payload': lpp_dict\n",
    "    }\n",
    "    log(json.dumps(msg))\n",
    "    at_mqtt_publish('node/{a}/sensors'.format(a=nodeID_hex), \n",
    "                    json.dumps(msg),\n",
    "                     0, False)\n",
    "\n",
    "# should this be done in the library???\n",
    "uart.init(baudrate=115200, tx=pin8, rx=pin12) # connect to ESP8266\n",
    "sleep(100)\n",
    "\n",
    "display.show('0')\n",
    "at_init_ESP()\n",
    "display.show('1')\n",
    "while not at_wifi_connected():\n",
    "    try:\n",
    "        at_wifi_connect(wifi_ssid, wifi_password)\n",
    "    except Exception as exc:\n",
    "        display.show(at_errorcode)\n",
    "        sleep(2000)\n",
    "        at_init_ESP()\n",
    "        display.show('1')\n",
    "display.show('2')\n",
    "\n",
    "mac_address = at_get_mac_address()\n",
    "log('My mac-addr: ' + mac_address)\n",
    "\n",
    "at_mqtt_set_userconfig(1, 'gw-'+mac_address, mqtt_user, mqtt_password)\n",
    "display.show('3')\n",
    "\n",
    "mqtt_retries = 0\n",
    "    \n",
    "while True:\n",
    "    if not at_mqtt_connected():\n",
    "        if not at_wifi_connected() or mqtt_retries > 20:\n",
    "            reset()\n",
    "        mqtt_retries += 1\n",
    "        at_mqtt_connect(mqtt_host, mqtt_port, 1)\n",
    "        at_set_on_mqtt_message(on_mqtt_message)\n",
    "        at_mqtt_subscribe('node/+/actuators', 0)\n",
    "        display.show('M')\n",
    "    \n",
    "    msg = radio.receive_bytes()\n",
    "    if msg != None:\n",
    "        if msg[0] == uplink_tag:\n",
    "            sensordata_to_mqtt(msg)\n",
    "                        \n",
    "    if button_a.was_pressed():\n",
    "        if at_mqtt_connected():\n",
    "            at_mqtt_publish('gateway/hello', 'button A', 0, False)\n",
    "\n",
    "    at_check_input()                      "
   ]
  }
 ],
 "metadata": {
  "kernelspec": {
   "display_name": "Python 3 (ipykernel)",
   "language": "python",
   "name": "python3"
  },
  "language_info": {
   "codemirror_mode": {
    "name": "ipython",
    "version": 3
   },
   "file_extension": ".py",
   "mimetype": "text/x-python",
   "name": "python",
   "nbconvert_exporter": "python",
   "pygments_lexer": "ipython3",
   "version": "3.10.11"
  }
 },
 "nbformat": 4,
 "nbformat_minor": 5
}
