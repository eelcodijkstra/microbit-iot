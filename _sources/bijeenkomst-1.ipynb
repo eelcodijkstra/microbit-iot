{
 "cells": [
  {
   "cell_type": "markdown",
   "id": "6b17d3a3-afb2-45cb-92aa-2582113b3cfc",
   "metadata": {},
   "source": [
    "# Bijeenkomst 1"
   ]
  },
  {
   "cell_type": "markdown",
   "id": "bbd0fc60-663e-49ec-a1cf-451178e465ed",
   "metadata": {},
   "source": [
    "Het IoT (internet of things) is een volgende stap in de ontwikkeling van het internet, na het web. Het web vormt de (grafische) gebruikersinterface voor het internet, en de verbinding van het internet naar mensen. Het IoT verbindt *fysieke dingen* en omgevingen met het internet, en maakt het mogelijk deze automatisch te monitoren (bewaken) en te besturen. In het bijzonder zorgt het IoT voor de verbinding van het internet naar machines.\n",
    "Dit maakt het mogelijk dat machines via het internet met machines communiceren, maar ook mensen met machines.\n",
    "\n",
    "* lesmateriaal: https://eelcodijkstra.github.io/netbook0/h1/inleiding.html"
   ]
  },
  {
   "cell_type": "markdown",
   "id": "96d9d08a-a5c7-4440-a743-347d3d0c6ba9",
   "metadata": {},
   "source": [
    "## Praktische opdrachten"
   ]
  },
  {
   "cell_type": "markdown",
   "id": "31c24cde-bca9-4fee-9910-81bb9d2648e5",
   "metadata": {
    "tags": []
   },
   "source": [
    "### microbit radio"
   ]
  },
  {
   "cell_type": "markdown",
   "id": "5bf9e59d-cc6f-4d38-8d3d-ee60e0fb7334",
   "metadata": {},
   "source": [
    "**Stap 1**: installeer de code voor de IoT-node op microbit 1, zie {ref}`iot-node-code`"
   ]
  },
  {
   "cell_type": "markdown",
   "id": "e124ee3b-0232-4491-9974-db7a98bc6dee",
   "metadata": {},
   "source": [
    "* installeer met behulp van de online Python editor de code van de IoT-knoop op een microbit\n",
    "    * kopieer de code van {ref}`iot-node-code` over de bestaande code heen\n",
    "    * als alternatief kun je een desktop editor als Mu gebruiken\n",
    "    * deze versie gebruikt alleen de ingebouwde sensoren en actuatoren; maar je kunt eventueel een LED aansluiten op pin0, deze werkt parallel aan het display.\n",
    "* test deze software: bij het verzenden krijg je de bytes van het verzonden bericht te zien (via de \"serial\" host-USB verbinding)."
   ]
  },
  {
   "cell_type": "markdown",
   "id": "df345562-d349-4f43-9087-ccc7c97d28dc",
   "metadata": {},
   "source": [
    "**Stap 2**: installeer de code voor de radio-logger op microbit 2, zie {ref}`radio-logger-code`. Deze code gebruikt een extra module die je als project-bestand aan de editor moet opgeven."
   ]
  },
  {
   "cell_type": "markdown",
   "id": "e81a88cb-44a7-41f8-95bf-c2c9f0184a0f",
   "metadata": {},
   "source": [
    "* installeer de microbit logger-software op een andere microbit\n",
    "    * links in het project-menu: \"create file\"; noem deze `lppjson`; kopieer de {ref}`lppjson-module-code` naar het middelste venster (over de bestaande code heen).\n",
    "    * selecteer links in het project-menu: `main.py`, en kopieer de {ref}`radio-logger-code` naar het middelste venster.\n",
    "* de berichten van de IoT-knoop(en) kun je nu volgen via de logger (=\"packet snifffer\")\n",
    "    * de berichten worden getoond als bytes en als JSON-string.\n",
    "    * controleer voor een bericht of je de bytes-begrijpt in samenhang met de bijbehorende JSON-string. Gebruik daarvoor de uitleg van het LPP payload formaat.\n",
    "    "
   ]
  },
  {
   "cell_type": "markdown",
   "id": "c6f8b013-7ebf-4576-8215-12cee5e414e0",
   "metadata": {},
   "source": [
    "Merk op dat de berichten niet versleuteld worden: iedereen *in het netwerk* kan meeluisteren (net als in een WiFi-netwerk, waar de versleuteling voor het netwerk geldt, niet per bericht)."
   ]
  },
  {
   "cell_type": "markdown",
   "id": "c5ae16d0-d5d3-4a9d-961e-6cc97c920701",
   "metadata": {},
   "source": [
    ":::{exercise} Voeg een *presence* sensor toe\n",
    "\n",
    "Voor onze voorbeeld-toepassing hebben we een *presence* sensor nodig.\n",
    "Een primitieve versie daarvan is het schudden van de micro:bit (\"shake\" event).\n",
    "Als je de mogelijkheden daarvoor hebt, kun je een PIR-sensor gebruiken.\n",
    "\n",
    "* breid de functie `send_sensors` uit met een extra parameter voor *presence*\n",
    "    * gebruik hiervoor channel \n",
    "* voeg aan de *event-loop* een IF-statement toe voor het detecteren een *presence* event\n",
    "    * stuur direct de sensor-waarden op, inclusief de waarde voor *presence*\n",
    "    \n",
    "\n",
    "\n",
    ":::"
   ]
  },
  {
   "cell_type": "markdown",
   "id": "14c59a29-2d09-4c5d-ac9c-8f2f913d5c93",
   "metadata": {},
   "source": [
    "### MQTT"
   ]
  },
  {
   "cell_type": "markdown",
   "id": "6a99ed32-87d7-4888-9684-afc3b41a60ea",
   "metadata": {},
   "source": [
    "Uitleg over MQTT: https://eelcodijkstra.github.io/netbook0/mqtt/toctree.html\n",
    "\n",
    "Opdrachten uit het bestaande materiaal: https://eelcodijkstra.github.io/netbook0/mqtt/mqtt-opdrachten.html"
   ]
  },
  {
   "cell_type": "markdown",
   "id": "bade5bf7-a979-4983-8315-b04cc3159a13",
   "metadata": {},
   "source": [
    "* Chat: https://eelcodijkstra.github.io/netbook0/mqtt/mqtt-opdrachten.html#mqtt-chat\n",
    "* Knoop volgen: https://eelcodijkstra.github.io/netbook0/mqtt/mqtt-opdrachten.html#knoop-volgen\n",
    "* Knoop besturen: https://eelcodijkstra.github.io/netbook0/mqtt/mqtt-opdrachten.html#knoop-besturen"
   ]
  },
  {
   "cell_type": "markdown",
   "id": "7376610a-4e3c-46d3-a552-a1080f6d29e6",
   "metadata": {},
   "source": [
    "Bij de laatste opdrachten kun je gebruik maken van bestaande IoT-knopen, maar ook van een gesimuleerde knoop in je browser. Hiervoor gebruik je het programma: http://infvopedia.nl/iotnode-app.html. Zorg ervoor dat je een eigen *uniek* node-ID invult (4 hexadecimale cijfers)."
   ]
  },
  {
   "cell_type": "markdown",
   "id": "0393c4e2-a2b6-43ce-922e-fd6a03cd5f6f",
   "metadata": {},
   "source": [
    "### NodeRed"
   ]
  },
  {
   "cell_type": "markdown",
   "id": "2534b63e-8427-4efb-a350-6623223adfc7",
   "metadata": {},
   "source": [
    "* https://eelcodijkstra.github.io/netbook0/protocollen/nodered/nodered-opdrachten.html\n",
    "* voor de opdrachten kun je gebruik maken van een NodeRed project op: https://forge.infvoflows.nl/"
   ]
  },
  {
   "cell_type": "markdown",
   "id": "9931b3b8-1934-4331-8267-919ddd3b8d58",
   "metadata": {},
   "source": []
  }
 ],
 "metadata": {
  "kernelspec": {
   "display_name": "Python 3 (ipykernel)",
   "language": "python",
   "name": "python3"
  },
  "language_info": {
   "codemirror_mode": {
    "name": "ipython",
    "version": 3
   },
   "file_extension": ".py",
   "mimetype": "text/x-python",
   "name": "python",
   "nbconvert_exporter": "python",
   "pygments_lexer": "ipython3",
   "version": "3.10.11"
  }
 },
 "nbformat": 4,
 "nbformat_minor": 5
}
