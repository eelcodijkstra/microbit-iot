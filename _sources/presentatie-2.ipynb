{
 "cells": [
  {
   "cell_type": "markdown",
   "id": "9082c7f2-e9fc-4fe0-9bc6-5cd4990913f1",
   "metadata": {
    "slideshow": {
     "slide_type": "slide"
    },
    "tags": []
   },
   "source": [
    "# Presentatie 2\n",
    "\n",
    "IoT met de micro:bit"
   ]
  },
  {
   "cell_type": "markdown",
   "id": "7cb54134-ffdd-4466-b882-c0e379f17a94",
   "metadata": {
    "slideshow": {
     "slide_type": "slide"
    },
    "tags": []
   },
   "source": [
    "## Programma\n",
    "\n",
    "* IoT gateway\n",
    "* NodeRed sensor- en actuatorflows"
   ]
  },
  {
   "cell_type": "markdown",
   "id": "8cc9df29-12af-4e3e-8b85-50e8334a0e26",
   "metadata": {
    "slideshow": {
     "slide_type": "slide"
    },
    "tags": []
   },
   "source": [
    "## IoT netwerk (opstelling)\n",
    "\n",
    "![](figs/microbit-iot-network.drawio.png)"
   ]
  },
  {
   "cell_type": "markdown",
   "id": "5ce25b41-8df5-48e2-b067-98c95d9dc3e1",
   "metadata": {
    "slideshow": {
     "slide_type": "slide"
    },
    "tags": []
   },
   "source": [
    "## IoT netwerk <-> internet\n",
    "\n",
    "![](figs/iot-protocollen.drawio.png)"
   ]
  },
  {
   "cell_type": "markdown",
   "id": "69f24c75-3785-4ea9-8bab-95de84cd1c2f",
   "metadata": {
    "slideshow": {
     "slide_type": "slide"
    },
    "tags": []
   },
   "source": [
    "## IoT-gateway\n",
    "\n",
    "* verbindt IoT-netwerk en internet\n",
    "* omzetten van LPP payload <-> JSON MQTT payload"
   ]
  },
  {
   "cell_type": "markdown",
   "id": "f0fe885f-b80c-4210-bf0b-db9c1cd789b5",
   "metadata": {
    "slideshow": {
     "slide_type": "slide"
    },
    "tags": []
   },
   "source": [
    "## Payloads\n",
    "\n",
    "* header + LPP binair formaat\n",
    "\n",
    "```\n",
    "[10, 59, 82, 1, 44, 0, 1, 0, 1, 1, 0, 2, 0, 0, \n",
    "  3, 0, 0, 4, 103, 1, 4, 8, 2, 0, 15]\n",
    "```\n",
    "\n",
    "* JSON tekstformaat - header + payload\n",
    "\n",
    "```\n",
    "{\"nodeid\": \"3b52\", \"counter\": 300,\n",
    " \"payload\": {\n",
    "     \"4\": {\"temperature\": 260}, \"8\": {\"aIn\": 15}, \"1\": {\"dOut\": 0}, \n",
    "     \"0\": {\"dOut\": 0}, \"3\": {\"dIn\": 0}, \"2\": {\"dIn\": 0}}}\n",
    " ```"
   ]
  },
  {
   "cell_type": "markdown",
   "id": "3e9281f6-9aae-461a-ab4e-1963b9fc88af",
   "metadata": {
    "slideshow": {
     "slide_type": "slide"
    },
    "tags": []
   },
   "source": [
    "## Gateway-hardware\n",
    "\n",
    "![](figs/microbit-gateway-hardware.drawio.png)"
   ]
  },
  {
   "cell_type": "markdown",
   "id": "15b5b35a-e6b4-4717-b63b-e29df7605a01",
   "metadata": {
    "slideshow": {
     "slide_type": "slide"
    },
    "tags": []
   },
   "source": [
    "## Gateway-protocollen\n",
    "\n",
    "![](figs/microbit-gateway-protocol.drawio.png)"
   ]
  },
  {
   "cell_type": "markdown",
   "id": "e4add3d7-3e2b-4353-8fd5-95ef5b39c930",
   "metadata": {
    "slideshow": {
     "slide_type": "slide"
    },
    "tags": []
   },
   "source": [
    "## AT voorbeelden\n",
    "\n",
    "```\n",
    "AT+MQTTUSERCFG=0,1,\"ESP32\",\"espressif\",\"1234567890\",0,0,\"\"\n",
    "AT+MQTTCONN=0,\"192.168.31.113\",1883,0\n",
    "AT+MQTTSUB=0,\"topic\",1\n",
    "AT+MQTTPUB=0,\"topic\",\"test\",1,0\n",
    "```"
   ]
  },
  {
   "cell_type": "markdown",
   "id": "921d786f-0063-434e-9d99-c88896dc1548",
   "metadata": {
    "slideshow": {
     "slide_type": "slide"
    },
    "tags": []
   },
   "source": [
    "## enkele speciale punten\n",
    "\n",
    "* naast AT-opdracht met response, ook ongevraagde ESP-berichten\n",
    "    * bijv. wegvallen van MQTT verbinding\n",
    "* \"escape\" nodig in AT-string-argumenten\n",
    "    * voor `\"` (quotes)\n",
    "    * en voor `,` (comma) (!!)\n",
    "    "
   ]
  },
  {
   "cell_type": "markdown",
   "id": "78b56297-72c5-427c-8a36-7fa2d88eba98",
   "metadata": {
    "slideshow": {
     "slide_type": "slide"
    },
    "tags": []
   },
   "source": [
    "## Programmeren van gateway\n",
    "\n",
    "* zie handleiding \"micro:bits programmeren\"\n",
    "* testen met onderstaande opstelling\n",
    "\n",
    "![](figs/microbit-iot-network.drawio.png)"
   ]
  },
  {
   "cell_type": "markdown",
   "id": "a547cd75-57e5-433f-b072-4bc6d076be86",
   "metadata": {
    "slideshow": {
     "slide_type": "slide"
    },
    "tags": []
   },
   "source": [
    "## NodeRed\n",
    "\n",
    "![](figs/iot-protocollen.drawio.png)\n",
    "\n",
    "* NodeRed: controller, verbindt IoT-onderdelen\n",
    "    * via allerlei protocollen\n",
    "    * verbindingen en beslissingen via \"flows\"    "
   ]
  },
  {
   "cell_type": "markdown",
   "id": "bfe95a02-8bcb-4d51-9309-8c583e43eaaf",
   "metadata": {
    "slideshow": {
     "slide_type": "slide"
    },
    "tags": []
   },
   "source": [
    "## NodeRed-opdrachten\n",
    "\n",
    "* https://eelcodijkstra.github.io/netbook0/protocollen/nodered/nodered-opdrachten.html\n",
    "    * basis-nodes en -flows\n",
    "* https://eelcodijkstra.github.io/netbook0/mqtt/nodered/mqtt-nodered.html\n",
    "    * mqtt flows, sensoren, actuatoren"
   ]
  },
  {
   "cell_type": "markdown",
   "id": "728c6e29-7a0e-4a4e-8b70-8a5a94cc89e3",
   "metadata": {
    "slideshow": {
     "slide_type": "slide"
    },
    "tags": []
   },
   "source": [
    "## NodeRed - nodes en flows\n",
    "\n",
    "* node: input links, output(s) rechts\n",
    "* verbindingen: van output naar input\n",
    "* node: verwerkt input-message, resulteert in output-messages\n",
    "* input-node: heeft externe input (bijv. HTTP, MQTT)\n",
    "* output-node: heeft externe output (bijv. HTTP, MQTT)\n"
   ]
  },
  {
   "cell_type": "markdown",
   "id": "96f1a11d-4dc5-4cea-a095-261e3a6d8379",
   "metadata": {},
   "source": [
    "## Voorbeeld: http flow\n",
    "\n",
    "![](figs/nodered-http-hello.png)\n",
    "\n",
    "hello-tekst (template):\n",
    "\n",
    "```html\n",
    " <h1>Hello World!<h1>\n",
    "```\n",
    "\n",
    "https://eelcodijkstra.github.io/netbook0/http/nodered/eerste-webserver.html\n",
    "\n",
    "Test vb: https://elegant-goosander-2583.infvoflows.nl/hello?test=123"
   ]
  },
  {
   "cell_type": "markdown",
   "id": "89868c83-e4ee-46f8-9a57-9874f177852a",
   "metadata": {},
   "source": [
    "**Opdrachten** - zie {ref}`bijeenkomst-2`"
   ]
  }
 ],
 "metadata": {
  "kernelspec": {
   "display_name": "Python 3 (ipykernel)",
   "language": "python",
   "name": "python3"
  },
  "language_info": {
   "codemirror_mode": {
    "name": "ipython",
    "version": 3
   },
   "file_extension": ".py",
   "mimetype": "text/x-python",
   "name": "python",
   "nbconvert_exporter": "python",
   "pygments_lexer": "ipython3",
   "version": "3.10.11"
  }
 },
 "nbformat": 4,
 "nbformat_minor": 5
}
