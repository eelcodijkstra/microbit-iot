{
 "cells": [
  {
   "cell_type": "markdown",
   "id": "d88823c4-a218-4d2e-bcac-09f884c5ba88",
   "metadata": {},
   "source": [
    "# microbit-logger"
   ]
  },
  {
   "cell_type": "markdown",
   "id": "378a6a61-3987-4621-a835-e9d5e7a530a5",
   "metadata": {},
   "source": [
    "Met de logger kun je het radio-verkeer volgen, tussen de gateway en de IoT-knopen. En je kunt de log-berichten van de gateway volgen.\n"
   ]
  },
  {
   "cell_type": "code",
   "execution_count": null,
   "id": "bc378a02-7bfa-421a-b3c1-2e08c8392b6b",
   "metadata": {},
   "outputs": [],
   "source": [
    "from microbit import *\n",
    "import radio\n",
    "import ulpp\n",
    "\n",
    "radio.config(length=250)\n",
    "radio.on()\n",
    "\n",
    "print(\"Remote logger-v1\")\n",
    "\n",
    "while True:\n",
    "    msg = radio.receive_bytes()\n",
    "    if msg != None:\n",
    "        if msg[0] == 1 and msg[1] == 0 and msg[2] == 1:\n",
    "            # text message\n",
    "            print(str(msg[3:], 'utf8'))\n",
    "            # LPP binary message   \n",
    "        else:\n",
    "            # LPP binary message \n",
    "            print(str(msg))\n",
    "            msg_obj = ulpp.bytes_to_dict(msg[5:])\n",
    "            print(msg_obj)"
   ]
  },
  {
   "cell_type": "code",
   "execution_count": 1,
   "id": "574ee48f-9365-47c4-8548-2dd2fbcf0580",
   "metadata": {},
   "outputs": [
    {
     "data": {
      "text/plain": [
       "125"
      ]
     },
     "execution_count": 1,
     "metadata": {},
     "output_type": "execute_result"
    }
   ],
   "source": [
    "len('{\"nodeid\": \"fe30\", \"counter\": 63, \"payload\": \"{\"2\": \"{\"dIn\": 0}\", \"4\": \"{\"aIn\": 0}\", \"3\": \"{\"dIn\": 0}\", \"6\": \"{\"temperature\":')"
   ]
  },
  {
   "cell_type": "markdown",
   "id": "1b39a82c-7f2e-4ab2-830d-e9eb46d1b98d",
   "metadata": {},
   "source": []
  }
 ],
 "metadata": {
  "kernelspec": {
   "display_name": "Python 3 (ipykernel)",
   "language": "python",
   "name": "python3"
  },
  "language_info": {
   "codemirror_mode": {
    "name": "ipython",
    "version": 3
   },
   "file_extension": ".py",
   "mimetype": "text/x-python",
   "name": "python",
   "nbconvert_exporter": "python",
   "pygments_lexer": "ipython3",
   "version": "3.10.10"
  }
 },
 "nbformat": 4,
 "nbformat_minor": 5
}
