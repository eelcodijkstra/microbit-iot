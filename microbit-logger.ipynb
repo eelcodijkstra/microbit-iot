{
 "cells": [
  {
   "cell_type": "markdown",
   "id": "d88823c4-a218-4d2e-bcac-09f884c5ba88",
   "metadata": {},
   "source": [
    "(microbit-logger)=\n",
    "# microbit-logger"
   ]
  },
  {
   "cell_type": "markdown",
   "id": "378a6a61-3987-4621-a835-e9d5e7a530a5",
   "metadata": {},
   "source": [
    "Met de radio-logger kun je het radio-verkeer in het microbit IoT-netwerk volgen. Dit bestaat uit de sensor- en actuator-berichten van en naar de IoT-knopen, en de log-berichten van de gateway.\n",
    "\n",
    "Tekst-berichten hebben de header `[1,0,1]`; IoT-berichten hebben als eerste byte `0x0A` of `0x0B`.\n",
    "\n",
    "Gebruikte module: {ref}`module-lppjson`"
   ]
  },
  {
   "cell_type": "code",
   "execution_count": null,
   "id": "bc378a02-7bfa-421a-b3c1-2e08c8392b6b",
   "metadata": {},
   "outputs": [],
   "source": [
    "from microbit import *\n",
    "import radio\n",
    "from lppjson import lpp_to_json\n",
    "\n",
    "radio.config(length=250)\n",
    "radio.on()\n",
    "\n",
    "print(\"Remote logger-v1.1\")\n",
    "while True:\n",
    "    msg = radio.receive_bytes()\n",
    "    if msg != None:\n",
    "        if msg[0] == 1 and msg[1] == 0 and msg[2] == 1:\n",
    "            print(str(msg[3:], 'utf8'))\n",
    "        else:\n",
    "            # LPP binary message \n",
    "            print(str(list(msg)))\n",
    "            print('node: {0:x}, counter: {1}'.format(\n",
    "                msg[1]*256 + msg[2],\n",
    "                msg[3]*256 + msg[4]))   # header\n",
    "            print(lpp_to_json(msg[5:])) # skip header"
   ]
  },
  {
   "cell_type": "markdown",
   "id": "1b39a82c-7f2e-4ab2-830d-e9eb46d1b98d",
   "metadata": {},
   "source": []
  }
 ],
 "metadata": {
  "kernelspec": {
   "display_name": "Python 3 (ipykernel)",
   "language": "python",
   "name": "python3"
  },
  "language_info": {
   "codemirror_mode": {
    "name": "ipython",
    "version": 3
   },
   "file_extension": ".py",
   "mimetype": "text/x-python",
   "name": "python",
   "nbconvert_exporter": "python",
   "pygments_lexer": "ipython3",
   "version": "3.10.11"
  }
 },
 "nbformat": 4,
 "nbformat_minor": 5
}
