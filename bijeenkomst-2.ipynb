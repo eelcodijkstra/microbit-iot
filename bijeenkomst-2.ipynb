{
 "cells": [
  {
   "cell_type": "markdown",
   "id": "955756e6-4531-4d57-b603-457bb88dc44d",
   "metadata": {},
   "source": [
    "# Bijeenkomst 2"
   ]
  },
  {
   "cell_type": "markdown",
   "id": "1f47f0ca-8a1e-4808-90f2-312eaa79eede",
   "metadata": {},
   "source": []
  }
 ],
 "metadata": {
  "kernelspec": {
   "display_name": "Python 3 (ipykernel)",
   "language": "python",
   "name": "python3"
  },
  "language_info": {
   "codemirror_mode": {
    "name": "ipython",
    "version": 3
   },
   "file_extension": ".py",
   "mimetype": "text/x-python",
   "name": "python",
   "nbconvert_exporter": "python",
   "pygments_lexer": "ipython3",
   "version": "3.10.10"
  }
 },
 "nbformat": 4,
 "nbformat_minor": 5
}
