{
 "cells": [
  {
   "cell_type": "markdown",
   "id": "02df66bc-6f18-4293-aabb-9e34d090c3e4",
   "metadata": {
    "slideshow": {
     "slide_type": "slide"
    },
    "tags": []
   },
   "source": [
    "# Presentatie-1"
   ]
  },
  {
   "cell_type": "markdown",
   "id": "c2035b5f-a607-4c2e-b503-e6091bc5a1ee",
   "metadata": {
    "slideshow": {
     "slide_type": "slide"
    },
    "tags": []
   },
   "source": [
    "## Internet of Things\n",
    "\n",
    "* koppelen van \"dingen\" aan het internet\n",
    "* voor *slimme systemen*\n",
    "    * betere beslissingen\n",
    "    * door meer, lokale, en actuele informatie\n",
    "* aanvulling op het bestaande internet en web"
   ]
  },
  {
   "cell_type": "markdown",
   "id": "2eaf5e25-692d-443a-92d0-a9d7e340cc12",
   "metadata": {
    "slideshow": {
     "slide_type": "slide"
    },
    "tags": []
   },
   "source": [
    "## Voorbeeld-toepassingen\n",
    "\n",
    "* IoT-toepassingen met (zeer) lage bitrate, grote latency-communicatie\n",
    "* gebruik van simpele sensoren en actuatoren\n",
    "    * *geen* camera, microfoon\n",
    "* keuze voor radio, afhankelijk van context\n",
    "    * van WiFi,  RFM69, microbit-radio, (BLE en ZigBee) tot LoRa\n",
    "    * op basis van energieverbruik en bereik "
   ]
  },
  {
   "cell_type": "markdown",
   "id": "f0cc5e6b-2328-435f-b8cf-82c96fb17deb",
   "metadata": {
    "slideshow": {
     "slide_type": "slide"
    },
    "tags": []
   },
   "source": [
    "## Functies in slimme IoT-systemen\n",
    "\n",
    "![](figs/iot-functionele-architectuur.drawio.png)"
   ]
  },
  {
   "cell_type": "markdown",
   "id": "607d32ed-1e00-4b1e-a466-d21220be9d97",
   "metadata": {
    "slideshow": {
     "slide_type": "slide"
    },
    "tags": []
   },
   "source": [
    "## IoT-communicatie\n",
    "\n",
    "* verbindingen\n",
    "* netwerkapparaten\n",
    "\n",
    "![](figs/iot-netwerk-architectuur.drawio.png)\n"
   ]
  },
  {
   "cell_type": "markdown",
   "id": "39c7dbbf-1cf1-4273-8ac3-0138ea8b9c86",
   "metadata": {
    "slideshow": {
     "slide_type": "slide"
    },
    "tags": []
   },
   "source": [
    "## IoT-protocollen\n",
    "\n",
    "![](figs/iot-protocollen.drawio.png)\n"
   ]
  },
  {
   "cell_type": "markdown",
   "id": "6f1f0cb2-fbec-4159-a917-c260d44302d6",
   "metadata": {
    "slideshow": {
     "slide_type": "slide"
    },
    "tags": []
   },
   "source": [
    "## IoT-protocolstacks\n",
    "\n",
    "![](figs/iot-protocol-stack.drawio.png)\n"
   ]
  },
  {
   "cell_type": "markdown",
   "id": "99404978-7c8c-4add-aae9-6b705c38e8ad",
   "metadata": {
    "slideshow": {
     "slide_type": "slide"
    },
    "tags": []
   },
   "source": [
    "## microbit als IoT-knoop\n",
    "\n",
    "* sensoren: drukknoppen, temperatuur, licht (display), accelerometer, \n",
    "    * touch(V2), microfoon(V2)\n",
    "* actuatoren: display, \n",
    "    * luidspreker (V2)\n",
    "* microcontroller\n",
    "* radio (\"microbit radio\")\n",
    "* power (batterij, USB)\n",
    "    * low-power sleep (V2)"
   ]
  },
  {
   "cell_type": "markdown",
   "id": "9515fbc1-2b14-465b-aede-d193fda8d80a",
   "metadata": {
    "slideshow": {
     "slide_type": "slide"
    },
    "tags": []
   },
   "source": [
    "## microbit-radio\n",
    "\n",
    "* pakketradio (ca.20-200 bytes/pakket)\n",
    "* datarate: 1 - 2 Mbit/s\n",
    "* 2,4 GHz band (WiFi, magnetron)\n",
    "* broadcast (geen adressering)\n",
    "* best effort communicatie"
   ]
  },
  {
   "cell_type": "markdown",
   "id": "5d182544-a2b8-4d4d-947a-0ddde6395afa",
   "metadata": {
    "slideshow": {
     "slide_type": "slide"
    },
    "tags": []
   },
   "source": [
    "## microbit IoT-netwerk\n",
    "\n",
    "![](figs/microbit-iot-network.drawio.png)\n"
   ]
  },
  {
   "cell_type": "markdown",
   "id": "56c9d23f-90c8-4581-9bc9-e6d754a6693f",
   "metadata": {
    "slideshow": {
     "slide_type": "slide"
    },
    "tags": []
   },
   "source": [
    "## microbit IoT-netwerk\n",
    "\n",
    "* ster-topologie: van/naar IoT-gateway\n",
    "* address: 16 bits, afgeleid van microbit ID\n",
    "* pakketformaat:\n",
    "    * 5-byte header: tag, address, counter\n",
    "    * LPP payload\n",
    "* tag: \n",
    "    * 0x0A (uplink, sensors),\n",
    "    * 0x0B (downlink, actuators)\n",
    "\n",
    "```\n",
    "[10, 59, 82, 1, 44, 0, 1, 0, 1, 1, 0, 2, 0, 0, \n",
    "  3, 0, 0, 4, 103, 1, 4, 8, 2, 0, 15]\n",
    "```"
   ]
  },
  {
   "cell_type": "markdown",
   "id": "b4b3c96c-16fd-43c8-8679-5f68d191f6c7",
   "metadata": {
    "slideshow": {
     "slide_type": "slide"
    },
    "tags": []
   },
   "source": [
    "## LPP payload\n",
    "\n",
    "* binair (bytes)\n",
    "* reeks van: (channel, tag, value)\n",
    "    * channel: 1 byte, uniek\n",
    "    * tag: 1 byte, type sensor/actuator\n",
    "    * value: 1 of meer bytes, waarde sensor/actuator\n",
    "    \n",
    "Bijv: (4, 103, 0, 220): channel 4, temperatuur, 22'Celcius"
   ]
  },
  {
   "cell_type": "markdown",
   "id": "2325c4dd-44f9-46d0-b432-f2137b2bf12a",
   "metadata": {
    "slideshow": {
     "slide_type": "slide"
    },
    "tags": []
   },
   "source": [
    "## LPP payload (IoT lesmateriaal)\n",
    "\n",
    "| ch | tag  | type        | bytes | res. per bit| microbit |\n",
    "| :---    | ---: | :---        | :---: | :---      | :---|\n",
    "| 0       |  1   | dOut        | 1  | 1         | display, led0 (pin0)|\n",
    "| 1       |  1   | dOut        | 1  | 1         | led1 (pin1)         |\n",
    "| 2       |  0   | dIn         | 1  | 1         | button A            |\n",
    "| 3       |  0   | dIn         | 1  | 1         | button B            |\n",
    "| 4       |  103 | temperature | 2  | 0.1°C (s) | microbit temperature |\n",
    "| 5       |  115 | barometer   | 2  | 0.1 hPa (s) | (gereserveerd) |\n",
    "| 6       |  104 | humidity    | 1  | 0.5 % (u) | (gereserveerd) |\n",
    "| 7       |  102 | presence    | 1  | 1     | shake, PIR sensor |\n",
    "| 8       |  2   | aIn         | 2  | 0.01  (u) | light level (display) |\n",
    "\n",
    "```\n",
    "[0, 1, 0, 1, 1, 0, 2, 0, 0, 3, 0, 0, 4, 103, 1, 4, 8, 2, 0, 15]\n",
    "```\n"
   ]
  },
  {
   "cell_type": "markdown",
   "id": "02cde00e-eaf0-40a4-a9fc-4f57ac6ea79f",
   "metadata": {
    "slideshow": {
     "slide_type": "slide"
    },
    "tags": []
   },
   "source": [
    "## LPP in JSON string-formaat\n",
    "\n",
    "```\n",
    "{\"nodeid\": \"3b52\", \n",
    " \"counter\": 300,\n",
    " \"payload\": {\n",
    "     \"4\": {\"temperature\": 260}, \n",
    "     \"8\": {\"aIn\": 15}, \n",
    "     \"1\": {\"dOut\": 0}, \n",
    "     \"0\": {\"dOut\": 0}, \n",
    "     \"3\": {\"dIn\": 0}, \n",
    "     \"2\": {\"dIn\": 0}}}\n",
    " ```"
   ]
  },
  {
   "cell_type": "markdown",
   "id": "e7f47d40-6556-4ace-b1d1-8527bfc17b24",
   "metadata": {
    "slideshow": {
     "slide_type": "slide"
    },
    "tags": []
   },
   "source": [
    "## IoT gateway\n",
    "\n",
    "* verbinding tussen lokale IoT-netwerk en internet\n",
    "* omzetten van binaire LPP berichten naar MQTT-JSON\n",
    "* en omgekeerd\n",
    "* combinatie van microbit en WiFi radio"
   ]
  },
  {
   "cell_type": "markdown",
   "id": "a277307d-eb3f-49fb-92b8-18b7673f559d",
   "metadata": {
    "slideshow": {
     "slide_type": "slide"
    },
    "tags": []
   },
   "source": [
    "## microbit radio-logger\n",
    "\n",
    "* \"packet sniffer\"\n",
    "* logging van tekst-berichten en IoT-berichten\n",
    "* debugging van gateway(!) en van IoT-netwerk"
   ]
  },
  {
   "cell_type": "markdown",
   "id": "e98ea797-9bc9-4471-9193-e4277de3337d",
   "metadata": {
    "slideshow": {
     "slide_type": "slide"
    },
    "tags": []
   },
   "source": [
    "## IoT vs. web\n",
    "\n",
    "|               | web          | IoT  |\n",
    "| :---          | :---         | :--- |\n",
    "| protocol(len) | HTTP         | MQTT, COAP, e.v.a. |\n",
    "| adressering   | URL          | MQTT domein+topic, e.v.a. |\n",
    "| payload       | HTML, e.v.a. | JSON, e.v.a. |\n",
    "| standaardisatie? | uniform (browser!)  | veel verschillende... |"
   ]
  },
  {
   "cell_type": "markdown",
   "id": "ee0e4641-358c-4767-a163-bbecc0827ec8",
   "metadata": {
    "slideshow": {
     "slide_type": "slide"
    },
    "tags": []
   },
   "source": [
    "## Opdracht 1: IoT-knoop\n",
    "\n",
    "* programmeer een microbit als IoT-knoop\n",
    "* programmeer een microbit als radio-logger"
   ]
  },
  {
   "cell_type": "markdown",
   "id": "96bc6094-4634-4014-9057-81cc684d7b51",
   "metadata": {
    "slideshow": {
     "slide_type": "slide"
    },
    "tags": []
   },
   "source": [
    "## Opdracht 2: MQTT\n",
    "\n",
    "* MQTT chat (0)\n",
    "* MQTT chat (1)\n",
    "* MQTT sensoren (JSON)\n",
    "* MQTT actuatoren (JSON)"
   ]
  },
  {
   "cell_type": "markdown",
   "id": "a4049d64-5d02-49f5-b4dd-3d6161aa8e16",
   "metadata": {
    "slideshow": {
     "slide_type": "slide"
    },
    "tags": []
   },
   "source": [
    "## Opdracht 3: NodeRed\n",
    "\n",
    "* kennismaking NodeRed\n",
    "* eerste flows"
   ]
  },
  {
   "cell_type": "markdown",
   "id": "dff15344-db80-45eb-b160-144eb65f4920",
   "metadata": {
    "slideshow": {
     "slide_type": "slide"
    },
    "tags": []
   },
   "source": [
    "## Volgende bijeenkomsten:\n",
    "\n",
    "2:\n",
    "\n",
    "* IoT-gateway\n",
    "* NodeRed: dashboard\n",
    "* presence-sensor\n",
    "\n",
    "3:\n",
    "\n",
    "* NodeRed: sturen (actuatoren)\n",
    "* toepassing"
   ]
  }
 ],
 "metadata": {
  "kernelspec": {
   "display_name": "Python 3 (ipykernel)",
   "language": "python",
   "name": "python3"
  },
  "language_info": {
   "codemirror_mode": {
    "name": "ipython",
    "version": 3
   },
   "file_extension": ".py",
   "mimetype": "text/x-python",
   "name": "python",
   "nbconvert_exporter": "python",
   "pygments_lexer": "ipython3",
   "version": "3.10.11"
  }
 },
 "nbformat": 4,
 "nbformat_minor": 5
}
