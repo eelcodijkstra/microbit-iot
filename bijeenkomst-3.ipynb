{
 "cells": [
  {
   "cell_type": "markdown",
   "id": "5d37f1d3-9782-487c-b863-013430b894f9",
   "metadata": {},
   "source": [
    "# Bijeenkomst 3"
   ]
  }
 ],
 "metadata": {
  "kernelspec": {
   "display_name": "Python 3 (ipykernel)",
   "language": "python",
   "name": "python3"
  },
  "language_info": {
   "codemirror_mode": {
    "name": "ipython",
    "version": 3
   },
   "file_extension": ".py",
   "mimetype": "text/x-python",
   "name": "python",
   "nbconvert_exporter": "python",
   "pygments_lexer": "ipython3",
   "version": "3.10.10"
  }
 },
 "nbformat": 4,
 "nbformat_minor": 5
}
