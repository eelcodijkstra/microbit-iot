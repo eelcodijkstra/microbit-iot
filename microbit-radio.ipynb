{
 "cells": [
  {
   "cell_type": "markdown",
   "id": "638a235c-94a9-43c8-b691-c2fa96f05903",
   "metadata": {},
   "source": [
    "# microbit-radio\n",
    "\n",
    "(We moeten hiervoor nog een andere naam bedenken.)\n",
    "\n",
    "De onderstaande code is bedoeld voor de microbit die als radio-zender en -ontvanger fungeert van de gateway: de verbinding tussen de gateway en het microbit sensornetwerk.\n",
    "\n",
    "Deze microbit ontvangt een radio-bericht en stuurt dat hex-gecodeerd door via de seriële verbinding naar de gateway; een hex-gecodeerd bericht ontvangen via de seriële verbinding wordt via de radio verstuurt naar het netwerk.\n",
    "\n",
    "Deze microbit voert geen controles uit: de berichten worden doorgestuurd zoals ze ontvangen zijn."
   ]
  },
  {
   "cell_type": "code",
   "execution_count": null,
   "id": "467bb9a9-898a-465e-b771-14636d10f198",
   "metadata": {},
   "outputs": [],
   "source": [
    "from microbit import *\n",
    "import radio\n",
    "import micropython\n",
    "\n",
    "uart.init(baudrate=9600,rx=pin0,tx=pin1)\n",
    "micropython.kbd_intr(-1)\n",
    "in_buf = b''\n",
    "out_buf = b''\n",
    "LF = b'\\n'\n",
    "\n",
    "hex = '0123456789ABCDEF'\n",
    "\n",
    "def nibble(char):\n",
    "    if char >= ord('0') and char <= ord('9'):\n",
    "        return char - ord('0')\n",
    "    elif char >= ord('A') and char <= ord('F'):\n",
    "        return 10 + char - ord('A')\n",
    "    elif char >= ord('a') and char <= ord('f'):\n",
    "        return 10 + char - ord('a')\n",
    "    else:\n",
    "        return 0\n",
    "\n",
    "def hex_to_bytes(data):\n",
    "    # input bytes or string; only hex chars; even length\n",
    "    # output bytes\n",
    "    if type(data) == str:\n",
    "        data = bytes(data, 'ascii')\n",
    "    res = []\n",
    "    assert(len(data) % 2 == 0)\n",
    "    i = 0\n",
    "    while i+1 < len(data):\n",
    "        byte = nibble(data[i]) * 16 + nibble(data[i+1])\n",
    "        i += 2\n",
    "        res.append(byte)\n",
    "    return bytes(res)\n",
    "\n",
    "def bytes_to_hex(data):\n",
    "    # input: bytes or int list\n",
    "    # output: hex bytes\n",
    "    res = ''\n",
    "    for i in data:\n",
    "        res += hex[i // 16] + hex[i % 16]\n",
    "    return bytes(res, 'ascii')\n",
    "\n",
    "radio.on()\n",
    "while True:\n",
    "    if button_a.was_pressed():\n",
    "        uart.init(baudrate=115200)  # restore host connection\n",
    "\n",
    "    if uart.any():\n",
    "        in_buf = in_buf + uart.read()  # not OK for microbit Python editor?\n",
    "        \n",
    "    pos = in_buf.find(LF)\n",
    "    if pos >= 0 :                                  # complete line found\n",
    "        radio.send_bytes(hex_to_bytes(in_buf[0:pos]))  # handle first line (excl.LF)\n",
    "        in_buf = in_buf[pos+1:]                    # and keep the rest (excl. LF)\n",
    "\n",
    "    if len(out_buf) > 0: # and uart.tx_done():\n",
    "        w_len = uart.write(out_buf)\n",
    "        out_buf = out_buf[w_len:]\n",
    "\n",
    "    rec_bytes = radio.receive_bytes()\n",
    "    if rec_bytes != None:\n",
    "        out_buf = out_buf + bytes_to_hex(rec_bytes) + LF    \n"
   ]
  },
  {
   "cell_type": "markdown",
   "id": "9c726e91-9c5d-4e1d-b425-e25b542f7838",
   "metadata": {},
   "source": [
    "Commentaar bij bovenstaande:\n",
    "\n",
    "* `in_buf` is de data die via de uart binnenkomt\n",
    "* `out_buf` is de data die via de uart verstuurd wordt\n",
    "* `rec_bytes` is de data van de radio\n",
    "* de data naar de radio wordt zonder extra buffer verstuurd.\n",
    "    * er is daarbij geen controle op de lengte van het bericht...\n",
    "    * de veronderstelling is dat die klein is voor actuator-berichten\n",
    "\n",
    "Er zijn in de radio-microbit geen print-statements mogelijk, omdat de seriële output gebruikt wordt door de uart! (Eventueel kunnen we later een display gebruiken?)\n",
    "\n"
   ]
  },
  {
   "cell_type": "markdown",
   "id": "9ac42399-bc7b-4c50-99b4-658fbc778eff",
   "metadata": {},
   "source": [
    "De regel\n",
    "\n",
    "```\n",
    "in_buf = in_buf + uart.read()\n",
    "```\n",
    "\n",
    "geeft een foutmelding in de microbit Python editor - die ik niet kan plaatsen. De code werkt wel in de microbit. (Op een of andere manier klopt de type-controle in de editor niet?)\n"
   ]
  },
  {
   "cell_type": "code",
   "execution_count": 4,
   "id": "d84d80a0-eefa-4660-ab77-a5b4fea8a0af",
   "metadata": {},
   "outputs": [
    {
     "name": "stdout",
     "output_type": "stream",
     "text": [
      "B\n",
      "66\n"
     ]
    }
   ],
   "source": [
    "hex_string = '0123456789ABCDEF'\n",
    "hex_bytes = b'0123456789ABCEDF'\n",
    "\n",
    "print(hex_string[11]) # returns char (string) 'B'\n",
    "print(hex_bytes[11])  # returns int 66"
   ]
  },
  {
   "cell_type": "code",
   "execution_count": null,
   "id": "969a67df-ff4e-4de2-9af9-875edbe0d4a9",
   "metadata": {},
   "outputs": [],
   "source": []
  }
 ],
 "metadata": {
  "kernelspec": {
   "display_name": "Python 3 (ipykernel)",
   "language": "python",
   "name": "python3"
  },
  "language_info": {
   "codemirror_mode": {
    "name": "ipython",
    "version": 3
   },
   "file_extension": ".py",
   "mimetype": "text/x-python",
   "name": "python",
   "nbconvert_exporter": "python",
   "pygments_lexer": "ipython3",
   "version": "3.10.11"
  }
 },
 "nbformat": 4,
 "nbformat_minor": 5
}
