{
 "cells": [
  {
   "cell_type": "markdown",
   "id": "6b17d3a3-afb2-45cb-92aa-2582113b3cfc",
   "metadata": {},
   "source": [
    "# Bijeenkomst 1"
   ]
  },
  {
   "cell_type": "markdown",
   "id": "cf118715-4ab5-47a0-8ca3-67ef9771d64d",
   "metadata": {},
   "source": [
    "* wat is het internet of things? - IoT als ontwikkeling van het internet, na het web.\n",
    "* IoT: waarom? - slimme oplossingen, betere beslissingen\n",
    "* IoT: hoe? - onderdelen en hun verbindingen, relaties\n",
    "* IoT-knoop - opbouw, onderdelen\n",
    "* protocollen: MQTT;\n",
    "* MQTT - publish/subscribe principe; topic, payload keuzes (JSON)\n",
    "* draadloze IoT-knopen: keuze van een radio"
   ]
  },
  {
   "cell_type": "markdown",
   "id": "bbd0fc60-663e-49ec-a1cf-451178e465ed",
   "metadata": {},
   "source": [
    "Het IoT (internet of things) is een volgende stap in de ontwikkeling van het internet, na het web. Het web vormt de (grafische) gebruikersinterface voor het internet, en de verbinding van het internet naar mensen. Het IoT verbindt *fysieke dingen* en omgevingen met het internet, en maakt het mogelijk deze automatisch te monitoren (bewaken) en te besturen. In het bijzonder zorgt het IoT voor de verbinding van het internet naar machines.\n",
    "Dit maakt het mogelijk dat machines via het internet met machines communiceren, maar ook mensen met machines.\n",
    "\n",
    "* lesmateriaal: "
   ]
  },
  {
   "cell_type": "markdown",
   "id": "96d9d08a-a5c7-4440-a743-347d3d0c6ba9",
   "metadata": {},
   "source": [
    "## Praktische opdrachten"
   ]
  },
  {
   "cell_type": "markdown",
   "id": "9c2a3937-5e5e-4bf8-9116-9869ad19328a",
   "metadata": {},
   "source": [
    "### Payload formaten\n",
    "\n",
    "Voor het micro:bit IoT-netwerk gebruiken we het binaire Cayenne Low Power Payload formaat.\n",
    "Dit formaat wordt ook in LoRaWan netwerken gebruikt; zie bijvoorbeeld: https://docs.mydevices.com/docs/lorawan/cayenne-lpp.\n",
    "\n",
    "Een pakket in dit netwerk begint met een **5-byte header**, gevolgd door de **payload in LPP formaat**. \n",
    "\n",
    "> Voor de verschillende soorten IoT-knopen (WiFi, RF69, LoRaWan, micro:bit) gebruiken we zoveel mogelijk dezelfde indeling van de kanalen voor de verschillende sensoren: de bijdehorende NodeRed flows zijn dan niet afhankelijk van de gebruikte IoT-knoop.\n",
    "\n",
    "**Header:**\n",
    "\n",
    "* 1 byte: protocol-ID (0x0A voor uplink-pakketten, van IoT-knoop naar gateway; 0x0B voor downlink-pakketten)\n",
    "* 2 byte: node-ID (adres van afzender bij uplink cq. bestemming bij downlink)\n",
    "* 2 byte: counter\n",
    "\n",
    "De 2-byte getallen worden gegeven in de volgorde: hi byte, low byte. \n",
    "\n",
    "Een pakket bevat maar 1 adres, omdat het andere adres impliciet de gateway is, aangegeven door uplink of downlink. De IoT-nodes kunnen niet onderling communiceren.\n",
    "\n",
    "**Payload:**\n",
    "\n",
    "| channel | tag  | type        | data size | data resolution per bit| opmerking (microbit) |\n",
    "| :---    | ---: | :---        | :---: | :---      | :---|\n",
    "| 0       |  1   | dOut        | 1  | 1         | display, led0 (pin0)|\n",
    "| 1       |  1   | dOut        | 1  | 1         | led1 (pin1)         |\n",
    "| 2       |  0   | dIn         | 1  | 1         | button A            |\n",
    "| 3       |  0   | dIn         | 1  | 1         | button B            |\n",
    "| 4       |  103 | temperature | 2  | 0.1°C Signed MSB | microbit temperature |\n",
    "| 5       |  115 | barometer   | 2  | 0.1 hPa Unsigned MSB | (gereserveerd) |\n",
    "| 6       |  104 | humidity    | 1  | 0.5 % Unsigned | (gereserveerd) |\n",
    "| 7       |  102  | presence   | 1  | 1     | shake, PIR sensor |\n",
    "| 8       |  2   | aIn         | 2  | 0.01  | light level (display) |\n",
    "\n",
    "De kanalen 5 en 6 zijn gereserveerd voor *barometer* en *humidity*; daarvoor moet je extra sensoren aansluiten op de microbit.\n",
    "\n",
    "> Bij andere IoT-knopen zijn *barometer* en *humidity* soms standaard aanwezig.\n",
    "\n",
    "Als je andere sensoren of actuatoren toevoegt aan de microbit, dan moet je daarvoor kanalen 9 en hoger gebruiken, met een passende keuze voor het type.\n",
    "\n",
    "**Voorbeeld van een pakket in binair LPP formaat**\n",
    "\n",
    "**Voorbeeld van een pakket in JSON-LPP string-formaat**\n",
    "\n",
    "```\n",
    " {\"nodeid\": \"3b52\",\n",
    "  \"counter\": 5261,\n",
    "  \"payload\": {\"4\": {\"temperature\": 260}, \n",
    "              \"8\": {\"aIn\": 8}, \n",
    "              \"1\": {\"dOut\": 0}, \n",
    "              \"0\": {\"dOut\": 1}, \n",
    "              \"3\": {\"dIn\": 0}, \n",
    "              \"2\": {\"dIn\": 0}}}\n",
    " ```"
   ]
  },
  {
   "cell_type": "markdown",
   "id": "14c59a29-2d09-4c5d-ac9c-8f2f913d5c93",
   "metadata": {},
   "source": [
    "### MQTT"
   ]
  },
  {
   "cell_type": "markdown",
   "id": "d7129a26-e594-4617-8ddb-ec7d9c957712",
   "metadata": {},
   "source": [
    "* hoe werkt publish/subscribe? (...anders dan client/server)\n",
    "    * eerst met algemeen topic: \"chat\"\n",
    "    * iedereen krijgt alle berichten\n",
    "    * dan met toevoeging van gebruikersnaam: \"chat/hans\".\n",
    "    * (eerder de afzender dan de bestemming?)\n",
    "    * abonneren op \"chat/+\" - je ziet dan de afzender van de berichten\n",
    "    * NB: je kunt geen \"broadcast\" doen, wildcards zijn alleen mogelijk met subscribe.\n",
    "    * hoe werkt dit achter de schermen? - de app, en de mqtt broker (mosquitto) op een publieke server (kun je ook op een raspberry pi installeren, maar dan niet publiek).\n",
    "* MQTT: publish/subscribe; topic (en adressering); payload (MQTT begrippen)\n",
    "* **gesimuleerde IoT-knopen?** - o.a. nodig voor NodeRed."
   ]
  },
  {
   "cell_type": "markdown",
   "id": "31c24cde-bca9-4fee-9910-81bb9d2648e5",
   "metadata": {},
   "source": [
    "## microbit radio"
   ]
  },
  {
   "cell_type": "markdown",
   "id": "dadee799-1f48-415c-b10c-b3e8979a99fc",
   "metadata": {},
   "source": [
    "* installeren van microbit iot-knoop software (elementaire versie)\n",
    "    * gebruik van de online editor of van een desktop editor.\n",
    "    * deze versie kun je gebruiken zonder extra sensoren en actuatoren\n",
    "* installeren van de logger-software\n",
    "* de berichten kun je volgen via de logger (=\"packet snifffer\")\n",
    "    * nb: de berichten worden niet versleuteld, als in een wifi netwerk... (de versleuteling is per netwerk, niet per bericht... iedereen kan meeluisteren.)"
   ]
  },
  {
   "cell_type": "markdown",
   "id": "05d4e4f6-6fd6-419a-b321-3285aaf8e1e4",
   "metadata": {},
   "source": [
    "onderwerpen:"
   ]
  },
  {
   "cell_type": "markdown",
   "id": "ebf41f00-f7b6-4fd5-9dc3-b7a43519fd9a",
   "metadata": {},
   "source": [
    "* pakketradio, kleine berichten\n",
    "* broadcast (...wel handig voor logging...)\n",
    "* payload: identificatie van protocol (tekst, en onze eigen LPP protocollen)\n",
    "* LPP: binair gecodeeerde sensordata\n",
    "* IoT-knoop microbit: versturen van LPP berichten\n",
    "    * in eerste instantie: gebaseerd op knoppen en temperatuur; mogelijk ook lichtniveau?\n",
    "* microbit logger: ontvangt microbit-berichten, en toont deze via de host."
   ]
  },
  {
   "cell_type": "markdown",
   "id": "f4788659-1b16-4546-be9d-e59f061a784a",
   "metadata": {},
   "source": [
    "Evt. huiswerk: extra sensoren toevoegen aan de microbit?)"
   ]
  },
  {
   "cell_type": "markdown",
   "id": "3c12b149-e38f-4077-9410-4aabc8d0e76d",
   "metadata": {},
   "source": [
    "(Kun je dit ook doen als je geen microbit hebt? Je hebt in elk geval 2 microbits nodig; het WiFi-bordje is nog niet nodig.)"
   ]
  },
  {
   "cell_type": "markdown",
   "id": "0393c4e2-a2b6-43ce-922e-fd6a03cd5f6f",
   "metadata": {},
   "source": [
    "## NodeRed"
   ]
  },
  {
   "cell_type": "markdown",
   "id": "79da5b19-9084-4a8e-8c8f-f9bf5e005350",
   "metadata": {},
   "source": [
    "* kennismaking met NodeRed\n",
    "* eenvoudige oefeningen? (Dashboard?)\n",
    "* nb: we kunnen vrij eenvoudig een aantal flows klaarzetten."
   ]
  },
  {
   "cell_type": "markdown",
   "id": "9931b3b8-1934-4331-8267-919ddd3b8d58",
   "metadata": {},
   "source": []
  }
 ],
 "metadata": {
  "kernelspec": {
   "display_name": "Python 3 (ipykernel)",
   "language": "python",
   "name": "python3"
  },
  "language_info": {
   "codemirror_mode": {
    "name": "ipython",
    "version": 3
   },
   "file_extension": ".py",
   "mimetype": "text/x-python",
   "name": "python",
   "nbconvert_exporter": "python",
   "pygments_lexer": "ipython3",
   "version": "3.10.10"
  }
 },
 "nbformat": 4,
 "nbformat_minor": 5
}
